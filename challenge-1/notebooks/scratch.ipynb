{
 "cells": [
  {
   "cell_type": "code",
   "execution_count": 38,
   "id": "ae03ca03",
   "metadata": {},
   "outputs": [],
   "source": [
    "import itertools\n",
    "import math\n",
    "import random"
   ]
  },
  {
   "cell_type": "code",
   "execution_count": 39,
   "id": "7c522955",
   "metadata": {},
   "outputs": [],
   "source": [
    "random.seed(10)"
   ]
  },
  {
   "cell_type": "markdown",
   "id": "09cec7dd",
   "metadata": {},
   "source": [
    "# Test Permutation Normalization"
   ]
  },
  {
   "cell_type": "code",
   "execution_count": 40,
   "id": "8513fb8c",
   "metadata": {},
   "outputs": [],
   "source": [
    "def nPr(n, r=2):\n",
    "    return int(math.factorial(n)/math.factorial(n-r))"
   ]
  },
  {
   "cell_type": "code",
   "execution_count": 41,
   "id": "861c4485",
   "metadata": {},
   "outputs": [],
   "source": [
    "SAMP_MULT = 4\n",
    "NUM_PERMS = {\n",
    "    ii: nPr(ii) for ii in range(2,101)\n",
    "}\n",
    "PERM_RATIO = {\n",
    "    ii: (SAMP_MULT * ii) / NUM_PERMS[ii] for ii in range(2,101)\n",
    "}"
   ]
  },
  {
   "cell_type": "code",
   "execution_count": 42,
   "id": "186a397d",
   "metadata": {},
   "outputs": [],
   "source": [
    "fake_sents = [\n",
    "    ['a', 'b'],\n",
    "    ['a', 'b', 'c'],\n",
    "    ['a', 'b', 'c', 'd'],\n",
    "    ['a', 'b', 'c', 'd', 'e'],\n",
    "    ['a', 'b', 'c', 'd', 'e', 'f'],\n",
    "]"
   ]
  },
  {
   "cell_type": "code",
   "execution_count": 43,
   "id": "f4d1ac28",
   "metadata": {},
   "outputs": [
    {
     "name": "stdout",
     "output_type": "stream",
     "text": [
      "2 2.0 2 2 [('a', 'b'), ('b', 'a')]\n",
      "6 6.0 4 4 [('a', 'b'), ('a', 'c'), ('b', 'a'), ('b', 'c'), ('c', 'a'), ('c', 'b')]\n",
      "12 12.0 6 6 [('a', 'b'), ('a', 'c'), ('a', 'd'), ('b', 'a'), ('b', 'c'), ('b', 'd'), ('c', 'a'), ('c', 'b'), ('c', 'd'), ('d', 'a'), ('d', 'b'), ('d', 'c')]\n",
      "20 20.0 8 8 [('a', 'b'), ('a', 'c'), ('a', 'd'), ('a', 'e'), ('b', 'a'), ('b', 'c'), ('b', 'd'), ('b', 'e'), ('c', 'a'), ('c', 'b'), ('c', 'd'), ('c', 'e'), ('d', 'a'), ('d', 'b'), ('d', 'c'), ('d', 'e'), ('e', 'a'), ('e', 'b'), ('e', 'c'), ('e', 'd')]\n",
      "30 30.0 10 10 [('a', 'b'), ('a', 'c'), ('a', 'd'), ('a', 'e'), ('a', 'f'), ('b', 'a'), ('b', 'c'), ('b', 'd'), ('b', 'e'), ('b', 'f'), ('c', 'a'), ('c', 'b'), ('c', 'd'), ('c', 'e'), ('c', 'f'), ('d', 'a'), ('d', 'b'), ('d', 'c'), ('d', 'e'), ('d', 'f'), ('e', 'a'), ('e', 'b'), ('e', 'c'), ('e', 'd'), ('e', 'f'), ('f', 'a'), ('f', 'b'), ('f', 'c'), ('f', 'd'), ('f', 'e')]\n"
     ]
    }
   ],
   "source": [
    "for sent in fake_sents:\n",
    "    perms = list(itertools.permutations(sent, 2))\n",
    "    n_tot = math.factorial(len(sent)) / (math.factorial(len(sent)-2))\n",
    "    n_apr = (len(sent) - 1) * 2\n",
    "    w_1 = len([el for el in perms if 'a' in el])\n",
    "    print(len(perms), n_tot, w_1, n_apr, perms)"
   ]
  },
  {
   "cell_type": "code",
   "execution_count": 44,
   "id": "7c2e7135",
   "metadata": {},
   "outputs": [
    {
     "name": "stdout",
     "output_type": "stream",
     "text": [
      "['a', 'b']\n",
      "0\n",
      "0 0 1 ('a', 'b')\n",
      "0 1 1 ('a', 'b')\n",
      "\n",
      "1\n",
      "1 0 0 ('b', 'a')\n",
      "1 1 0 ('b', 'a')\n",
      "\n",
      "['a', 'b', 'c']\n",
      "0\n",
      "0 0 1 ('a', 'b')\n",
      "0 1 1 ('a', 'b')\n",
      "\n",
      "1\n",
      "1 0 2 ('b', 'c')\n",
      "1 1 0 ('b', 'a')\n",
      "\n",
      "2\n",
      "2 0 0 ('c', 'a')\n",
      "2 1 1 ('c', 'b')\n",
      "\n",
      "['a', 'b', 'c', 'd']\n",
      "0\n",
      "0 0 2 ('a', 'c')\n",
      "0 1 1 ('a', 'b')\n",
      "\n",
      "1\n",
      "1 0 2 ('b', 'c')\n",
      "1 1 0 ('b', 'a')\n",
      "\n",
      "2\n",
      "2 0 3 ('c', 'd')\n",
      "2 1 1 ('c', 'b')\n",
      "\n",
      "3\n",
      "3 0 2 ('d', 'c')\n",
      "3 1 2 ('d', 'c')\n",
      "\n",
      "['a', 'b', 'c', 'd', 'e']\n",
      "0\n",
      "0 0 2 ('a', 'c')\n",
      "0 1 3 ('a', 'd')\n",
      "\n",
      "1\n",
      "1 0 2 ('b', 'c')\n",
      "1 1 2 ('b', 'c')\n",
      "\n",
      "2\n",
      "2 0 1 ('c', 'b')\n",
      "2 1 3 ('c', 'd')\n",
      "\n",
      "3\n",
      "3 0 1 ('d', 'b')\n",
      "3 1 4 ('d', 'e')\n",
      "\n",
      "4\n",
      "4 0 3 ('e', 'd')\n",
      "4 1 0 ('e', 'a')\n",
      "\n",
      "['a', 'b', 'c', 'd', 'e', 'f']\n",
      "0\n",
      "0 0 4 ('a', 'e')\n",
      "0 1 1 ('a', 'b')\n",
      "\n",
      "1\n",
      "1 0 2 ('b', 'c')\n",
      "1 1 4 ('b', 'e')\n",
      "\n",
      "2\n",
      "2 0 1 ('c', 'b')\n",
      "2 1 5 ('c', 'f')\n",
      "\n",
      "3\n",
      "3 0 4 ('d', 'e')\n",
      "3 1 0 ('d', 'a')\n",
      "\n",
      "4\n",
      "4 0 5 ('e', 'f')\n",
      "4 1 2 ('e', 'c')\n",
      "\n",
      "5\n",
      "5 0 4 ('f', 'e')\n",
      "5 1 1 ('f', 'b')\n",
      "\n"
     ]
    }
   ],
   "source": [
    "SAMP_MULT = 2\n",
    "\n",
    "def random_int_except(a, b, no):\n",
    "    x = random.randint(a,b)\n",
    "    while x == no:\n",
    "        x = random.randint(a,b)\n",
    "    return x\n",
    "\n",
    "for sent in fake_sents:\n",
    "    print(sent)\n",
    "    # for each element of sent\n",
    "    for ii in range(len(sent)):\n",
    "        print(ii)\n",
    "        for nn in range(SAMP_MULT):\n",
    "            jj = random_int_except(0, len(sent)-1, ii)\n",
    "            pair = (sent[ii], sent[jj])\n",
    "            print(ii, nn, jj, pair)\n",
    "        print()"
   ]
  },
  {
   "cell_type": "code",
   "execution_count": 15,
   "id": "57c46f8d",
   "metadata": {},
   "outputs": [
    {
     "data": {
      "text/plain": [
       "0"
      ]
     },
     "execution_count": 15,
     "metadata": {},
     "output_type": "execute_result"
    }
   ],
   "source": [
    "random.randint(0,1)"
   ]
  },
  {
   "cell_type": "code",
   "execution_count": null,
   "id": "5f9aea7e",
   "metadata": {},
   "outputs": [],
   "source": []
  }
 ],
 "metadata": {
  "kernelspec": {
   "display_name": "Python 3 (ipykernel)",
   "language": "python",
   "name": "python3"
  },
  "language_info": {
   "codemirror_mode": {
    "name": "ipython",
    "version": 3
   },
   "file_extension": ".py",
   "mimetype": "text/x-python",
   "name": "python",
   "nbconvert_exporter": "python",
   "pygments_lexer": "ipython3",
   "version": "3.7.13"
  }
 },
 "nbformat": 4,
 "nbformat_minor": 5
}
