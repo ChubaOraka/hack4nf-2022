{
 "cells": [
  {
   "cell_type": "code",
   "execution_count": 1,
   "id": "ae03ca03",
   "metadata": {},
   "outputs": [],
   "source": [
    "import itertools\n",
    "import math"
   ]
  },
  {
   "cell_type": "markdown",
   "id": "09cec7dd",
   "metadata": {},
   "source": [
    "# Test Permutation Normalization"
   ]
  },
  {
   "cell_type": "code",
   "execution_count": 2,
   "id": "f4d1ac28",
   "metadata": {},
   "outputs": [
    {
     "name": "stdout",
     "output_type": "stream",
     "text": [
      "2 2.0 2 2 [('a', 'b'), ('b', 'a')]\n",
      "6 6.0 4 4 [('a', 'b'), ('a', 'c'), ('b', 'a'), ('b', 'c'), ('c', 'a'), ('c', 'b')]\n",
      "12 12.0 6 6 [('a', 'b'), ('a', 'c'), ('a', 'd'), ('b', 'a'), ('b', 'c'), ('b', 'd'), ('c', 'a'), ('c', 'b'), ('c', 'd'), ('d', 'a'), ('d', 'b'), ('d', 'c')]\n",
      "20 20.0 8 8 [('a', 'b'), ('a', 'c'), ('a', 'd'), ('a', 'e'), ('b', 'a'), ('b', 'c'), ('b', 'd'), ('b', 'e'), ('c', 'a'), ('c', 'b'), ('c', 'd'), ('c', 'e'), ('d', 'a'), ('d', 'b'), ('d', 'c'), ('d', 'e'), ('e', 'a'), ('e', 'b'), ('e', 'c'), ('e', 'd')]\n",
      "30 30.0 10 10 [('a', 'b'), ('a', 'c'), ('a', 'd'), ('a', 'e'), ('a', 'f'), ('b', 'a'), ('b', 'c'), ('b', 'd'), ('b', 'e'), ('b', 'f'), ('c', 'a'), ('c', 'b'), ('c', 'd'), ('c', 'e'), ('c', 'f'), ('d', 'a'), ('d', 'b'), ('d', 'c'), ('d', 'e'), ('d', 'f'), ('e', 'a'), ('e', 'b'), ('e', 'c'), ('e', 'd'), ('e', 'f'), ('f', 'a'), ('f', 'b'), ('f', 'c'), ('f', 'd'), ('f', 'e')]\n"
     ]
    }
   ],
   "source": [
    "fake_sents = [\n",
    "    ['a', 'b'],\n",
    "    ['a', 'b', 'c'],\n",
    "    ['a', 'b', 'c', 'd'],\n",
    "    ['a', 'b', 'c', 'd', 'e'],\n",
    "    ['a', 'b', 'c', 'd', 'e', 'f'],\n",
    "]\n",
    "for sent in fake_sents:\n",
    "    perms = list(itertools.permutations(sent, 2))\n",
    "    n_tot = math.factorial(len(sent)) / (math.factorial(len(sent)-2))\n",
    "    n_apr = (len(sent) - 1) * 2\n",
    "    w_1 = len([el for el in perms if 'a' in el])\n",
    "    print(len(perms), n_tot, w_1, n_apr, perms)"
   ]
  },
  {
   "cell_type": "code",
   "execution_count": null,
   "id": "7c2e7135",
   "metadata": {},
   "outputs": [],
   "source": []
  }
 ],
 "metadata": {
  "kernelspec": {
   "display_name": "Python 3 (ipykernel)",
   "language": "python",
   "name": "python3"
  },
  "language_info": {
   "codemirror_mode": {
    "name": "ipython",
    "version": 3
   },
   "file_extension": ".py",
   "mimetype": "text/x-python",
   "name": "python",
   "nbconvert_exporter": "python",
   "pygments_lexer": "ipython3",
   "version": "3.10.6"
  }
 },
 "nbformat": 4,
 "nbformat_minor": 5
}
