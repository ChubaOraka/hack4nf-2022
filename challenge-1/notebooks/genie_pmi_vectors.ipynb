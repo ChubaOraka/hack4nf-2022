{
 "cells": [
  {
   "cell_type": "markdown",
   "id": "7872be71",
   "metadata": {},
   "source": [
    "# Create gene vectors from mutations and CNA data\n",
    "\n",
    "Use cooccurrence statistics to create gene vectors. \n",
    "\n",
    "[Stop Using word2vec](https://multithreaded.stitchfix.com/blog/2017/10/18/stop-using-word2vec/)\n",
    "\n",
    "[PMI Word Vectors from Wikipedia](https://www.kaggle.com/code/kenshoresearch/kdwd-pmi-word-vectors)\n",
    "\n",
    "[Improving Distributional Similarity with Lessons Learned from Word Embeddings](https://aclanthology.org/Q15-1016/) (LGD15)\n",
    "\n"
   ]
  },
  {
   "cell_type": "markdown",
   "id": "b5ab848b",
   "metadata": {},
   "source": [
    "# Create Gene Embeddings from Tumor Sample \"Sentences\" \n",
    "\n",
    "We are going to create Gene vectors by treating them like words in sentences.\n",
    "We can then combine these to make tumor sample embeddings.\n",
    "The descriptions below are copied from LGD15. In their work, they refer \"words and their contexts\". \n",
    "We will map these idess to \"genes and their contexts\". \n",
    "To create our gene embeddings we will, \n",
    "\n",
    "* create gene-gene co-occurrence matrices. \n",
    "* calculate a pointwise mutual information matrices. \n",
    "* reduce the dimensionality using singular value decomposition. \n",
    "\n",
    "\n",
    "# Pointwise Mutual Information Matrices (Notation from LGD15)\n",
    "\n",
    "\n",
    "## Notation\n",
    "\n",
    "\n",
    "We assume a collection of words $w \\in V_W$ and their\n",
    "contexts $c \\in V_C$, where $V_W$ and $V_C$\n",
    "are the word and context vocabularies, and denote\n",
    "the collection of observed word-context pairs as $D$.\n",
    "\n",
    "We use $\\#(w,c)$ to denote the number of times the pair\n",
    "$(w,c)$ appears in $D$ and $\\#(w)$ and $\\#(c)$ to denote \n",
    "the number of times $w$ and $c$ occurred in $D$, respectively.\n",
    "\n",
    "$$\n",
    "\\begin{align}\n",
    "\\#(w) = \\sum_{c^{\\prime}} \\#(w, c^{\\prime})\n",
    ", \\quad\n",
    "\\#(c) = \\sum_{w^{\\prime}} \\#(w^{\\prime}, c)\n",
    ", \\quad\n",
    "\\lvert D \\rvert = \\sum_{w,c} \\#(w, c)\n",
    "\\end{align}\n",
    "$$\n",
    "\n",
    "\n",
    "$$\n",
    "\\begin{align}\n",
    "\\hat{P}(w) = \\frac{\\#(w)}{\\lvert D \\rvert}\n",
    ", \\quad\n",
    "\\hat{P}(c) = \\frac{\\#(c)}{\\lvert D \\rvert}\n",
    ", \\quad\n",
    "\\hat{P}(w,c) = \\frac{\\#(w,c)}{\\lvert D \\rvert}\n",
    "\\end{align}\n",
    "$$\n",
    "\n",
    "\n",
    "## Contexts\n",
    "\n",
    "$D$ is commonly obtained by taking a\n",
    "corpus $w_1$, $w_2$, . . . , $w_n$ and defining the contexts\n",
    "of word $w_i$ as the words surrounding it in an \n",
    "$L$-sized window $w_{i−L}$, . . . , $w_{i−1}$, $w_{i+1}$, . . . , $w_{i+L}$.\n",
    "\n",
    "In our case, the corpus will be genes and their contexts will be \n",
    "other genes that co-occurr in the same sample.  \n",
    "\n",
    "\n",
    "## Definitions\n",
    "\n",
    "$$\n",
    "\\begin{align}\n",
    "PMI(w, c) = \n",
    "\\log \\frac\n",
    "{\\hat{P}(w,c)}\n",
    "{\\hat{P}(w)\\hat{P}(c)} =\n",
    "\\log \\frac\n",
    "{\\#(w,c) \\, \\cdot \\lvert D \\rvert}\n",
    "{\\#(w) \\cdot \\#(c)}\n",
    "\\end{align}\n",
    "$$\n",
    "\n",
    "$$\n",
    "\\begin{align}\n",
    "PPMI(w, c) = {\\rm max} \\left[ PMI(w, c), 0 \\right]\n",
    "\\end{align}\n",
    "$$\n",
    "\n",
    "\n",
    "## Context Distribution Smoothing\n",
    "\n",
    "$$\n",
    "\\begin{align}\n",
    "PMI_{\\alpha}(w, c) = \n",
    "\\log \\frac\n",
    "{\\hat{P}(w,c)}\n",
    "{\\hat{P}(w)\\hat{P}_{\\alpha}(c)} = \n",
    "\\log \\frac\n",
    "{\\#(w,c) \\cdot \\sum_{c^{\\prime}} \\#(c^{\\prime})^{\\alpha}}\n",
    "{\\#(w) \\cdot \\#(c)^{\\alpha}}\n",
    "\\end{align}\n",
    "$$\n",
    "\n",
    "$$\n",
    "\\begin{align}\n",
    "\\hat{P}_{\\alpha}(c) = \n",
    "\\frac\n",
    "{\\#(c)^{\\alpha}}\n",
    "{\\sum_{c^{\\prime}} \\#(c^{\\prime})^{\\alpha}}\n",
    "\\end{align}\n",
    "$$"
   ]
  },
  {
   "cell_type": "code",
   "execution_count": 1,
   "id": "8363b882",
   "metadata": {},
   "outputs": [],
   "source": [
    "import itertools\n",
    "import json\n",
    "import math\n",
    "import os\n",
    "import pandas as pd"
   ]
  },
  {
   "cell_type": "code",
   "execution_count": 2,
   "id": "18d7aed0",
   "metadata": {},
   "outputs": [
    {
     "name": "stderr",
     "output_type": "stream",
     "text": [
      "2022-11-02 02:01:54.238 | INFO     | nextgenlp.synapse:<module>:36 - SYNC_PATH=/home/galtay/data/hack4nf-2022/synapse\n",
      "2022-11-02 02:01:54.239 | INFO     | nextgenlp.synapse:<module>:40 - SECRETS_PATH=/home/galtay/data/hack4nf-2022/secrets.json\n"
     ]
    }
   ],
   "source": [
    "from nextgenlp import synapse \n",
    "from nextgenlp import genie\n",
    "from nextgenlp import embedders\n",
    "from nextgenlp.config import config"
   ]
  },
  {
   "cell_type": "code",
   "execution_count": 3,
   "id": "f35eb01d",
   "metadata": {},
   "outputs": [
    {
     "data": {
      "text/html": [
       "<style>.container { width:100% !important; }</style>"
      ],
      "text/plain": [
       "<IPython.core.display.HTML object>"
      ]
     },
     "metadata": {},
     "output_type": "display_data"
    }
   ],
   "source": [
    "from IPython.display import display, HTML\n",
    "display(HTML(\"<style>.container { width:100% !important; }</style>\"))"
   ]
  },
  {
   "cell_type": "code",
   "execution_count": 4,
   "id": "ab2526a8",
   "metadata": {},
   "outputs": [],
   "source": [
    "pd.set_option('display.max_columns', 200)"
   ]
  },
  {
   "cell_type": "code",
   "execution_count": 5,
   "id": "214c7d41",
   "metadata": {},
   "outputs": [],
   "source": [
    "#GENIE_VERSION = \"genie-12.0-public\"\n",
    "GENIE_VERSION = \"genie-13.3-consortium\""
   ]
  },
  {
   "cell_type": "code",
   "execution_count": 6,
   "id": "44d7e72b",
   "metadata": {},
   "outputs": [
    {
     "name": "stdout",
     "output_type": "stream",
     "text": [
      "/home/galtay/data/hack4nf-2022/synapse\n",
      "/home/galtay/data/hack4nf-2022/embeddings\n"
     ]
    }
   ],
   "source": [
    "SYNC_PATH = config['Paths']['SYNAPSE_PATH']\n",
    "EMBEDDINGS_PATH = config['Paths']['EMBEDDINGS_PATH']\n",
    "print(SYNC_PATH)\n",
    "print(EMBEDDINGS_PATH)"
   ]
  },
  {
   "cell_type": "code",
   "execution_count": 7,
   "id": "fa8d8d71",
   "metadata": {},
   "outputs": [],
   "source": [
    "MIN_UNIGRAM_COUNT = 10\n",
    "EMBEDDING_SIZES = [25, 50, 100, 200, 300]"
   ]
  },
  {
   "cell_type": "code",
   "execution_count": 8,
   "id": "9166c5fc",
   "metadata": {},
   "outputs": [
    {
     "name": "stderr",
     "output_type": "stream",
     "text": [
      "2022-11-02 02:01:56.926 | INFO     | nextgenlp.synapse:get_file_name_to_path:86 - genie_path=/home/galtay/data/hack4nf-2022/synapse/syn36709873\n"
     ]
    },
    {
     "data": {
      "text/plain": [
       "{'assay_information': PosixPath('/home/galtay/data/hack4nf-2022/synapse/syn36709873/assay_information_13.3-consortium.txt'),\n",
       " 'data_clinical_patient': PosixPath('/home/galtay/data/hack4nf-2022/synapse/syn36709873/data_clinical_patient_13.3-consortium.txt'),\n",
       " 'data_clinical_sample': PosixPath('/home/galtay/data/hack4nf-2022/synapse/syn36709873/data_clinical_sample_13.3-consortium.txt'),\n",
       " 'data_fusions': PosixPath('/home/galtay/data/hack4nf-2022/synapse/syn36709873/data_fusions_13.3-consortium.txt'),\n",
       " 'data_gene_matrix': PosixPath('/home/galtay/data/hack4nf-2022/synapse/syn36709873/data_gene_matrix_13.3-consortium.txt'),\n",
       " 'data_mutations_extended': PosixPath('/home/galtay/data/hack4nf-2022/synapse/syn36709873/data_mutations_extended_13.3-consortium.txt'),\n",
       " 'data_CNA': PosixPath('/home/galtay/data/hack4nf-2022/synapse/syn36709873/data_CNA_13.3-consortium.txt'),\n",
       " 'data_cna_hg19': PosixPath('/home/galtay/data/hack4nf-2022/synapse/syn36709873/genie_private_data_cna_hg19_13.3-consortium.seg'),\n",
       " 'genomic_information': PosixPath('/home/galtay/data/hack4nf-2022/synapse/syn36709873/genomic_information_13.3-consortium.txt')}"
      ]
     },
     "execution_count": 8,
     "metadata": {},
     "output_type": "execute_result"
    }
   ],
   "source": [
    "syn_file_paths = synapse.get_file_name_to_path(genie_version=GENIE_VERSION)\n",
    "syn_file_paths"
   ]
  },
  {
   "cell_type": "markdown",
   "id": "8c9e6681",
   "metadata": {},
   "source": [
    "# RAS Pathway data"
   ]
  },
  {
   "cell_type": "code",
   "execution_count": 9,
   "id": "dcd32a8e",
   "metadata": {},
   "outputs": [],
   "source": [
    "df_ras = pd.read_excel(os.path.join(SYNC_PATH, '../nci-ras-initiative/ras-pathway-gene-names.xlsx'))"
   ]
  },
  {
   "cell_type": "code",
   "execution_count": 10,
   "id": "56f2ded5",
   "metadata": {},
   "outputs": [
    {
     "data": {
      "text/html": [
       "<div>\n",
       "<style scoped>\n",
       "    .dataframe tbody tr th:only-of-type {\n",
       "        vertical-align: middle;\n",
       "    }\n",
       "\n",
       "    .dataframe tbody tr th {\n",
       "        vertical-align: top;\n",
       "    }\n",
       "\n",
       "    .dataframe thead th {\n",
       "        text-align: right;\n",
       "    }\n",
       "</style>\n",
       "<table border=\"1\" class=\"dataframe\">\n",
       "  <thead>\n",
       "    <tr style=\"text-align: right;\">\n",
       "      <th></th>\n",
       "      <th>Gene name</th>\n",
       "      <th>Protein name from BioGPS</th>\n",
       "      <th>Alternative gene names from BioGPS</th>\n",
       "    </tr>\n",
       "  </thead>\n",
       "  <tbody>\n",
       "    <tr>\n",
       "      <th>0</th>\n",
       "      <td>AKT1</td>\n",
       "      <td>RAC-alpha serine/threonine-protein kinase</td>\n",
       "      <td>AKT, CWS6, PKB, PKB-ALPHA, PRKBA, RAC, RAC-ALPHA</td>\n",
       "    </tr>\n",
       "    <tr>\n",
       "      <th>1</th>\n",
       "      <td>AKT2</td>\n",
       "      <td>RAC-beta serine/threonine-protein kinase</td>\n",
       "      <td>HIHGHH, PKBB, PKBBETA, PRKBB, RAC-BETA</td>\n",
       "    </tr>\n",
       "    <tr>\n",
       "      <th>2</th>\n",
       "      <td>AKT3</td>\n",
       "      <td>RAC-gamma serine/threonine-protein kinase</td>\n",
       "      <td>MPPH, MPPH2, PKB-GAMMA, PKBG, PRKBG, RAC-PK-ga...</td>\n",
       "    </tr>\n",
       "    <tr>\n",
       "      <th>3</th>\n",
       "      <td>ALK</td>\n",
       "      <td>anaplastic lymphoma receptor tyrosine kinase; ...</td>\n",
       "      <td>CD246, NBLST3</td>\n",
       "    </tr>\n",
       "    <tr>\n",
       "      <th>4</th>\n",
       "      <td>APAF1</td>\n",
       "      <td>apoptotic peptidase activating factor 1</td>\n",
       "      <td>APAF-1, CED4</td>\n",
       "    </tr>\n",
       "    <tr>\n",
       "      <th>...</th>\n",
       "      <td>...</td>\n",
       "      <td>...</td>\n",
       "      <td>...</td>\n",
       "    </tr>\n",
       "    <tr>\n",
       "      <th>222</th>\n",
       "      <td>TSC2</td>\n",
       "      <td>Tuberous Sclerosis 2,  Tuberin</td>\n",
       "      <td>LAM, PPP1R160, TSC4</td>\n",
       "    </tr>\n",
       "    <tr>\n",
       "      <th>223</th>\n",
       "      <td>TYMS</td>\n",
       "      <td>thymidylate synthetase</td>\n",
       "      <td>HST422, TMS, TS</td>\n",
       "    </tr>\n",
       "    <tr>\n",
       "      <th>224</th>\n",
       "      <td>UNG</td>\n",
       "      <td>uracil-DNA glycosylase</td>\n",
       "      <td>DGU, HIGM4, HIGM5, UDG, UNG1, UNG15, UNG2</td>\n",
       "    </tr>\n",
       "    <tr>\n",
       "      <th>225</th>\n",
       "      <td>VAV1</td>\n",
       "      <td>vav 1 guanine nucleotide exchange factor</td>\n",
       "      <td>VAV</td>\n",
       "    </tr>\n",
       "    <tr>\n",
       "      <th>226</th>\n",
       "      <td>YAP1</td>\n",
       "      <td>Yes-associated protein 1</td>\n",
       "      <td>COB1, YAP, YAP2, YAP65, YKI</td>\n",
       "    </tr>\n",
       "  </tbody>\n",
       "</table>\n",
       "<p>227 rows × 3 columns</p>\n",
       "</div>"
      ],
      "text/plain": [
       "    Gene name                           Protein name from BioGPS  \\\n",
       "0        AKT1          RAC-alpha serine/threonine-protein kinase   \n",
       "1        AKT2          RAC-beta serine/threonine-protein kinase    \n",
       "2        AKT3          RAC-gamma serine/threonine-protein kinase   \n",
       "3         ALK  anaplastic lymphoma receptor tyrosine kinase; ...   \n",
       "4       APAF1            apoptotic peptidase activating factor 1   \n",
       "..        ...                                                ...   \n",
       "222      TSC2                     Tuberous Sclerosis 2,  Tuberin   \n",
       "223      TYMS                             thymidylate synthetase   \n",
       "224       UNG                             uracil-DNA glycosylase   \n",
       "225      VAV1           vav 1 guanine nucleotide exchange factor   \n",
       "226      YAP1                           Yes-associated protein 1   \n",
       "\n",
       "                    Alternative gene names from BioGPS  \n",
       "0     AKT, CWS6, PKB, PKB-ALPHA, PRKBA, RAC, RAC-ALPHA  \n",
       "1               HIHGHH, PKBB, PKBBETA, PRKBB, RAC-BETA  \n",
       "2    MPPH, MPPH2, PKB-GAMMA, PKBG, PRKBG, RAC-PK-ga...  \n",
       "3                                       CD246, NBLST3   \n",
       "4                                         APAF-1, CED4  \n",
       "..                                                 ...  \n",
       "222                                LAM, PPP1R160, TSC4  \n",
       "223                                    HST422, TMS, TS  \n",
       "224          DGU, HIGM4, HIGM5, UDG, UNG1, UNG15, UNG2  \n",
       "225                                                VAV  \n",
       "226                        COB1, YAP, YAP2, YAP65, YKI  \n",
       "\n",
       "[227 rows x 3 columns]"
      ]
     },
     "execution_count": 10,
     "metadata": {},
     "output_type": "execute_result"
    }
   ],
   "source": [
    "df_ras"
   ]
  },
  {
   "cell_type": "markdown",
   "id": "dafeba11",
   "metadata": {},
   "source": [
    "# GENIE Joined Mutation Data "
   ]
  },
  {
   "cell_type": "code",
   "execution_count": 11,
   "id": "6c5be30c",
   "metadata": {},
   "outputs": [],
   "source": [
    "df_dme_all = genie.read_pat_sam_mut(\n",
    "    syn_file_paths[\"data_clinical_patient\"],\n",
    "    syn_file_paths[\"data_clinical_sample\"],\n",
    "    syn_file_paths[\"data_mutations_extended\"],\n",
    ")"
   ]
  },
  {
   "cell_type": "markdown",
   "id": "180e6bda",
   "metadata": {},
   "source": [
    "# GENIE - Clinical Sample"
   ]
  },
  {
   "cell_type": "code",
   "execution_count": null,
   "id": "e12b333d",
   "metadata": {},
   "outputs": [],
   "source": [
    "df_dcs_all = genie.read_clinical_sample(syn_file_paths[\"data_clinical_sample\"])\n",
    "df_dcs_all['CENTER'] = df_dcs_all['SAMPLE_ID'].apply(lambda x: x.split('-')[1])"
   ]
  },
  {
   "cell_type": "code",
   "execution_count": null,
   "id": "b4b0a2f1",
   "metadata": {},
   "outputs": [],
   "source": [
    "df_cen_all = df_dcs_all['CENTER'].value_counts().to_frame('count')\n",
    "df_cen_all['frac'] = df_cen_all['count'] / df_cen_all['count'].sum()\n",
    "df_cen_all"
   ]
  },
  {
   "cell_type": "code",
   "execution_count": null,
   "id": "aeb88298",
   "metadata": {},
   "outputs": [],
   "source": [
    "df_dcs_all[df_dcs_all['CENTER']=='MSK']['SEQ_ASSAY_ID'].value_counts()"
   ]
  },
  {
   "cell_type": "markdown",
   "id": "2faa8805",
   "metadata": {},
   "source": [
    "# GENIE - Data CNA (Discrete Copy Number Alteration Data)\n",
    "\n",
    "https://docs.cbioportal.org/file-formats/#discrete-copy-number-data\n",
    "\n",
    "For each gene-sample combination, a copy number level is specified:\n",
    "\n",
    "* \"-2\" is a deep loss, possibly a homozygous deletion\n",
    "* \"-1\" is a single-copy loss (heterozygous deletion)\n",
    "* \"0\" is diploid\n",
    "* \"1\" indicates a low-level gain\n",
    "* \"2\" is a high-level amplification."
   ]
  },
  {
   "cell_type": "code",
   "execution_count": null,
   "id": "c32e2fe0",
   "metadata": {},
   "outputs": [],
   "source": [
    "df_cna_all = genie.read_cna(syn_file_paths['data_CNA'])\n",
    "df_cna_all = df_cna_all.fillna(0.0).abs()"
   ]
  },
  {
   "cell_type": "markdown",
   "id": "726f6be7",
   "metadata": {},
   "source": [
    "# Subset for embedding"
   ]
  },
  {
   "cell_type": "markdown",
   "id": "8b035b6b",
   "metadata": {},
   "source": [
    "### MSK-IMPACT468"
   ]
  },
  {
   "cell_type": "code",
   "execution_count": null,
   "id": "fa9a6348",
   "metadata": {},
   "outputs": [],
   "source": [
    "subset_name = \"MSK-IMPACT468\"\n",
    "df_dcs = df_dcs_all[df_dcs_all['SEQ_ASSAY_ID']=='MSK-IMPACT468']\n",
    "\n",
    "df_mut = df_mut_all[df_mut_all['SAMPLE_ID'].isin(df_dcs['SAMPLE_ID'])]\n",
    "ser_mut_tokens = df_mut.groupby('SAMPLE_ID')['Hugo_Symbol'].apply(list)\n",
    "\n",
    "df_cna = df_cna_all.loc[df_dcs['SAMPLE_ID']]\n",
    "df_cna_melted = genie.get_melted_cna(df_cna, drop_nan=True, drop_zero=True)\n",
    "ser_cna_tokens = df_cna_melted.groupby('SAMPLE_ID').apply(\n",
    "    lambda x: list(zip(x['hugo'], x['dcna']))\n",
    ")"
   ]
  },
  {
   "cell_type": "code",
   "execution_count": null,
   "id": "ec8632ca",
   "metadata": {},
   "outputs": [],
   "source": [
    "df_mut.groupby('SAMPLE_ID').apply(lambda x: list(zip(x['Hugo_Symbol'], [1.0]*len(x['Hugo_Symbol']))))"
   ]
  },
  {
   "cell_type": "code",
   "execution_count": null,
   "id": "ec05bf72",
   "metadata": {},
   "outputs": [],
   "source": [
    "for embedding_size in EMBEDDING_SIZES:\n",
    "    embds_mut = embedders.GeneMutationEmbeddings(\n",
    "        ser_mut_tokens, \n",
    "        subset_name, \n",
    "        min_unigram_count=MIN_UNIGRAM_COUNT,\n",
    "        embedding_size=embedding_size,\n",
    "    )\n",
    "    embds_mut.create_embeddings()\n",
    "    embds_mut.write_projector_files(df_dcs, df_ras, EMBEDDINGS_PATH, f'dme_{subset_name}')"
   ]
  },
  {
   "cell_type": "code",
   "execution_count": null,
   "id": "34f03be7",
   "metadata": {},
   "outputs": [],
   "source": [
    "for embedding_size in EMBEDDING_SIZES:\n",
    "    embds_cna = embedders.GeneCnaEmbeddings(\n",
    "        ser_cna_tokens, \n",
    "        subset_name, \n",
    "        min_unigram_count=MIN_UNIGRAM_COUNT,\n",
    "        embedding_size=embedding_size,\n",
    "    )\n",
    "    embds_cna.create_embeddings()\n",
    "    embds_cna.write_projector_files(df_dcs, df_ras, EMBEDDINGS_PATH, f'cna_{subset_name}')"
   ]
  },
  {
   "cell_type": "code",
   "execution_count": null,
   "id": "4c28f146",
   "metadata": {},
   "outputs": [],
   "source": []
  },
  {
   "cell_type": "markdown",
   "id": "5dc00a43",
   "metadata": {},
   "source": [
    "### ALL"
   ]
  },
  {
   "cell_type": "code",
   "execution_count": null,
   "id": "da49335c",
   "metadata": {},
   "outputs": [],
   "source": [
    "subset_name = \"ALL\"\n",
    "df_dcs = df_dcs_all\n",
    "\n",
    "df_mut = df_mut_all\n",
    "ser_mut_tokens = df_mut.groupby('SAMPLE_ID')['Hugo_Symbol'].apply(list)\n",
    "\n",
    "df_cna = df_cna_all\n",
    "df_cna_melted = genie.get_melted_cna(df_cna, drop_nan=True, drop_zero=True)\n",
    "ser_cna_tokens = df_cna_melted.groupby('SAMPLE_ID').apply(\n",
    "    lambda x: list(zip(x['hugo'], x['dcna']))\n",
    ")"
   ]
  },
  {
   "cell_type": "code",
   "execution_count": null,
   "id": "4d8cd161",
   "metadata": {},
   "outputs": [],
   "source": [
    "for embedding_size in EMBEDDING_SIZES:\n",
    "    embds_mut = embedders.GeneMutationEmbeddings(\n",
    "        ser_mut_tokens, \n",
    "        subset_name, \n",
    "        min_unigram_count=MIN_UNIGRAM_COUNT,\n",
    "        embedding_size=embedding_size,\n",
    "    )\n",
    "    embds_mut.create_embeddings()\n",
    "    embds_mut.write_projector_files(df_dcs, df_ras, EMBEDDINGS_PATH, f'dme_{subset_name}')"
   ]
  },
  {
   "cell_type": "code",
   "execution_count": null,
   "id": "3e2a0ee9",
   "metadata": {},
   "outputs": [],
   "source": [
    "for embedding_size in EMBEDDING_SIZES:\n",
    "    embds_cna = embedders.GeneCnaEmbeddings(\n",
    "        ser_cna_tokens, \n",
    "        subset_name, \n",
    "        min_unigram_count=MIN_UNIGRAM_COUNT,\n",
    "        embedding_size=embedding_size,\n",
    "    )\n",
    "    embds_cna.create_embeddings()\n",
    "    embds_cna.write_projector_files(df_dcs, df_ras, EMBEDDINGS_PATH, f'cna_{subset_name}')"
   ]
  },
  {
   "cell_type": "code",
   "execution_count": null,
   "id": "8e598e7b",
   "metadata": {},
   "outputs": [],
   "source": []
  },
  {
   "cell_type": "code",
   "execution_count": null,
   "id": "441a9769",
   "metadata": {},
   "outputs": [],
   "source": []
  },
  {
   "cell_type": "code",
   "execution_count": null,
   "id": "d8d91399",
   "metadata": {},
   "outputs": [],
   "source": []
  },
  {
   "cell_type": "code",
   "execution_count": null,
   "id": "d59a9a55",
   "metadata": {},
   "outputs": [],
   "source": [
    "df_v = pd.read_csv(\n",
    "    os.path.join(EMBEDDINGS_PATH, 'dme_MSK-IMPACT468_gene_svd_200_vecs.tsv'), \n",
    "    sep='\\t', \n",
    "    header=None,\n",
    ")"
   ]
  },
  {
   "cell_type": "code",
   "execution_count": null,
   "id": "6d8ec588",
   "metadata": {},
   "outputs": [],
   "source": [
    "df_v"
   ]
  },
  {
   "cell_type": "code",
   "execution_count": null,
   "id": "164c03e7",
   "metadata": {},
   "outputs": [],
   "source": [
    "df_m = pd.read_csv(os.path.join(EMBEDDINGS_PATH, 'dme_MSK-IMPACT468_sample_meta.tsv'), sep='\\t')"
   ]
  },
  {
   "cell_type": "code",
   "execution_count": null,
   "id": "89baca9b",
   "metadata": {
    "scrolled": true
   },
   "outputs": [],
   "source": [
    "df_m"
   ]
  },
  {
   "cell_type": "code",
   "execution_count": null,
   "id": "8cea88c7",
   "metadata": {},
   "outputs": [],
   "source": []
  },
  {
   "cell_type": "code",
   "execution_count": null,
   "id": "43ae685e",
   "metadata": {},
   "outputs": [],
   "source": []
  },
  {
   "cell_type": "code",
   "execution_count": null,
   "id": "37ce8464",
   "metadata": {},
   "outputs": [],
   "source": []
  }
 ],
 "metadata": {
  "kernelspec": {
   "display_name": "Python 3 (ipykernel)",
   "language": "python",
   "name": "python3"
  },
  "language_info": {
   "codemirror_mode": {
    "name": "ipython",
    "version": 3
   },
   "file_extension": ".py",
   "mimetype": "text/x-python",
   "name": "python",
   "nbconvert_exporter": "python",
   "pygments_lexer": "ipython3",
   "version": "3.7.13"
  }
 },
 "nbformat": 4,
 "nbformat_minor": 5
}
