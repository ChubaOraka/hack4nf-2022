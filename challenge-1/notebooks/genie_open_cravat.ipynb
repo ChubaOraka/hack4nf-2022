{
 "cells": [
  {
   "cell_type": "markdown",
   "id": "7872be71",
   "metadata": {},
   "source": [
    "# Write Open Cravat Input and Read Open Cravat Output\n"
   ]
  },
  {
   "cell_type": "code",
   "execution_count": null,
   "id": "ef119598",
   "metadata": {},
   "outputs": [],
   "source": [
    "import numpy as np\n",
    "import pandas as pd\n",
    "from tqdm import tqdm"
   ]
  },
  {
   "cell_type": "code",
   "execution_count": null,
   "id": "18d7aed0",
   "metadata": {},
   "outputs": [],
   "source": [
    "from hack4nf.synapse import get_dataset\n",
    "from hack4nf.genie_utils import (\n",
    "    read_clinical_patient, \n",
    "    read_clinical_sample, \n",
    "    read_mutations_extended,\n",
    "    read_cna,\n",
    "    read_cna_seg,\n",
    "    SYNIDS,\n",
    "    dme_to_cravat,\n",
    "    get_cna_norms,\n",
    "    get_melted_cna,\n",
    ")"
   ]
  },
  {
   "cell_type": "code",
   "execution_count": null,
   "id": "f35eb01d",
   "metadata": {},
   "outputs": [],
   "source": [
    "#from IPython.display import display, HTML\n",
    "#display(HTML(\"<style>.container { width:100% !important; }</style>\"))"
   ]
  },
  {
   "cell_type": "code",
   "execution_count": null,
   "id": "ab2526a8",
   "metadata": {},
   "outputs": [],
   "source": [
    "pd.set_option('display.max_columns', 200)"
   ]
  },
  {
   "cell_type": "code",
   "execution_count": null,
   "id": "214c7d41",
   "metadata": {},
   "outputs": [],
   "source": [
    "#genie_dataset_version = \"genie_12.0\"\n",
    "genie_dataset_version = \"genie_13.3\""
   ]
  },
  {
   "cell_type": "markdown",
   "id": "dc02c15a",
   "metadata": {},
   "source": [
    "# Synapse File Paths\n",
    "\n",
    "If you are not using the python client to sync synapse data then replace these file paths with the file paths on your local system. "
   ]
  },
  {
   "cell_type": "code",
   "execution_count": null,
   "id": "9166c5fc",
   "metadata": {},
   "outputs": [],
   "source": [
    "syn_file_paths = {\n",
    "    'data_clinical_patient': get_dataset(SYNIDS[genie_dataset_version]['data_clinical_patient']).path,\n",
    "    'data_clinical_sample': get_dataset(SYNIDS[genie_dataset_version]['data_clinical_sample']).path,\n",
    "    'data_mutations_extended': get_dataset(SYNIDS[genie_dataset_version]['data_mutations_extended']).path,\n",
    "    'data_CNA': get_dataset(SYNIDS[genie_dataset_version]['data_CNA']).path,\n",
    "    'data_cna_hg19_seg': get_dataset(SYNIDS[genie_dataset_version]['data_cna_hg19_seg']).path,\n",
    "}\n",
    "syn_file_paths"
   ]
  },
  {
   "cell_type": "code",
   "execution_count": null,
   "id": "cdc6e510",
   "metadata": {},
   "outputs": [],
   "source": [
    "cravat_file_path = f\"../data/open-cravat/challenge-1/run1/{genie_dataset_version}-oc-input.txt.variant.tsv\""
   ]
  },
  {
   "cell_type": "markdown",
   "id": "bfcfb84a",
   "metadata": {},
   "source": [
    "# GENIE - Data Mutations Extended"
   ]
  },
  {
   "cell_type": "code",
   "execution_count": null,
   "id": "b4c51dfe",
   "metadata": {
    "scrolled": false
   },
   "outputs": [],
   "source": [
    "df_dme = read_mutations_extended(syn_file_paths['data_mutations_extended'])\n",
    "df_cravat = dme_to_cravat(df_dme)\n",
    "df_cravat['INDIVIDUAL'] = range(df_dme.shape[0])\n",
    "df_dme = pd.concat([df_dme, df_cravat], axis=1)\n",
    "df_dme"
   ]
  },
  {
   "cell_type": "code",
   "execution_count": null,
   "id": "0a043fae",
   "metadata": {},
   "outputs": [],
   "source": [
    "df_cravat"
   ]
  },
  {
   "cell_type": "code",
   "execution_count": null,
   "id": "65c61f5c",
   "metadata": {},
   "outputs": [],
   "source": [
    "# only need to write once\n",
    "#df_cravat.to_csv(f'{genie_dataset_version}-oc-input.txt', sep='\\t', index=False)"
   ]
  },
  {
   "cell_type": "code",
   "execution_count": null,
   "id": "c764655a",
   "metadata": {},
   "outputs": [],
   "source": []
  },
  {
   "cell_type": "markdown",
   "id": "8712a992",
   "metadata": {},
   "source": [
    "# Read Open Cravat Output"
   ]
  },
  {
   "cell_type": "code",
   "execution_count": null,
   "id": "35fcd057",
   "metadata": {},
   "outputs": [],
   "source": [
    "df_crv_unique = pd.read_csv(cravat_file_path, sep='\\t', comment='#', low_memory=False)"
   ]
  },
  {
   "cell_type": "code",
   "execution_count": null,
   "id": "16fd05aa",
   "metadata": {},
   "outputs": [],
   "source": [
    "df_crv_unique"
   ]
  },
  {
   "cell_type": "code",
   "execution_count": null,
   "id": "f78c434f",
   "metadata": {},
   "outputs": [],
   "source": [
    "df_crv_unique['samples'] = df_crv_unique['samples'].apply(lambda x: [int(el) for el in x.split(';')])\n",
    "df_crv = df_crv_unique.explode('samples')"
   ]
  },
  {
   "cell_type": "code",
   "execution_count": null,
   "id": "097418de",
   "metadata": {},
   "outputs": [],
   "source": [
    "df = pd.merge(\n",
    "    df_dme,\n",
    "    df_crv,\n",
    "    left_on='INDIVIDUAL',\n",
    "    right_on='samples',\n",
    "    how='left',\n",
    ")"
   ]
  },
  {
   "cell_type": "code",
   "execution_count": null,
   "id": "cb981e56",
   "metadata": {},
   "outputs": [],
   "source": [
    "df"
   ]
  },
  {
   "cell_type": "code",
   "execution_count": null,
   "id": "68afb68e",
   "metadata": {},
   "outputs": [],
   "source": [
    "df_dme.shape"
   ]
  },
  {
   "cell_type": "code",
   "execution_count": null,
   "id": "72e69641",
   "metadata": {},
   "outputs": [],
   "source": []
  },
  {
   "cell_type": "code",
   "execution_count": null,
   "id": "6d511379",
   "metadata": {},
   "outputs": [],
   "source": []
  },
  {
   "cell_type": "code",
   "execution_count": null,
   "id": "3554c3ea",
   "metadata": {},
   "outputs": [],
   "source": []
  },
  {
   "cell_type": "code",
   "execution_count": null,
   "id": "bba17b5b",
   "metadata": {},
   "outputs": [],
   "source": []
  },
  {
   "cell_type": "code",
   "execution_count": null,
   "id": "dce73053",
   "metadata": {},
   "outputs": [],
   "source": [
    "df['clinvar.disease_names'] = df['clinvar.disease_names'].fillna('')"
   ]
  },
  {
   "cell_type": "code",
   "execution_count": null,
   "id": "6d815ad3",
   "metadata": {},
   "outputs": [],
   "source": [
    "clinvar_disease_names = [\n",
    "    'neurofibromatosis',\n",
    "    'au-lait macules with pulmonary stenosis',\n",
    "]"
   ]
  },
  {
   "cell_type": "code",
   "execution_count": null,
   "id": "b54a2bfc",
   "metadata": {},
   "outputs": [],
   "source": [
    "bmask0 = df['clinvar.disease_names'].str.lower().str.contains(clinvar_disease_names[0])\n",
    "bmask1 = df['clinvar.disease_names'].str.lower().str.contains(clinvar_disease_names[1])\n",
    "dns = df[bmask0 | bmask1]['clinvar.disease_names'].value_counts()\n",
    "dns"
   ]
  },
  {
   "cell_type": "code",
   "execution_count": null,
   "id": "7e147e3a",
   "metadata": {},
   "outputs": [],
   "source": []
  },
  {
   "cell_type": "code",
   "execution_count": null,
   "id": "7390e3e2",
   "metadata": {},
   "outputs": [],
   "source": []
  }
 ],
 "metadata": {
  "kernelspec": {
   "display_name": "Python 3 (ipykernel)",
   "language": "python",
   "name": "python3"
  },
  "language_info": {
   "codemirror_mode": {
    "name": "ipython",
    "version": 3
   },
   "file_extension": ".py",
   "mimetype": "text/x-python",
   "name": "python",
   "nbconvert_exporter": "python",
   "pygments_lexer": "ipython3",
   "version": "3.10.6"
  }
 },
 "nbformat": 4,
 "nbformat_minor": 5
}
