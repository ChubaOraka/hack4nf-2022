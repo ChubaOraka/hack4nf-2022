{
 "cells": [
  {
   "cell_type": "markdown",
   "id": "7872be71",
   "metadata": {},
   "source": [
    "# Explore some data\n",
    "\n",
    "\n",
    "# GENIE Datasets\n",
    "\n",
    "### Synapse Links\n",
    "\n",
    "* GENIE 12.0 public https://www.synapse.org/#!Synapse:syn32309524\n",
    "* GENIE 13.3 consortium https://www.synapse.org/#!Synapse:syn36709873\n",
    "\n",
    "  \n",
    "### Data Format Explanations\n",
    "\n",
    "* https://docs.gdc.cancer.gov/Data/File_Formats/MAF_Format/\n",
    "* https://docs.cbioportal.org/file-formats/#mutation-data\n",
    "* https://docs.cbioportal.org/file-formats/#discrete-copy-number-data\n",
    "* https://docs.cbioportal.org/file-formats/#segmented-data\n",
    "  \n",
    "\n",
    "\n",
    "# Neurofibromatosis Review\n",
    "\n",
    "* [Current Understanding of Neurofibromatosis Type 1, 2, and Schwannomatosis](https://pubmed.ncbi.nlm.nih.gov/34072574/)\n",
    "* [Neurofibromatosis type 1-associated tumours: Their somatic mutational spectrum and pathogenesis](https://link.springer.com/article/10.1186/1479-7364-5-6-623)"
   ]
  },
  {
   "cell_type": "code",
   "execution_count": null,
   "id": "ef119598",
   "metadata": {},
   "outputs": [],
   "source": [
    "from collections import Counter\n",
    "import itertools\n",
    "import json\n",
    "import math\n",
    "from pathlib import Path\n",
    "import sys\n",
    "\n",
    "import matplotlib.pyplot as plt\n",
    "import numpy as np\n",
    "import pandas as pd\n",
    "import plotly.express as px\n",
    "import seaborn as sns\n",
    "from tqdm import tqdm"
   ]
  },
  {
   "cell_type": "code",
   "execution_count": null,
   "id": "18d7aed0",
   "metadata": {},
   "outputs": [],
   "source": [
    "from nextgenlp import genie\n",
    "from nextgenlp import genie_constants\n",
    "from nextgenlp import synapse"
   ]
  },
  {
   "cell_type": "code",
   "execution_count": null,
   "id": "f35eb01d",
   "metadata": {},
   "outputs": [],
   "source": [
    "from IPython.display import display, HTML\n",
    "display(HTML(\"<style>.container { width:100% !important; }</style>\"))"
   ]
  },
  {
   "cell_type": "code",
   "execution_count": null,
   "id": "ab2526a8",
   "metadata": {},
   "outputs": [],
   "source": [
    "pd.set_option('display.max_columns', 200)"
   ]
  },
  {
   "cell_type": "code",
   "execution_count": null,
   "id": "214c7d41",
   "metadata": {},
   "outputs": [],
   "source": [
    "GENIE_VERSION = \"genie-12.0-public\"\n",
    "#GENIE_VERSION = \"genie-13.3-consortium\""
   ]
  },
  {
   "cell_type": "markdown",
   "id": "a3e35f24",
   "metadata": {},
   "source": [
    "# Synapse File Paths\n",
    "\n",
    "If you are not using the python client to sync synapse data then replace these file paths with the file paths on your local system. "
   ]
  },
  {
   "cell_type": "code",
   "execution_count": null,
   "id": "323fbbab",
   "metadata": {},
   "outputs": [],
   "source": [
    "syn_file_paths = synapse.get_file_name_to_path(genie_version=GENIE_VERSION)\n",
    "syn_file_paths"
   ]
  },
  {
   "cell_type": "markdown",
   "id": "1b58eecb",
   "metadata": {},
   "source": [
    "# GENIE - Gene Panels"
   ]
  },
  {
   "cell_type": "code",
   "execution_count": null,
   "id": "09ea29e8",
   "metadata": {},
   "outputs": [],
   "source": [
    "df_gp_tall = genie.read_gene_panels(syn_file_paths[\"gene_panels\"], style=\"tall\")\n",
    "df_gp_wide = genie.read_gene_panels(syn_file_paths[\"gene_panels\"], style=\"wide\")"
   ]
  },
  {
   "cell_type": "code",
   "execution_count": null,
   "id": "9b07f4c2",
   "metadata": {},
   "outputs": [],
   "source": [
    "df_gp_tall"
   ]
  },
  {
   "cell_type": "code",
   "execution_count": null,
   "id": "da07bf65",
   "metadata": {},
   "outputs": [],
   "source": [
    "df_gp_wide"
   ]
  },
  {
   "cell_type": "markdown",
   "id": "ac3e8035",
   "metadata": {},
   "source": [
    "# GENIE - Assay Information"
   ]
  },
  {
   "cell_type": "code",
   "execution_count": null,
   "id": "e037f0da",
   "metadata": {},
   "outputs": [],
   "source": [
    "df_asi = genie.read_assay_information(syn_file_paths['assay_information'])"
   ]
  },
  {
   "cell_type": "code",
   "execution_count": null,
   "id": "2dacb133",
   "metadata": {},
   "outputs": [],
   "source": [
    "df_asi"
   ]
  },
  {
   "cell_type": "markdown",
   "id": "426d7859",
   "metadata": {},
   "source": [
    "# GENIE - Genomic Information"
   ]
  },
  {
   "cell_type": "code",
   "execution_count": null,
   "id": "5da6768e",
   "metadata": {},
   "outputs": [],
   "source": [
    "df_gi = genie.read_genomic_information(syn_file_paths['genomic_information'])"
   ]
  },
  {
   "cell_type": "code",
   "execution_count": null,
   "id": "1005ec8b",
   "metadata": {},
   "outputs": [],
   "source": [
    "df_gi"
   ]
  },
  {
   "cell_type": "markdown",
   "id": "ea596455",
   "metadata": {},
   "source": [
    "# GENIE - Data Fusions"
   ]
  },
  {
   "cell_type": "code",
   "execution_count": null,
   "id": "9e5dae14",
   "metadata": {},
   "outputs": [],
   "source": [
    "df_fu = genie.read_data_fusions(syn_file_paths['data_fusions'])"
   ]
  },
  {
   "cell_type": "code",
   "execution_count": null,
   "id": "767526fc",
   "metadata": {},
   "outputs": [],
   "source": [
    "df_fu"
   ]
  },
  {
   "cell_type": "code",
   "execution_count": null,
   "id": "324662fc",
   "metadata": {},
   "outputs": [],
   "source": []
  },
  {
   "cell_type": "markdown",
   "id": "698b0e47",
   "metadata": {},
   "source": [
    "# GENIE - Data Gene Matrix"
   ]
  },
  {
   "cell_type": "code",
   "execution_count": null,
   "id": "ba08dfd7",
   "metadata": {},
   "outputs": [],
   "source": [
    "df_dgm = genie.read_data_gene_matrix(syn_file_paths['data_gene_matrix'])"
   ]
  },
  {
   "cell_type": "code",
   "execution_count": null,
   "id": "26b6b3b1",
   "metadata": {},
   "outputs": [],
   "source": [
    "df_dgm"
   ]
  },
  {
   "cell_type": "markdown",
   "id": "3b1307d8",
   "metadata": {},
   "source": [
    "# GENIE - Data Clinical Patient"
   ]
  },
  {
   "cell_type": "code",
   "execution_count": null,
   "id": "c228cf6c",
   "metadata": {},
   "outputs": [],
   "source": [
    "df_dcp = genie.read_clinical_patient(syn_file_paths['data_clinical_patient'])"
   ]
  },
  {
   "cell_type": "code",
   "execution_count": null,
   "id": "f31537d6",
   "metadata": {},
   "outputs": [],
   "source": [
    "df_dcp"
   ]
  },
  {
   "cell_type": "markdown",
   "id": "00093aa6",
   "metadata": {},
   "source": [
    "# GENIE - Data Clinical Sample"
   ]
  },
  {
   "cell_type": "code",
   "execution_count": null,
   "id": "8735bd6f",
   "metadata": {},
   "outputs": [],
   "source": [
    "df_dcs = genie.read_clinical_sample(syn_file_paths['data_clinical_sample'])"
   ]
  },
  {
   "cell_type": "code",
   "execution_count": null,
   "id": "5241f9c8",
   "metadata": {},
   "outputs": [],
   "source": [
    "df_dcs"
   ]
  },
  {
   "cell_type": "markdown",
   "id": "783fdc8f",
   "metadata": {},
   "source": [
    "### Samples per Patient"
   ]
  },
  {
   "cell_type": "code",
   "execution_count": null,
   "id": "b2c474fc",
   "metadata": {},
   "outputs": [],
   "source": [
    "df_plt = (\n",
    "    df_dcs.groupby(\"PATIENT_ID\")\n",
    "    .size()\n",
    "    .sort_values()\n",
    "    .to_frame(\"samples per patient\")\n",
    "    .reset_index()\n",
    ")\n",
    "df_plt"
   ]
  },
  {
   "cell_type": "code",
   "execution_count": null,
   "id": "66b196d1",
   "metadata": {},
   "outputs": [],
   "source": [
    "sns.histplot(df_plt, x=\"samples per patient\", discrete=True, log_scale=(False, False))"
   ]
  },
  {
   "cell_type": "markdown",
   "id": "bfcfb84a",
   "metadata": {},
   "source": [
    "# GENIE - Data Mutations Extended"
   ]
  },
  {
   "cell_type": "code",
   "execution_count": null,
   "id": "b4c51dfe",
   "metadata": {
    "scrolled": false
   },
   "outputs": [],
   "source": [
    "df_dme = genie.read_mutations_extended(syn_file_paths[\"data_mutations_extended\"])"
   ]
  },
  {
   "cell_type": "code",
   "execution_count": null,
   "id": "832f0ec4",
   "metadata": {},
   "outputs": [],
   "source": [
    "df_dme"
   ]
  },
  {
   "cell_type": "markdown",
   "id": "d5b82d96",
   "metadata": {},
   "source": [
    "### Variant Classification Distribution"
   ]
  },
  {
   "cell_type": "code",
   "execution_count": null,
   "id": "ae1b8e09",
   "metadata": {},
   "outputs": [],
   "source": [
    "df_plt = (\n",
    "    df_dme.groupby(\"Variant_Classification\")\n",
    "    .size()\n",
    "    .sort_values()\n",
    "    .to_frame(\"count\")\n",
    "    .reset_index()\n",
    ")\n",
    "df_plt"
   ]
  },
  {
   "cell_type": "code",
   "execution_count": null,
   "id": "e40edca4",
   "metadata": {},
   "outputs": [],
   "source": [
    "g = sns.barplot(data=df_plt, x=\"count\", y=\"Variant_Classification\", color=\"grey\")\n",
    "# g.set_xscale(\"log\")\n",
    "g"
   ]
  },
  {
   "cell_type": "markdown",
   "id": "c0ba0ad2",
   "metadata": {},
   "source": [
    "### Variants per Sample"
   ]
  },
  {
   "cell_type": "code",
   "execution_count": null,
   "id": "db0b062e",
   "metadata": {},
   "outputs": [],
   "source": [
    "df_plt = (\n",
    "    df_dme.groupby(\"Tumor_Sample_Barcode\")\n",
    "    .size()\n",
    "    .sort_values()\n",
    "    .to_frame(\"variants per sample\")\n",
    "    .reset_index()\n",
    ")\n",
    "df_plt"
   ]
  },
  {
   "cell_type": "code",
   "execution_count": null,
   "id": "affdcc6b",
   "metadata": {},
   "outputs": [],
   "source": [
    "sns.histplot(df_plt, x=\"variants per sample\", log_scale=(True, True))"
   ]
  },
  {
   "cell_type": "code",
   "execution_count": null,
   "id": "3245e4c0",
   "metadata": {},
   "outputs": [],
   "source": [
    "sns.histplot(\n",
    "    df_plt[df_plt[\"variants per sample\"] < 100],\n",
    "    x=\"variants per sample\",\n",
    "    log_scale=(False, True),\n",
    ")"
   ]
  },
  {
   "cell_type": "markdown",
   "id": "8f1a29a4",
   "metadata": {},
   "source": [
    "# Samples with no mutations"
   ]
  },
  {
   "cell_type": "code",
   "execution_count": null,
   "id": "7ac55f42",
   "metadata": {},
   "outputs": [],
   "source": [
    "sample_ids = set(df_dcs.index) - set(df_dme['Tumor_Sample_Barcode'])"
   ]
  },
  {
   "cell_type": "code",
   "execution_count": null,
   "id": "0bbb4b1d",
   "metadata": {},
   "outputs": [],
   "source": [
    "df_dcs.loc[sample_ids]"
   ]
  },
  {
   "cell_type": "code",
   "execution_count": null,
   "id": "44064012",
   "metadata": {},
   "outputs": [],
   "source": []
  },
  {
   "cell_type": "markdown",
   "id": "6baa37cb",
   "metadata": {},
   "source": [
    "# GENIE - Merge Patient/Sample/Mutations"
   ]
  },
  {
   "cell_type": "code",
   "execution_count": null,
   "id": "e0d3c3af",
   "metadata": {
    "scrolled": false
   },
   "outputs": [],
   "source": [
    "df_psm = genie.read_pat_sam_mut(\n",
    "    syn_file_paths[\"data_clinical_patient\"],\n",
    "    syn_file_paths[\"data_clinical_sample\"],\n",
    "    syn_file_paths[\"data_mutations_extended\"],\n",
    ")"
   ]
  },
  {
   "cell_type": "code",
   "execution_count": null,
   "id": "16ff5239",
   "metadata": {},
   "outputs": [],
   "source": [
    "(df_psm['Polyphen_Score'].isnull() & df_psm['SIFT_Score'].isnull()).sum()"
   ]
  },
  {
   "cell_type": "code",
   "execution_count": null,
   "id": "e8e2b463",
   "metadata": {},
   "outputs": [],
   "source": [
    "df_psm[df_psm['CANCER_TYPE']=='Nerve Sheath Tumor']['Center'].value_counts()"
   ]
  },
  {
   "cell_type": "code",
   "execution_count": null,
   "id": "1e4295d2",
   "metadata": {},
   "outputs": [],
   "source": [
    "df_asi[df_asi['CENTER']=='UCSF']"
   ]
  },
  {
   "cell_type": "code",
   "execution_count": null,
   "id": "3cc742bf",
   "metadata": {},
   "outputs": [],
   "source": [
    "df_asi[df_asi['CENTER']=='DFCI']"
   ]
  },
  {
   "cell_type": "code",
   "execution_count": null,
   "id": "96e4335d",
   "metadata": {},
   "outputs": [],
   "source": [
    "df_asi[df_asi['CENTER']=='MSK']"
   ]
  },
  {
   "cell_type": "code",
   "execution_count": null,
   "id": "f9e241e3",
   "metadata": {},
   "outputs": [],
   "source": [
    "df_asi[df_asi['CENTER']=='VICC']"
   ]
  },
  {
   "cell_type": "code",
   "execution_count": null,
   "id": "a6ab7b1b",
   "metadata": {},
   "outputs": [],
   "source": []
  },
  {
   "cell_type": "code",
   "execution_count": null,
   "id": "fbe99d69",
   "metadata": {},
   "outputs": [],
   "source": [
    "df_dcs['SEQ_ASSAY_ID'].value_counts().sort_values().tail(20)"
   ]
  },
  {
   "cell_type": "code",
   "execution_count": null,
   "id": "6e87d3db",
   "metadata": {},
   "outputs": [],
   "source": []
  },
  {
   "cell_type": "code",
   "execution_count": null,
   "id": "82d77d37",
   "metadata": {},
   "outputs": [],
   "source": [
    "df_psm[df_psm['CANCER_TYPE']=='Nerve Sheath Tumor']['SEQ_ASSAY_ID'].value_counts()"
   ]
  },
  {
   "cell_type": "code",
   "execution_count": null,
   "id": "fed8d041",
   "metadata": {},
   "outputs": [],
   "source": []
  },
  {
   "cell_type": "code",
   "execution_count": null,
   "id": "09dd77bd",
   "metadata": {},
   "outputs": [],
   "source": []
  },
  {
   "cell_type": "markdown",
   "id": "876eaa47",
   "metadata": {},
   "source": [
    "### Distribution of NF related quantities "
   ]
  },
  {
   "cell_type": "code",
   "execution_count": null,
   "id": "2a87b11b",
   "metadata": {},
   "outputs": [],
   "source": [
    "df_psm.shape"
   ]
  },
  {
   "cell_type": "code",
   "execution_count": null,
   "id": "779a7cb9",
   "metadata": {},
   "outputs": [],
   "source": [
    "for gene in genie_constants.NF_HUGO_SYMBOLS:\n",
    "    print(\"Gene: \", gene)\n",
    "    \n",
    "    df = df_psm[df_psm['Hugo_Symbol'].isin([gene])]\n",
    "    print(\"  num_variants: \", df.shape[0])\n",
    "    print(\"  num_samples:  \", df['SAMPLE_ID'].nunique())\n",
    "    print(\"  num_patients: \", df['PATIENT_ID'].nunique())"
   ]
  },
  {
   "cell_type": "code",
   "execution_count": null,
   "id": "60eca541",
   "metadata": {},
   "outputs": [],
   "source": [
    "for onco in genie_constants.NF_ONCOTREE_CODES:\n",
    "    print(\"Oncotree code: \", onco)\n",
    "    \n",
    "    df = df_psm[df_psm['ONCOTREE_CODE'].isin([onco])]\n",
    "    print(\"  num_variants: \", df.shape[0])\n",
    "    print(\"  num_samples:  \", df['SAMPLE_ID'].nunique())\n",
    "    print(\"  num_patients: \", df['PATIENT_ID'].nunique())"
   ]
  },
  {
   "cell_type": "code",
   "execution_count": null,
   "id": "845a45ce",
   "metadata": {},
   "outputs": [],
   "source": []
  },
  {
   "cell_type": "markdown",
   "id": "2faa8805",
   "metadata": {},
   "source": [
    "# GENIE - Data CNA (Discrete Copy Number Alteration Data)\n",
    "\n",
    "https://docs.cbioportal.org/file-formats/#discrete-copy-number-data\n",
    "\n",
    "For each gene-sample combination, a copy number level is specified:\n",
    "\n",
    "* \"-2\" is a deep loss, possibly a homozygous deletion\n",
    "* \"-1\" is a single-copy loss (heterozygous deletion)\n",
    "* \"0\" is diploid\n",
    "* \"1\" indicates a low-level gain\n",
    "* \"2\" is a high-level amplification."
   ]
  },
  {
   "cell_type": "code",
   "execution_count": null,
   "id": "c32e2fe0",
   "metadata": {},
   "outputs": [],
   "source": [
    "df_cna = genie.read_cna(syn_file_paths['data_CNA'])"
   ]
  },
  {
   "cell_type": "code",
   "execution_count": null,
   "id": "746d3f8c",
   "metadata": {},
   "outputs": [],
   "source": [
    "df_cna"
   ]
  },
  {
   "cell_type": "markdown",
   "id": "2ec33ea9",
   "metadata": {},
   "source": [
    "### Sparsity"
   ]
  },
  {
   "cell_type": "code",
   "execution_count": null,
   "id": "aaa9c1f8",
   "metadata": {},
   "outputs": [],
   "source": [
    "all_cna_values = df_cna.fillna('MISSING').values.flatten()\n",
    "non_null_cna_values = all_cna_values[all_cna_values!='MISSING']\n",
    "non_zero_cna_values = non_null_cna_values[non_null_cna_values!=0]\n",
    "set(non_zero_cna_values)"
   ]
  },
  {
   "cell_type": "code",
   "execution_count": null,
   "id": "8a9f1518",
   "metadata": {},
   "outputs": [],
   "source": [
    "cna_counts = Counter(all_cna_values)\n",
    "cna_counts.most_common()"
   ]
  },
  {
   "cell_type": "code",
   "execution_count": null,
   "id": "3aa8ba30",
   "metadata": {},
   "outputs": [],
   "source": [
    "df_cna_counts = pd.DataFrame(cna_counts.items(), columns=['value', 'count'])\n",
    "df_cna_counts['frac'] = df_cna_counts['count'] / df_cna_counts['count'].sum()\n",
    "df_cna_counts['perc'] = df_cna_counts['frac'] * 100\n",
    "df_cna_counts['value_str'] = df_cna_counts['value'].astype(str)\n",
    "df_cna_counts"
   ]
  },
  {
   "cell_type": "code",
   "execution_count": null,
   "id": "fe7dff42",
   "metadata": {},
   "outputs": [],
   "source": [
    "df_cna_counts[~df_cna_counts['value_str'].isin(['MISSING', '0.0'])].sum()"
   ]
  },
  {
   "cell_type": "code",
   "execution_count": null,
   "id": "a67d2afa",
   "metadata": {},
   "outputs": [],
   "source": [
    "sns.barplot(data=df_cna_counts, x='perc', y='value_str', color='grey')"
   ]
  },
  {
   "cell_type": "markdown",
   "id": "f4c8b6bb",
   "metadata": {},
   "source": [
    "### DIstribution of non-null / non-zero values"
   ]
  },
  {
   "cell_type": "code",
   "execution_count": null,
   "id": "c91478c1",
   "metadata": {},
   "outputs": [],
   "source": [
    "_ = plt.hist(non_zero_cna_values, bins=np.linspace(-2.25, 2.25, 10))"
   ]
  },
  {
   "cell_type": "code",
   "execution_count": null,
   "id": "c7eb2eba",
   "metadata": {},
   "outputs": [],
   "source": [
    "df_cna['NF1'].hist()"
   ]
  },
  {
   "cell_type": "markdown",
   "id": "68616037",
   "metadata": {},
   "source": [
    "### Gene and Sample L2 Norms"
   ]
  },
  {
   "cell_type": "code",
   "execution_count": null,
   "id": "b4070300",
   "metadata": {},
   "outputs": [],
   "source": [
    "df_cna"
   ]
  },
  {
   "cell_type": "code",
   "execution_count": null,
   "id": "08bc3eff",
   "metadata": {},
   "outputs": [],
   "source": [
    "cna_gene_l2 = genie.get_cna_norms(df_cna, axis=0).sort_values()\n",
    "cna_samp_l2 = genie.get_cna_norms(df_cna, axis=1).sort_values()"
   ]
  },
  {
   "cell_type": "code",
   "execution_count": null,
   "id": "1bfa21a4",
   "metadata": {},
   "outputs": [],
   "source": [
    "cna_gene_l2.tail(30)"
   ]
  },
  {
   "cell_type": "code",
   "execution_count": null,
   "id": "1bbd05a9",
   "metadata": {},
   "outputs": [],
   "source": [
    "cna_gene_l2[\"NF1\"], cna_gene_l2[\"NF2\"], cna_gene_l2[\"SMARCB1\"], cna_gene_l2[\"LZTR1\"]"
   ]
  },
  {
   "cell_type": "code",
   "execution_count": null,
   "id": "9c78c215",
   "metadata": {},
   "outputs": [],
   "source": [
    "np.log10(cna_gene_l2[\"NF1\"])"
   ]
  },
  {
   "cell_type": "markdown",
   "id": "c34ec26c",
   "metadata": {},
   "source": [
    "### DIstribution of Gene Vector Norms\n",
    "\n",
    "Gene vector length is related to how many samples show copy number deviation from 0. "
   ]
  },
  {
   "cell_type": "code",
   "execution_count": null,
   "id": "b8c4a0be",
   "metadata": {},
   "outputs": [],
   "source": [
    "ax = np.log10(cna_gene_l2 + 1).hist(bins=30, figsize=(8,8))\n",
    "ax.axvline(x=np.log10(cna_gene_l2[\"NF1\"] + 1), ymin=0, ymax=1, color='red')\n",
    "ax.axvline(x=np.log10(cna_gene_l2[\"NF2\"] + 1), ymin=0, ymax=1, color='orange', ls='--')"
   ]
  },
  {
   "cell_type": "markdown",
   "id": "9200efed",
   "metadata": {},
   "source": [
    "### Distribution of Sample Vector Norms\n",
    "\n",
    "Sample vector length is related to how many genes show copy number deviaion from 0"
   ]
  },
  {
   "cell_type": "code",
   "execution_count": null,
   "id": "c525a918",
   "metadata": {},
   "outputs": [],
   "source": [
    "ax = np.log10(cna_samp_l2 + 1).hist(bins=30, figsize=(8,4))"
   ]
  },
  {
   "cell_type": "code",
   "execution_count": null,
   "id": "bdaeca9d",
   "metadata": {},
   "outputs": [],
   "source": [
    "ax = cna_samp_l2.hist(bins=50, figsize=(8,4))"
   ]
  },
  {
   "cell_type": "markdown",
   "id": "b5ab848b",
   "metadata": {},
   "source": [
    "### Melted CNA"
   ]
  },
  {
   "cell_type": "code",
   "execution_count": null,
   "id": "89271a36",
   "metadata": {},
   "outputs": [],
   "source": [
    "df_cna_melted = genie.get_melted_cna(df_cna)"
   ]
  },
  {
   "cell_type": "code",
   "execution_count": null,
   "id": "22ae9ae4",
   "metadata": {},
   "outputs": [],
   "source": [
    "df_cna_melted"
   ]
  },
  {
   "cell_type": "code",
   "execution_count": null,
   "id": "e24a1d73",
   "metadata": {},
   "outputs": [],
   "source": [
    "cna_sentences = genie.get_cna_sentences(df_cna)"
   ]
  },
  {
   "cell_type": "code",
   "execution_count": null,
   "id": "fd0edad2",
   "metadata": {},
   "outputs": [],
   "source": [
    "cna_sentences"
   ]
  },
  {
   "cell_type": "code",
   "execution_count": null,
   "id": "4ab7ac31",
   "metadata": {},
   "outputs": [],
   "source": [
    "cna_sentences.apply(lambda x: len(x)).hist(bins=50)"
   ]
  },
  {
   "cell_type": "code",
   "execution_count": null,
   "id": "323526ee",
   "metadata": {},
   "outputs": [],
   "source": []
  },
  {
   "cell_type": "markdown",
   "id": "2f87306b",
   "metadata": {},
   "source": [
    "# How Many Samples With Mutations + CNA data? "
   ]
  },
  {
   "cell_type": "code",
   "execution_count": null,
   "id": "0a4b3e2a",
   "metadata": {},
   "outputs": [],
   "source": [
    "df_psm['has_CNA'] = df_psm['SAMPLE_ID'].isin(df_cna.index)"
   ]
  },
  {
   "cell_type": "code",
   "execution_count": null,
   "id": "203b5e43",
   "metadata": {},
   "outputs": [],
   "source": [
    "df_psm['has_CNA'].sum()"
   ]
  },
  {
   "cell_type": "code",
   "execution_count": null,
   "id": "18852815",
   "metadata": {},
   "outputs": [],
   "source": [
    "df_psm.shape"
   ]
  },
  {
   "cell_type": "code",
   "execution_count": null,
   "id": "66ca3e1f",
   "metadata": {},
   "outputs": [],
   "source": [
    "for gene in genie_constants.NF_HUGO_SYMBOLS:\n",
    "    print(\"Gene: \", gene)\n",
    "    \n",
    "    dfv = df_psm[df_psm['Hugo_Symbol'].isin([gene])]\n",
    "    dfc = dfv[dfv['has_CNA']]\n",
    "    print(\"  num_variants: \", dfv.shape[0], dfc.shape[0])\n",
    "    print(\"  num_samples:  \", dfv['SAMPLE_ID'].nunique(), dfc['SAMPLE_ID'].nunique())\n",
    "    print(\"  num_patients: \", dfv['PATIENT_ID'].nunique(), dfc['PATIENT_ID'].nunique())"
   ]
  },
  {
   "cell_type": "code",
   "execution_count": null,
   "id": "85c74445",
   "metadata": {},
   "outputs": [],
   "source": [
    "for onco in genie_constants.NF_ONCOTREE_CODES:\n",
    "    print(\"Oncotree code: \", onco)\n",
    "    \n",
    "    dfv = df_psm[df_psm['ONCOTREE_CODE'].isin([onco])]\n",
    "    dfc = dfv[dfv['has_CNA']]\n",
    "    print(\"  num_variants: \", dfv.shape[0], dfc.shape[0])\n",
    "    print(\"  num_samples:  \", dfv['SAMPLE_ID'].nunique(), dfc['SAMPLE_ID'].nunique())\n",
    "    print(\"  num_patients: \", dfv['PATIENT_ID'].nunique(), dfc['PATIENT_ID'].nunique())"
   ]
  },
  {
   "cell_type": "code",
   "execution_count": null,
   "id": "fa04f38a",
   "metadata": {},
   "outputs": [],
   "source": []
  },
  {
   "cell_type": "markdown",
   "id": "a97fe29d",
   "metadata": {},
   "source": [
    "# Data CNA seg (Segmented Copy Number Data) \n",
    "\n",
    "https://docs.cbioportal.org/file-formats/#segmented-data\n",
    "\n",
    "https://cnvkit.readthedocs.io/en/stable/fileformats.html#seg\n",
    "\n",
    "https://software.broadinstitute.org/software/igv/SEG"
   ]
  },
  {
   "cell_type": "code",
   "execution_count": null,
   "id": "dcdde394",
   "metadata": {},
   "outputs": [],
   "source": [
    "df_seg = genie.read_cna_seg(syn_file_paths['data_cna_hg19'])"
   ]
  },
  {
   "cell_type": "code",
   "execution_count": null,
   "id": "1495a404",
   "metadata": {},
   "outputs": [],
   "source": [
    "df_seg"
   ]
  },
  {
   "cell_type": "code",
   "execution_count": null,
   "id": "58a18040",
   "metadata": {},
   "outputs": [],
   "source": [
    "df_seg['ID'].isin(df_dcs.index).all()"
   ]
  },
  {
   "cell_type": "code",
   "execution_count": null,
   "id": "e9f96007",
   "metadata": {},
   "outputs": [],
   "source": []
  },
  {
   "cell_type": "code",
   "execution_count": null,
   "id": "9478d1d5",
   "metadata": {},
   "outputs": [],
   "source": []
  }
 ],
 "metadata": {
  "kernelspec": {
   "display_name": "Python 3 (ipykernel)",
   "language": "python",
   "name": "python3"
  },
  "language_info": {
   "codemirror_mode": {
    "name": "ipython",
    "version": 3
   },
   "file_extension": ".py",
   "mimetype": "text/x-python",
   "name": "python",
   "nbconvert_exporter": "python",
   "pygments_lexer": "ipython3",
   "version": "3.10.6"
  }
 },
 "nbformat": 4,
 "nbformat_minor": 5
}
