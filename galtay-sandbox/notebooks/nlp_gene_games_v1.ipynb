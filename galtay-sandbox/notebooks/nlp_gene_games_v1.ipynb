{
 "cells": [
  {
   "cell_type": "markdown",
   "id": "7872be71",
   "metadata": {},
   "source": [
    "# Play NLP Games with Genetic Data"
   ]
  },
  {
   "cell_type": "code",
   "execution_count": null,
   "id": "8363b882",
   "metadata": {},
   "outputs": [],
   "source": [
    "import json\n",
    "import os\n",
    "import pandas as pd"
   ]
  },
  {
   "cell_type": "code",
   "execution_count": null,
   "id": "18d7aed0",
   "metadata": {},
   "outputs": [],
   "source": [
    "from hack4nf import synapse \n",
    "from hack4nf import genie\n",
    "from hack4nf import embedders"
   ]
  },
  {
   "cell_type": "code",
   "execution_count": null,
   "id": "f35eb01d",
   "metadata": {},
   "outputs": [],
   "source": [
    "from IPython.display import display, HTML\n",
    "display(HTML(\"<style>.container { width:100% !important; }</style>\"))"
   ]
  },
  {
   "cell_type": "code",
   "execution_count": null,
   "id": "ab2526a8",
   "metadata": {},
   "outputs": [],
   "source": [
    "pd.set_option('display.max_columns', 200)"
   ]
  },
  {
   "cell_type": "code",
   "execution_count": null,
   "id": "214c7d41",
   "metadata": {},
   "outputs": [],
   "source": [
    "#GENIE_VERSION = \"genie-12.0-public\"\n",
    "GENIE_VERSION = \"genie-13.3-consortium\""
   ]
  },
  {
   "cell_type": "code",
   "execution_count": null,
   "id": "fa8d8d71",
   "metadata": {},
   "outputs": [],
   "source": [
    "SYNC_PATH = synapse.SYNC_PATH\n",
    "print(SYNC_PATH)\n",
    "EMBEDDINGS_PATH = os.path.join(SYNC_PATH, \"../embeddings\")\n",
    "print(EMBEDDINGS_PATH)"
   ]
  },
  {
   "cell_type": "code",
   "execution_count": null,
   "id": "9166c5fc",
   "metadata": {},
   "outputs": [],
   "source": [
    "syn_file_paths = synapse.get_file_name_to_path(genie_version=GENIE_VERSION)\n",
    "syn_file_paths"
   ]
  },
  {
   "cell_type": "markdown",
   "id": "dafeba11",
   "metadata": {},
   "source": [
    "# GENIE Joined Mutation Data "
   ]
  },
  {
   "cell_type": "code",
   "execution_count": null,
   "id": "6c5be30c",
   "metadata": {},
   "outputs": [],
   "source": [
    "df_mut_all = genie.read_pat_sam_mut(\n",
    "    syn_file_paths[\"data_clinical_patient\"],\n",
    "    syn_file_paths[\"data_clinical_sample\"],\n",
    "    syn_file_paths[\"data_mutations_extended\"],\n",
    ")"
   ]
  },
  {
   "cell_type": "code",
   "execution_count": null,
   "id": "628e603d",
   "metadata": {},
   "outputs": [],
   "source": [
    "df_mut_all"
   ]
  },
  {
   "cell_type": "markdown",
   "id": "180e6bda",
   "metadata": {},
   "source": [
    "# GENIE - Clinical Sample"
   ]
  },
  {
   "cell_type": "code",
   "execution_count": null,
   "id": "e12b333d",
   "metadata": {},
   "outputs": [],
   "source": [
    "df_dcs_all = genie.read_clinical_sample(syn_file_paths[\"data_clinical_sample\"]).set_index(\"SAMPLE_ID\")"
   ]
  },
  {
   "cell_type": "code",
   "execution_count": null,
   "id": "1bbc185e",
   "metadata": {},
   "outputs": [],
   "source": [
    "df_dcs_all"
   ]
  },
  {
   "cell_type": "markdown",
   "id": "726f6be7",
   "metadata": {},
   "source": [
    "# Subset"
   ]
  },
  {
   "cell_type": "code",
   "execution_count": null,
   "id": "4dfdd48d",
   "metadata": {},
   "outputs": [],
   "source": [
    "SUBSET = \"MSK-IMPACT468\""
   ]
  },
  {
   "cell_type": "code",
   "execution_count": null,
   "id": "fa9a6348",
   "metadata": {},
   "outputs": [],
   "source": [
    "if SUBSET == \"MSK-IMPACT468\":\n",
    "    df_dcs = df_dcs_all[df_dcs_all['SEQ_ASSAY_ID']=='MSK-IMPACT468']\n",
    "    df_mut = df_mut_all[df_mut_all['SAMPLE_ID'].isin(df_dcs.index)]\n",
    "    \n",
    "\n",
    "elif SUBSET == \"ALL\":\n",
    "    df_dcs = df_dcs_all\n",
    "    df_mut = df_mut_all\n",
    "\n",
    "else:\n",
    "    raise ValueError()\n",
    "    \n",
    "ser_mut_tokens = df_mut.groupby('SAMPLE_ID')['Hugo_Symbol'].apply(list)    \n",
    "print('number of samples isolated: ', df_dcs.shape[0])\n",
    "print('number of variant isolated: ', df_mut.shape[0])\n",
    "print('number of sample sentences isolated: ', ser_mut_tokens.shape[0])\n",
    "\n",
    "# align df_dcs and tokens\n",
    "df_dcs = df_dcs.loc[ser_mut_tokens.index]\n",
    "\n",
    "# add sentences to dcs\n",
    "df_dcs['sent'] = ser_mut_tokens"
   ]
  },
  {
   "cell_type": "markdown",
   "id": "3058fee8",
   "metadata": {},
   "source": [
    "# NLP"
   ]
  },
  {
   "cell_type": "code",
   "execution_count": null,
   "id": "6c39af73",
   "metadata": {},
   "outputs": [],
   "source": [
    "from sklearn.decomposition import TruncatedSVD\n",
    "from sklearn.feature_extraction.text import CountVectorizer, TfidfTransformer\n",
    "from sklearn.linear_model import LogisticRegression\n",
    "from sklearn.metrics import classification_report\n",
    "from sklearn.model_selection import train_test_split\n",
    "from sklearn.model_selection import StratifiedKFold\n",
    "from sklearn.pipeline import Pipeline"
   ]
  },
  {
   "cell_type": "code",
   "execution_count": null,
   "id": "f17f3290",
   "metadata": {},
   "outputs": [],
   "source": [
    "df_dcs['y_binary'] = df_dcs['ONCOTREE_CODE'].isin(genie.NF_ONCOTREE_CODES).astype(int)"
   ]
  },
  {
   "cell_type": "code",
   "execution_count": null,
   "id": "51ae38eb",
   "metadata": {},
   "outputs": [],
   "source": [
    "df_dcs['y_binary'].sum()"
   ]
  },
  {
   "cell_type": "code",
   "execution_count": null,
   "id": "c10ee033",
   "metadata": {},
   "outputs": [],
   "source": [
    "df_dcs[df_dcs['y_binary']==1]['ONCOTREE_CODE'].value_counts()"
   ]
  },
  {
   "cell_type": "code",
   "execution_count": null,
   "id": "0408f5d9",
   "metadata": {},
   "outputs": [],
   "source": [
    "df_dcs[df_dcs['y_binary']==1]['CANCER_TYPE_DETAILED'].value_counts()"
   ]
  },
  {
   "cell_type": "code",
   "execution_count": null,
   "id": "7b95c658",
   "metadata": {},
   "outputs": [],
   "source": [
    "df_dcs[df_dcs['y_binary']==1]['CANCER_TYPE'].value_counts()"
   ]
  },
  {
   "cell_type": "code",
   "execution_count": null,
   "id": "0652f149",
   "metadata": {},
   "outputs": [],
   "source": [
    "#Y_PREDICT = 'y_binary'\n",
    "#Y_PREDICT = 'ONCOTREE_CODE'\n",
    "Y_PREDICT = \"CANCER_TYPE\""
   ]
  },
  {
   "cell_type": "code",
   "execution_count": null,
   "id": "daab8aeb",
   "metadata": {},
   "outputs": [],
   "source": [
    "df_v = pd.read_csv('/home/galtay/data/hack4nf/embeddings/dme_MSK-IMPACT468_sample_100_vecs.tsv', sep='\\t', header=None)\n",
    "df_m = pd.read_csv('/home/galtay/data/hack4nf/embeddings/dme_MSK-IMPACT468_sample_meta.tsv', sep='\\t')"
   ]
  },
  {
   "cell_type": "code",
   "execution_count": null,
   "id": "e390e85c",
   "metadata": {},
   "outputs": [],
   "source": []
  },
  {
   "cell_type": "code",
   "execution_count": null,
   "id": "ef06fd00",
   "metadata": {},
   "outputs": [],
   "source": []
  },
  {
   "cell_type": "code",
   "execution_count": null,
   "id": "d3508694",
   "metadata": {},
   "outputs": [],
   "source": []
  },
  {
   "cell_type": "code",
   "execution_count": null,
   "id": "bc6f64ff",
   "metadata": {},
   "outputs": [],
   "source": [
    "clf_report_stacks = {\n",
    "    \"v0\": [],\n",
    "    \"v1\": [],\n",
    "}\n",
    "\n",
    "skf = StratifiedKFold(n_splits=5, random_state=4297, shuffle=True)\n",
    "for indices_train, indices_test in skf.split(df_dcs, df_dcs['y_binary']):\n",
    "    \n",
    "    df_train = df_dcs.iloc[indices_train]\n",
    "    df_test = df_dcs.iloc[indices_test]\n",
    "    \n",
    "    # basic logistic regression\n",
    "    #======================================================\n",
    "    pipe_v0 = Pipeline([\n",
    "        ('count', CountVectorizer(tokenizer=lambda x: x, preprocessor=lambda x: x, token_pattern=None)),\n",
    "        ('tfidf', TfidfTransformer()),\n",
    "        ('svd', TruncatedSVD(n_components=50)),\n",
    "        ('clf', LogisticRegression()),\n",
    "    ])\n",
    "    \n",
    "    pipe_v0.fit(df_train['sent'], df_train[Y_PREDICT])\n",
    "    feature_names = pipe_v0['count'].get_feature_names()\n",
    "    y_pred = pipe_v0.predict(df_test['sent'])\n",
    "    \n",
    "    \n",
    "    cls_report_dict = classification_report(df_test[Y_PREDICT], y_pred, output_dict=True)\n",
    "    df_clf_report = pd.DataFrame(cls_report_dict).drop(columns=['accuracy', 'macro avg', 'weighted avg']).T\n",
    "    clf_report_stacks[\"v0\"].append(df_clf_report)\n",
    "    \n",
    "    \n",
    "    # use PMI sample embeddings \n",
    "    #======================================================\n",
    "    map_train = pd.merge(df_train[[]], df_m[['SAMPLE_ID']], left_index=True, right_on='SAMPLE_ID')\n",
    "    map_test = pd.merge(df_test[[]], df_m[['SAMPLE_ID']], left_index=True, right_on='SAMPLE_ID')\n",
    "    \n",
    "    x_train_vecs = df_v.iloc[map_train.index]\n",
    "    x_test_vecs = df_v.iloc[map_test.index]\n",
    "    \n",
    "    pipe_v1 = Pipeline([\n",
    "        ('clf', LogisticRegression())\n",
    "    ])\n",
    "    \n",
    "    pipe_v1.fit(x_train_vecs, df_train[Y_PREDICT])\n",
    "    y_pred = pipe_v1.predict(x_test_vecs)\n",
    "    \n",
    "    cls_report_dict = classification_report(df_test[Y_PREDICT], y_pred, output_dict=True)\n",
    "    df_clf_report = pd.DataFrame(cls_report_dict).drop(columns=['accuracy', 'macro avg', 'weighted avg']).T\n",
    "    clf_report_stacks[\"v1\"].append(df_clf_report)"
   ]
  },
  {
   "cell_type": "code",
   "execution_count": null,
   "id": "c306e9e9",
   "metadata": {},
   "outputs": [],
   "source": []
  },
  {
   "cell_type": "code",
   "execution_count": null,
   "id": "b2387f82",
   "metadata": {},
   "outputs": [],
   "source": [
    "df_clf_reports = {}\n",
    "for key, clf_report_stack in clf_report_stacks.items():\n",
    "    df = pd.concat(clf_report_stack).reset_index().rename(columns={\"index\": \"target\"})\n",
    "    df_report = pd.concat([\n",
    "        df.groupby('target').mean().rename(columns={x: f\"{x}-mean\" for x in df.columns}),\n",
    "        df.groupby('target').std().rename(columns={x: f\"{x}-std\" for x in df.columns}),\n",
    "    ], axis=1).sort_values('f1-score-mean')\n",
    "    df_clf_reports[key] = df_report"
   ]
  },
  {
   "cell_type": "code",
   "execution_count": null,
   "id": "347a6483",
   "metadata": {},
   "outputs": [],
   "source": []
  },
  {
   "cell_type": "code",
   "execution_count": null,
   "id": "56867722",
   "metadata": {},
   "outputs": [],
   "source": [
    "df_clf_reports[\"v0\"].tail(40)"
   ]
  },
  {
   "cell_type": "code",
   "execution_count": null,
   "id": "b173ffab",
   "metadata": {},
   "outputs": [],
   "source": []
  },
  {
   "cell_type": "code",
   "execution_count": null,
   "id": "41f91a2c",
   "metadata": {},
   "outputs": [],
   "source": [
    "df_clf_reports[\"v1\"].tail(40)"
   ]
  },
  {
   "cell_type": "code",
   "execution_count": null,
   "id": "ddeab4b4",
   "metadata": {},
   "outputs": [],
   "source": []
  },
  {
   "cell_type": "code",
   "execution_count": null,
   "id": "2b67eb66",
   "metadata": {},
   "outputs": [],
   "source": []
  }
 ],
 "metadata": {
  "kernelspec": {
   "display_name": "Python 3 (ipykernel)",
   "language": "python",
   "name": "python3"
  },
  "language_info": {
   "codemirror_mode": {
    "name": "ipython",
    "version": 3
   },
   "file_extension": ".py",
   "mimetype": "text/x-python",
   "name": "python",
   "nbconvert_exporter": "python",
   "pygments_lexer": "ipython3",
   "version": "3.7.13"
  }
 },
 "nbformat": 4,
 "nbformat_minor": 5
}
