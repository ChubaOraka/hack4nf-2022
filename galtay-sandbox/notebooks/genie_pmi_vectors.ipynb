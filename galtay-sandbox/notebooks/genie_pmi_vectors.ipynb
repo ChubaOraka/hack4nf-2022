{
 "cells": [
  {
   "cell_type": "markdown",
   "id": "7872be71",
   "metadata": {},
   "source": [
    "# Create gene vectors from mutations and CNA data\n",
    "\n",
    "Use cooccurrence statistics to create gene vectors. \n",
    "\n",
    "https://multithreaded.stitchfix.com/blog/2017/10/18/stop-using-word2vec/\n",
    "\n",
    "https://www.kaggle.com/code/kenshoresearch/kdwd-pmi-word-vectors\n",
    "\n",
    "https://aclanthology.org/Q15-1016/ (LGD15)\n",
    "\n"
   ]
  },
  {
   "cell_type": "markdown",
   "id": "b5ab848b",
   "metadata": {},
   "source": [
    "# Create CNA \"Sentences\" \n",
    "\n",
    "We are going to create Gene vectors by treating them like words in sentences. \n",
    "First we are going to create a gene-gene co-occurrence matrix. \n",
    "Then we are going to calculate a pointwise mutual information matrix. \n",
    "Then we are going to reduce the dimensionality. \n",
    "\n",
    "\n",
    "# Pointwise Mutual Information Matrices\n",
    "\n",
    "\n",
    "## Notation\n",
    "\n",
    "\n",
    "We assume a collection of words $w \\in V_W$ and their\n",
    "contexts $c \\in V_C$, where $V_W$ and $V_C$\n",
    "are the word and context vocabularies, and denote\n",
    "the collection of observed word-context pairs as $D$.\n",
    "\n",
    "We use $\\#(w,c)$ to denote the number of times the pair\n",
    "$(w,c)$ appears in $D$ and $\\#(w)$ and $\\#(c)$ to denote \n",
    "the number of times $w$ and $c$ occurred in $D$, respectively.\n",
    "\n",
    "$$\n",
    "\\begin{align}\n",
    "\\#(w) = \\sum_{c^{\\prime}} \\#(w, c^{\\prime})\n",
    ", \\quad\n",
    "\\#(c) = \\sum_{w^{\\prime}} \\#(w^{\\prime}, c)\n",
    ", \\quad\n",
    "\\lvert D \\rvert = \\sum_{w,c} \\#(w, c)\n",
    "\\end{align}\n",
    "$$\n",
    "\n",
    "\n",
    "$$\n",
    "\\begin{align}\n",
    "\\hat{P}(w) = \\frac{\\#(w)}{\\lvert D \\rvert}\n",
    ", \\quad\n",
    "\\hat{P}(c) = \\frac{\\#(c)}{\\lvert D \\rvert}\n",
    ", \\quad\n",
    "\\hat{P}(w,c) = \\frac{\\#(w,c)}{\\lvert D \\rvert}\n",
    "\\end{align}\n",
    "$$\n",
    "\n",
    "\n",
    "## Contexts\n",
    "\n",
    "$D$ is commonly obtained by taking a\n",
    "corpus $w_1$, $w_2$, . . . , $w_n$ and defining the contexts\n",
    "of word $w_i$ as the words surrounding it in an \n",
    "$L$-sized window $w_{i−L}$, . . . , $w_{i−1}$, $w_{i+1}$, . . . , $w_{i+L}$.\n",
    "\n",
    "In our case, the corpus will be genes and their contexts will be \n",
    "other genes that they co-occurr with. \n",
    "\n",
    "\n",
    "## Definitions\n",
    "\n",
    "$$\n",
    "\\begin{align}\n",
    "PMI(w, c) = \n",
    "\\log \\frac\n",
    "{\\hat{P}(w,c)}\n",
    "{\\hat{P}(w)\\hat{P}(c)} =\n",
    "\\log \\frac\n",
    "{\\#(w,c) \\, \\cdot \\lvert D \\rvert}\n",
    "{\\#(w) \\cdot \\#(c)}\n",
    "\\end{align}\n",
    "$$\n",
    "\n",
    "$$\n",
    "\\begin{align}\n",
    "PPMI(w, c) = {\\rm max} \\left[ PMI(w, c), 0 \\right]\n",
    "\\end{align}\n",
    "$$\n",
    "\n",
    "\n",
    "## Context Distribution Smoothing\n",
    "\n",
    "$$\n",
    "\\begin{align}\n",
    "PMI_{\\alpha}(w, c) = \n",
    "\\log \\frac\n",
    "{\\hat{P}(w,c)}\n",
    "{\\hat{P}(w)\\hat{P}_{\\alpha}(c)} = \n",
    "\\log \\frac\n",
    "{\\#(w,c) \\cdot \\sum_{c^{\\prime}} \\#(c^{\\prime})^{\\alpha}}\n",
    "{\\#(w) \\cdot \\#(c)^{\\alpha}}\n",
    "\\end{align}\n",
    "$$\n",
    "\n",
    "$$\n",
    "\\begin{align}\n",
    "\\hat{P}_{\\alpha}(c) = \n",
    "\\frac\n",
    "{\\#(c)^{\\alpha}}\n",
    "{\\sum_{c^{\\prime}} \\#(c^{\\prime})^{\\alpha}}\n",
    "\\end{align}\n",
    "$$"
   ]
  },
  {
   "cell_type": "code",
   "execution_count": null,
   "id": "8363b882",
   "metadata": {},
   "outputs": [],
   "source": [
    "from collections import Counter\n",
    "import itertools\n",
    "import json\n",
    "import math\n",
    "import os\n",
    "from pathlib import Path\n",
    "import sys\n",
    "\n",
    "import matplotlib.pyplot as plt\n",
    "import numpy as np\n",
    "import pandas as pd\n",
    "import plotly.express as px\n",
    "from scipy import sparse\n",
    "from scipy.sparse import linalg\n",
    "from sklearn.preprocessing import normalize\n",
    "from sklearn.metrics.pairwise import cosine_similarity\n",
    "from tqdm import tqdm"
   ]
  },
  {
   "cell_type": "code",
   "execution_count": null,
   "id": "18d7aed0",
   "metadata": {},
   "outputs": [],
   "source": [
    "from hack4nf import synapse \n",
    "from hack4nf import genie\n",
    "from hack4nf import embedders"
   ]
  },
  {
   "cell_type": "code",
   "execution_count": null,
   "id": "f35eb01d",
   "metadata": {},
   "outputs": [],
   "source": [
    "from IPython.display import display, HTML\n",
    "display(HTML(\"<style>.container { width:100% !important; }</style>\"))"
   ]
  },
  {
   "cell_type": "code",
   "execution_count": null,
   "id": "ab2526a8",
   "metadata": {},
   "outputs": [],
   "source": [
    "pd.set_option('display.max_columns', 200)"
   ]
  },
  {
   "cell_type": "code",
   "execution_count": null,
   "id": "214c7d41",
   "metadata": {},
   "outputs": [],
   "source": [
    "#genie_dataset_version = \"genie-12.0-public\"\n",
    "genie_dataset_version = \"genie-13.3-consortium\""
   ]
  },
  {
   "cell_type": "code",
   "execution_count": null,
   "id": "9166c5fc",
   "metadata": {},
   "outputs": [],
   "source": [
    "FILE_NAME_TO_PATH = synapse.get_file_name_to_path()\n",
    "syn_file_paths = {\n",
    "    'data_clinical_patient': FILE_NAME_TO_PATH[genie_dataset_version]['data_clinical_patient'],\n",
    "    'data_clinical_sample': FILE_NAME_TO_PATH[genie_dataset_version]['data_clinical_sample'],\n",
    "    'data_mutations_extended': FILE_NAME_TO_PATH[genie_dataset_version]['data_mutations_extended'],\n",
    "    'data_CNA': FILE_NAME_TO_PATH[genie_dataset_version]['data_CNA'],\n",
    "    'data_cna_hg19_seg': FILE_NAME_TO_PATH[genie_dataset_version]['data_cna_hg19'],\n",
    "}\n",
    "syn_file_paths"
   ]
  },
  {
   "cell_type": "markdown",
   "id": "dafeba11",
   "metadata": {},
   "source": [
    "# GENIE Joined Mutation Data "
   ]
  },
  {
   "cell_type": "code",
   "execution_count": null,
   "id": "6c5be30c",
   "metadata": {},
   "outputs": [],
   "source": [
    "df_mut_all = genie.read_pat_sam_mut(\n",
    "    syn_file_paths[\"data_clinical_patient\"],\n",
    "    syn_file_paths[\"data_clinical_sample\"],\n",
    "    syn_file_paths[\"data_mutations_extended\"],\n",
    ")"
   ]
  },
  {
   "cell_type": "markdown",
   "id": "180e6bda",
   "metadata": {},
   "source": [
    "# GENIE - Clinical Sample"
   ]
  },
  {
   "cell_type": "code",
   "execution_count": null,
   "id": "e12b333d",
   "metadata": {},
   "outputs": [],
   "source": [
    "df_dcs_all = genie.read_clinical_sample(syn_file_paths[\"data_clinical_sample\"])\n",
    "df_dcs_all['CENTER'] = df_dcs_all['SAMPLE_ID'].apply(lambda x: x.split('-')[1])"
   ]
  },
  {
   "cell_type": "code",
   "execution_count": null,
   "id": "b4b0a2f1",
   "metadata": {},
   "outputs": [],
   "source": [
    "df_cen_all = df_dcs_all['CENTER'].value_counts().to_frame('count')\n",
    "df_cen_all['frac'] = df_cen_all['count'] / df_cen_all['count'].sum()\n",
    "df_cen_all"
   ]
  },
  {
   "cell_type": "code",
   "execution_count": null,
   "id": "aeb88298",
   "metadata": {},
   "outputs": [],
   "source": [
    "df_dcs_all[df_dcs_all['CENTER']=='MSK']['SEQ_ASSAY_ID'].value_counts()"
   ]
  },
  {
   "cell_type": "markdown",
   "id": "726f6be7",
   "metadata": {},
   "source": [
    "# Subset for embedding"
   ]
  },
  {
   "cell_type": "code",
   "execution_count": null,
   "id": "fa8d8d71",
   "metadata": {},
   "outputs": [],
   "source": [
    "EMBEDDINGS_PATH = \"../embeddings\"\n",
    "MIN_UNIGRAM_COUNT = 10"
   ]
  },
  {
   "cell_type": "markdown",
   "id": "8b035b6b",
   "metadata": {},
   "source": [
    "### Mutations MSK-IMPACT468"
   ]
  },
  {
   "cell_type": "code",
   "execution_count": null,
   "id": "ec05bf72",
   "metadata": {},
   "outputs": [],
   "source": [
    "subset_name = \"MSK-IMPACT468\"\n",
    "df_dcs = df_dcs_all[df_dcs_all['SEQ_ASSAY_ID']=='MSK-IMPACT468']\n",
    "df_mut = df_mut_all[df_mut_all['SAMPLE_ID'].isin(df_dcs['SAMPLE_ID'])]\n",
    "ser_mut_tokens = df_mut.groupby('SAMPLE_ID')['Hugo_Symbol'].apply(list)\n",
    "embds_mut = embedders.GeneMutationEmbeddings(\n",
    "    ser_mut_tokens, \n",
    "    subset_name, \n",
    "    min_unigram_count=MIN_UNIGRAM_COUNT,\n",
    ")\n",
    "embds_mut.create_embeddings()\n",
    "embds_mut.write_projector_files(df_dcs, EMBEDDINGS_PATH, f'dme_{subset_name}')"
   ]
  },
  {
   "cell_type": "markdown",
   "id": "3f5f53cc",
   "metadata": {},
   "source": [
    "### Mutations ALL "
   ]
  },
  {
   "cell_type": "code",
   "execution_count": null,
   "id": "6f7790b8",
   "metadata": {},
   "outputs": [],
   "source": [
    "subset_name = \"ALL\"\n",
    "df_dcs = df_dcs_all\n",
    "df_mut = df_mut_all\n",
    "ser_mut_tokens = df_mut.groupby('SAMPLE_ID')['Hugo_Symbol'].apply(list)\n",
    "embds_mut = embedders.GeneMutationEmbeddings(\n",
    "    ser_mut_tokens, \n",
    "    subset_name, \n",
    "    min_unigram_count=MIN_UNIGRAM_COUNT,\n",
    ")\n",
    "embds_mut.create_embeddings()\n",
    "embds_mut.write_projector_files(df_dcs, EMBEDDINGS_PATH, f'dme_{subset_name}')"
   ]
  },
  {
   "cell_type": "code",
   "execution_count": null,
   "id": "f62a0cec",
   "metadata": {},
   "outputs": [],
   "source": []
  },
  {
   "cell_type": "code",
   "execution_count": null,
   "id": "5613b11f",
   "metadata": {},
   "outputs": [],
   "source": [
    "!ls ../embeddings"
   ]
  },
  {
   "cell_type": "code",
   "execution_count": null,
   "id": "d59a9a55",
   "metadata": {},
   "outputs": [],
   "source": [
    "df_v = pd.read_csv(\n",
    "    os.path.join(EMBEDDINGS_PATH, 'dme_ALL_gene_svd_200_vecs.tsv'), \n",
    "    sep='\\t', \n",
    "    header=None,\n",
    ")"
   ]
  },
  {
   "cell_type": "code",
   "execution_count": null,
   "id": "6d8ec588",
   "metadata": {},
   "outputs": [],
   "source": [
    "df_v"
   ]
  },
  {
   "cell_type": "code",
   "execution_count": null,
   "id": "164c03e7",
   "metadata": {},
   "outputs": [],
   "source": [
    "df_m = pd.read_csv(os.path.join(EMBEDDINGS_PATH, 'dme_ALL_sample_meta.tsv'), sep='\\t')"
   ]
  },
  {
   "cell_type": "code",
   "execution_count": null,
   "id": "89baca9b",
   "metadata": {
    "scrolled": true
   },
   "outputs": [],
   "source": [
    "df_m"
   ]
  },
  {
   "cell_type": "code",
   "execution_count": null,
   "id": "8cea88c7",
   "metadata": {},
   "outputs": [],
   "source": []
  },
  {
   "cell_type": "code",
   "execution_count": null,
   "id": "43ae685e",
   "metadata": {},
   "outputs": [],
   "source": []
  },
  {
   "cell_type": "code",
   "execution_count": null,
   "id": "defe618c",
   "metadata": {},
   "outputs": [],
   "source": []
  },
  {
   "cell_type": "markdown",
   "id": "2faa8805",
   "metadata": {},
   "source": [
    "# GENIE - Data CNA (Discrete Copy Number Alteration Data)\n",
    "\n",
    "https://docs.cbioportal.org/file-formats/#discrete-copy-number-data\n",
    "\n",
    "For each gene-sample combination, a copy number level is specified:\n",
    "\n",
    "* \"-2\" is a deep loss, possibly a homozygous deletion\n",
    "* \"-1\" is a single-copy loss (heterozygous deletion)\n",
    "* \"0\" is diploid\n",
    "* \"1\" indicates a low-level gain\n",
    "* \"2\" is a high-level amplification."
   ]
  },
  {
   "cell_type": "code",
   "execution_count": null,
   "id": "c32e2fe0",
   "metadata": {},
   "outputs": [],
   "source": [
    "df_cna_all = genie.read_cna(syn_file_paths['data_CNA'])\n",
    "df_cna_all = df_cna_all.fillna(0.0).abs()"
   ]
  },
  {
   "cell_type": "code",
   "execution_count": null,
   "id": "06b12345",
   "metadata": {},
   "outputs": [],
   "source": [
    "subset_name = \"MSK-IMPACT468\"\n",
    "df_dcs = df_dcs_all[df_dcs_all['SEQ_ASSAY_ID']=='MSK-IMPACT468']\n",
    "df_cna = df_cna_all.loc[df_dcs['SAMPLE_ID']]\n",
    "df_cna_melted = genie.get_melted_cna(df_cna, drop_nan=True, drop_zero=True)\n",
    "ser_cna_tokens = df_cna_melted.groupby('SAMPLE_ID').apply(\n",
    "    lambda x: list(zip(x['hugo'], x['dcna']))\n",
    ")\n",
    "embds_cna = embedders.GeneCnaEmbeddings(\n",
    "    ser_cna_tokens, \n",
    "    subset_name, \n",
    "    min_unigram_count=MIN_UNIGRAM_COUNT,\n",
    ")\n",
    "embds_cna.create_embeddings()\n",
    "embds_cna.write_projector_files(df_dcs, EMBEDDINGS_PATH, f'cna_{subset_name}')"
   ]
  },
  {
   "cell_type": "code",
   "execution_count": null,
   "id": "2faa1ca7",
   "metadata": {},
   "outputs": [],
   "source": [
    "subset_name = \"ALL\"\n",
    "df_dcs = df_dcs_all\n",
    "df_cna = df_cna_all\n",
    "df_cna_melted = genie.get_melted_cna(df_cna, drop_nan=True, drop_zero=True)\n",
    "ser_cna_tokens = df_cna_melted.groupby('SAMPLE_ID').apply(\n",
    "    lambda x: list(zip(x['hugo'], x['dcna']))\n",
    ")\n",
    "embds_cna = embedders.GeneCnaEmbeddings(\n",
    "    ser_cna_tokens, \n",
    "    subset_name, \n",
    "    min_unigram_count=MIN_UNIGRAM_COUNT,\n",
    ")\n",
    "embds_cna.create_embeddings()\n",
    "embds_cna.write_projector_files(df_dcs, EMBEDDINGS_PATH, f'cna_{subset_name}')"
   ]
  },
  {
   "cell_type": "code",
   "execution_count": null,
   "id": "cd7a38c7",
   "metadata": {},
   "outputs": [],
   "source": []
  },
  {
   "cell_type": "code",
   "execution_count": null,
   "id": "146df27a",
   "metadata": {},
   "outputs": [],
   "source": [
    "stop here"
   ]
  },
  {
   "cell_type": "markdown",
   "id": "63c79318",
   "metadata": {},
   "source": [
    "# Test Permutation Normalization"
   ]
  },
  {
   "cell_type": "code",
   "execution_count": null,
   "id": "1895cca6",
   "metadata": {},
   "outputs": [],
   "source": [
    "fake_sents = [\n",
    "    ['a', 'b'],\n",
    "    ['a', 'b', 'c'],\n",
    "    ['a', 'b', 'c', 'd'],\n",
    "    ['a', 'b', 'c', 'd', 'e'],\n",
    "    ['a', 'b', 'c', 'd', 'e', 'f'],\n",
    "]\n",
    "for sent in fake_sents:\n",
    "    perms = list(itertools.permutations(sent, 2))\n",
    "    n_tot = math.factorial(len(sent)) / (math.factorial(len(sent)-2))\n",
    "    n_apr = (len(sent) - 1) * 2\n",
    "    w_1 = len([el for el in perms if 'a' in el])\n",
    "    print(len(perms), n_tot, w_1, n_apr, perms)"
   ]
  },
  {
   "cell_type": "markdown",
   "id": "448a19c9",
   "metadata": {},
   "source": [
    "# Metadata for Projector"
   ]
  },
  {
   "cell_type": "code",
   "execution_count": null,
   "id": "c73c32c1",
   "metadata": {},
   "outputs": [],
   "source": [
    "cna_gene_l2 = genie.get_cna_norms(df_cna, axis=0).sort_values()\n",
    "cna_samp_l2 = genie.get_cna_norms(df_cna, axis=1).sort_values()"
   ]
  },
  {
   "cell_type": "code",
   "execution_count": null,
   "id": "61e4115b",
   "metadata": {},
   "outputs": [],
   "source": [
    "cna_gene_l2"
   ]
  },
  {
   "cell_type": "code",
   "execution_count": null,
   "id": "dcd32a8e",
   "metadata": {},
   "outputs": [],
   "source": [
    "df_ras = pd.read_excel('../data/nci-ras-initiative/ras-pathway-gene-names.xlsx')"
   ]
  },
  {
   "cell_type": "code",
   "execution_count": null,
   "id": "4c74ca88",
   "metadata": {},
   "outputs": [],
   "source": [
    "df_ras"
   ]
  },
  {
   "cell_type": "code",
   "execution_count": null,
   "id": "9bb2995f",
   "metadata": {},
   "outputs": [],
   "source": [
    "df_meta = pd.DataFrame(df_cna.columns).set_index(\"Hugo_Symbol\")"
   ]
  },
  {
   "cell_type": "code",
   "execution_count": null,
   "id": "d12485d2",
   "metadata": {},
   "outputs": [],
   "source": [
    "df_meta['cna_norm'] = cna_gene_l2\n",
    "df_meta = df_meta.reset_index()"
   ]
  },
  {
   "cell_type": "code",
   "execution_count": null,
   "id": "5c7804c5",
   "metadata": {},
   "outputs": [],
   "source": [
    "df_meta"
   ]
  },
  {
   "cell_type": "code",
   "execution_count": null,
   "id": "29c0bc8f",
   "metadata": {},
   "outputs": [],
   "source": [
    "df_meta = pd.merge(\n",
    "    df_meta, \n",
    "    df_ras[['Gene name']], \n",
    "    left_on='Hugo_Symbol', \n",
    "    right_on='Gene name', \n",
    "    how='left',\n",
    ").rename(columns={\"Gene name\": \"is_RAS_path\"})"
   ]
  },
  {
   "cell_type": "code",
   "execution_count": null,
   "id": "44200047",
   "metadata": {},
   "outputs": [],
   "source": [
    "df_meta"
   ]
  },
  {
   "cell_type": "code",
   "execution_count": null,
   "id": "af5fe9c6",
   "metadata": {},
   "outputs": [],
   "source": [
    "bmask = df_meta['is_RAS_path'].isnull()\n",
    "df_meta.loc[~bmask, 'is_RAS_path'] = 1\n",
    "df_meta.loc[bmask, 'is_RAS_path'] = 0"
   ]
  },
  {
   "cell_type": "code",
   "execution_count": null,
   "id": "4873ac28",
   "metadata": {},
   "outputs": [],
   "source": [
    "df_meta[df_meta['is_RAS_path']==1]"
   ]
  },
  {
   "cell_type": "code",
   "execution_count": null,
   "id": "eb499a7a",
   "metadata": {},
   "outputs": [],
   "source": [
    "df_ras"
   ]
  },
  {
   "cell_type": "code",
   "execution_count": null,
   "id": "3198c429",
   "metadata": {},
   "outputs": [],
   "source": [
    "df_meta.to_csv('pmi_svd_gene_cna_meta.tsv', sep='\\t', index=False)"
   ]
  },
  {
   "cell_type": "code",
   "execution_count": null,
   "id": "37ce8464",
   "metadata": {},
   "outputs": [],
   "source": []
  }
 ],
 "metadata": {
  "kernelspec": {
   "display_name": "Python 3 (ipykernel)",
   "language": "python",
   "name": "python3"
  },
  "language_info": {
   "codemirror_mode": {
    "name": "ipython",
    "version": 3
   },
   "file_extension": ".py",
   "mimetype": "text/x-python",
   "name": "python",
   "nbconvert_exporter": "python",
   "pygments_lexer": "ipython3",
   "version": "3.10.6"
  }
 },
 "nbformat": 4,
 "nbformat_minor": 5
}
