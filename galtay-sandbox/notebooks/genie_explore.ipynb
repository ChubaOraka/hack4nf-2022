{
 "cells": [
  {
   "cell_type": "markdown",
   "id": "7872be71",
   "metadata": {},
   "source": [
    "# Explore some data\n",
    "\n",
    "\n",
    "# GENIE Datasets\n",
    "\n",
    "### Synapse Links\n",
    "\n",
    "* GENIE 13.3 consortium https://www.synapse.org/#!Synapse:syn36709873\n",
    "  * data_clinical_patient https://www.synapse.org/#!Synapse:syn36710136\n",
    "  * data_clinical_sample https://www.synapse.org/#!Synapse:syn36710137\n",
    "  * data_mutations_extended https://www.synapse.org/#!Synapse:syn36710142\n",
    "  * data_CNA https://www.synapse.org/#!Synapse:syn36710134\n",
    "  * data_cna_hg19_seg https://www.synapse.org/#!Synapse:syn36710143\n",
    "* GENIE 12.0 public https://www.synapse.org/#!Synapse:syn32309524\n",
    "  * data_clinical_patient https://www.synapse.org/#!Synapse:syn32689054\n",
    "  * data_clinical_sample https://www.synapse.org/#!Synapse:syn32689057\n",
    "  * data_mutations_extended https://www.synapse.org/#!Synapse:syn32689317\n",
    "  * data_CNA https://www.synapse.org/#!Synapse:syn32689019\n",
    "  * data_cna_hg19_seg https://www.synapse.org/#!Synapse:syn32689379\n",
    "  \n",
    "### Data Format Explanations\n",
    "\n",
    "* https://docs.gdc.cancer.gov/Data/File_Formats/MAF_Format/\n",
    "* https://docs.cbioportal.org/file-formats/#mutation-data\n",
    "* https://docs.cbioportal.org/file-formats/#discrete-copy-number-data\n",
    "* https://docs.cbioportal.org/file-formats/#segmented-data\n",
    "  \n",
    "# Challenge 3 FAQ Datasets\n",
    "\n",
    "### Drug Screening of pNF Cell Lines\n",
    "\n",
    "* wiki https://www.synapse.org/#!Synapse:syn4939906/wiki/235909\n",
    "\n",
    "* Single Agent Screens https://www.synapse.org/#!Synapse:syn5522627\n",
    "* 10x10 Combination Screens https://www.synapse.org/#!Synapse:syn5611797\n",
    "\n",
    "\n",
    "### Synodos NF2\n",
    "\n",
    "* wiki https://www.synapse.org/#!Synapse:syn2343195/wiki/62125\n",
    "\n",
    "* SynodosNF2 DrugScreening Raw Processed Bundle https://www.synapse.org/#!Synapse:syn16815129\n",
    "\n",
    "\n",
    "# NF Subtypes\n",
    "\n",
    "https://hack4nf.slack.com/archives/C046RR7JFUL/p1665859968638679\n",
    "\n",
    "```\n",
    "Hi Lars, there is a predefined taxonomy of NF1 (e.g. MPNST, ANNUB, pNF, cNF, JMML, low grade glioma,), NF2 (e.g. schwannoma, meningioma), Schwannomatosis (e.g. schwannoma) tumor types.  Some tumors are connected too - eg pNF is thought to progress to ANNUBP which is thought to progress to MPNST, or there are subtypes of schwannoma - plexiform, melanotic, etc.\n",
    "```\n",
    "\n",
    "### NF1\n",
    "\n",
    "Accronyms / subtypes\n",
    "\n",
    "* MPNST: malignant peripheral nerve sheath tumors\n",
    "* ANNUBP: atypical neurofibromatous neoplasms of uncertain biologic potential\n",
    "* PNF: plexiform neurofibromas\n",
    "* CNF: cutaneous and subcutaneous neurofibromas\n",
    "* JMML: juvenile myelomonocytic leukemias\n",
    "* GIST: gastrointestinal stromal tumors\n",
    "* OPG: optical pathway gliomas\n",
    "* SC: schwann cell\n",
    "\n",
    "Oncotree codes\n",
    "\n",
    "* NST: Nerve Sheath Tumor\n",
    "  * MPNST: Malignant Peripheral Nerve Sheath Tumor\n",
    "  * NFIB: Neurofibroma\n",
    "  * SCHW: Schwannoma\n",
    "    * CSCHW: Cellular Schwannoma\n",
    "    * MSCHW: Melanotic Schwannoma\n",
    " \n",
    "\n",
    "\n",
    "## Inspiration\n",
    "\n",
    "[The Consensus Molecular Subtypes of Colorectal Cancer](https://www.ncbi.nlm.nih.gov/pmc/articles/PMC4636487/)\n",
    "\n",
    "[Genotype-phenotype correlation in neurofibromatosis type-1: NF1 whole gene deletions lead to high tumor-burden and increased tumor-growth](https://www.ncbi.nlm.nih.gov/pmc/articles/PMC8099117/)\n",
    "\n",
    "[Emerging therapeutic targets for neurofibromatosis type 1 (NF1)](https://www.ncbi.nlm.nih.gov/pmc/articles/PMC7017752/)\n",
    "\n",
    "[Topology based data analysis identifies a subgroup of breast cancers with a unique mutational profile and excellent survival](https://www.pnas.org/doi/10.1073/pnas.1102826108)\n",
    "\n",
    "https://github.com/scikit-tda/kepler-mapper/tree/master/examples\n",
    "\n",
    "https://kepler-mapper.scikit-tda.org/en/latest/generated/gallery/plot_breast_cancer.html\n",
    "\n",
    "[Embedding of Genes Using Cancer Gene Expression Data: Biological Relevance and Potential Application on Biomarker Discovery](https://www.frontiersin.org/articles/10.3389/fgene.2018.00682/full)\n",
    "\n",
    "https://github.com/zeochoy/tcga-embedding/blob/master/train.py"
   ]
  },
  {
   "cell_type": "code",
   "execution_count": null,
   "id": "ef119598",
   "metadata": {},
   "outputs": [],
   "source": [
    "from collections import Counter\n",
    "import json\n",
    "from pathlib import Path\n",
    "import sys\n",
    "from timeit import default_timer\n",
    "\n",
    "import matplotlib.pyplot as plt\n",
    "import numpy as np\n",
    "import pandas as pd\n",
    "from pandas_profiling import ProfileReport\n",
    "import plotly.express as px"
   ]
  },
  {
   "cell_type": "code",
   "execution_count": null,
   "id": "18d7aed0",
   "metadata": {},
   "outputs": [],
   "source": [
    "from hack4nf.synapse import get_dataset\n",
    "from hack4nf.genie_utils import (\n",
    "    read_clinical_patient, \n",
    "    read_clinical_sample, \n",
    "    read_mutations_extended,\n",
    "    read_cna,\n",
    "    read_cna_seg,\n",
    "    SYNIDS,\n",
    "    dme_to_cravat,\n",
    "    get_cna_norms,\n",
    "    get_melted_cna,\n",
    ")"
   ]
  },
  {
   "cell_type": "code",
   "execution_count": null,
   "id": "f35eb01d",
   "metadata": {},
   "outputs": [],
   "source": [
    "#from IPython.display import display, HTML\n",
    "#display(HTML(\"<style>.container { width:100% !important; }</style>\"))"
   ]
  },
  {
   "cell_type": "code",
   "execution_count": null,
   "id": "ab2526a8",
   "metadata": {},
   "outputs": [],
   "source": [
    "pd.set_option('display.max_columns', 100)"
   ]
  },
  {
   "cell_type": "code",
   "execution_count": null,
   "id": "214c7d41",
   "metadata": {},
   "outputs": [],
   "source": [
    "genie_dataset_version = \"genie_12.0\"\n",
    "#genie_dataset_version = \"genie_13.3\""
   ]
  },
  {
   "cell_type": "code",
   "execution_count": null,
   "id": "9166c5fc",
   "metadata": {},
   "outputs": [],
   "source": []
  },
  {
   "cell_type": "markdown",
   "id": "3b1307d8",
   "metadata": {},
   "source": [
    "# GENIE - Data Clinical Patient"
   ]
  },
  {
   "cell_type": "code",
   "execution_count": null,
   "id": "c228cf6c",
   "metadata": {},
   "outputs": [],
   "source": [
    "syn_file = get_dataset(SYNIDS[genie_dataset_version]['data_clinical_patient'])\n",
    "df_dcp = read_clinical_patient(syn_file.path)"
   ]
  },
  {
   "cell_type": "code",
   "execution_count": null,
   "id": "a33ec838",
   "metadata": {},
   "outputs": [],
   "source": [
    "df_dcp"
   ]
  },
  {
   "cell_type": "markdown",
   "id": "00093aa6",
   "metadata": {},
   "source": [
    "# GENIE - Data Clinical Sample"
   ]
  },
  {
   "cell_type": "code",
   "execution_count": null,
   "id": "8735bd6f",
   "metadata": {},
   "outputs": [],
   "source": [
    "syn_file = get_dataset(SYNIDS[genie_dataset_version]['data_clinical_sample'])\n",
    "df_dcs = read_clinical_sample(syn_file.path)"
   ]
  },
  {
   "cell_type": "code",
   "execution_count": null,
   "id": "ccbec399",
   "metadata": {},
   "outputs": [],
   "source": [
    "df_dcs"
   ]
  },
  {
   "cell_type": "code",
   "execution_count": null,
   "id": "3821a299",
   "metadata": {},
   "outputs": [],
   "source": [
    "np.linspace(0.5,20.5,21)"
   ]
  },
  {
   "cell_type": "markdown",
   "id": "3d1180f5",
   "metadata": {},
   "source": [
    "### Samples per Patient"
   ]
  },
  {
   "cell_type": "code",
   "execution_count": null,
   "id": "d4bca4fe",
   "metadata": {},
   "outputs": [],
   "source": [
    "_ = (\n",
    "    df_dcs.groupby('PATIENT_ID')\n",
    "    .size()\n",
    "    .sort_values()\n",
    "    .hist(\n",
    "        bins=np.linspace(0.5, 20.5, 21),\n",
    "        log=True,\n",
    "        figsize=(8,8),\n",
    "    )\n",
    ")"
   ]
  },
  {
   "cell_type": "markdown",
   "id": "bfcfb84a",
   "metadata": {},
   "source": [
    "# GENIE - Data Mutations Extended"
   ]
  },
  {
   "cell_type": "code",
   "execution_count": null,
   "id": "b4c51dfe",
   "metadata": {
    "scrolled": false
   },
   "outputs": [],
   "source": [
    "syn_file = get_dataset(SYNIDS[genie_dataset_version]['data_mutations_extended'])\n",
    "df_dme = read_mutations_extended(syn_file.path)"
   ]
  },
  {
   "cell_type": "code",
   "execution_count": null,
   "id": "d80eafe9",
   "metadata": {},
   "outputs": [],
   "source": [
    "df_dme"
   ]
  },
  {
   "cell_type": "markdown",
   "id": "baa10997",
   "metadata": {},
   "source": [
    "### Variants per Sample"
   ]
  },
  {
   "cell_type": "code",
   "execution_count": null,
   "id": "10cf5656",
   "metadata": {},
   "outputs": [],
   "source": [
    "_ = (\n",
    "    df_dme.groupby('Tumor_Sample_Barcode')\n",
    "    .size()\n",
    "    .sort_values()\n",
    "    .hist(\n",
    "        bins=np.linspace(0.5, 80.5, 81), \n",
    "        log=True, \n",
    "        figsize=(8,8),\n",
    "    )\n",
    ")"
   ]
  },
  {
   "cell_type": "markdown",
   "id": "c414170a",
   "metadata": {},
   "source": [
    "### OpenCravat from GENIE\n",
    "\n",
    "https://opencravat.org/\n",
    "\n",
    "NOTE: GENIE uses hg19/GRCh37 reference genome. \n",
    "\n",
    "\n",
    "Need tab seperated values. \n",
    "```\n",
    "CHROM   POS         STRAND  REF ALT INDIVIDUAL\n",
    "chr17   31327718    +       C   T   40442\n",
    "```"
   ]
  },
  {
   "cell_type": "code",
   "execution_count": null,
   "id": "f91466c0",
   "metadata": {},
   "outputs": [],
   "source": [
    "df_cravat = dme_to_cravat(df_dme)"
   ]
  },
  {
   "cell_type": "code",
   "execution_count": null,
   "id": "818a9400",
   "metadata": {},
   "outputs": [],
   "source": [
    "df_cravat"
   ]
  },
  {
   "cell_type": "markdown",
   "id": "1631038f",
   "metadata": {},
   "source": [
    "# GENIE - Merge Patient/Sample/Mutations"
   ]
  },
  {
   "cell_type": "code",
   "execution_count": null,
   "id": "a7adecd1",
   "metadata": {},
   "outputs": [],
   "source": [
    "df_dme_mrg = pd.merge(\n",
    "    df_dme, \n",
    "    df_dcs, \n",
    "    left_on=\"Tumor_Sample_Barcode\", \n",
    "    right_on=\"SAMPLE_ID\",\n",
    ")\n",
    "df_dme_mrg = pd.merge(\n",
    "    df_dme_mrg, \n",
    "    df_dcp,\n",
    "    on=\"PATIENT_ID\",\n",
    ")"
   ]
  },
  {
   "cell_type": "code",
   "execution_count": null,
   "id": "fc6ce598",
   "metadata": {},
   "outputs": [],
   "source": [
    "df_dme_mrg"
   ]
  },
  {
   "cell_type": "markdown",
   "id": "2faa8805",
   "metadata": {},
   "source": [
    "# GENIE - Data CNA (Discrete Copy Number Alteration Data)\n",
    "\n",
    "https://docs.cbioportal.org/file-formats/#discrete-copy-number-data\n",
    "\n",
    "For each gene-sample combination, a copy number level is specified:\n",
    "\n",
    "* \"-2\" is a deep loss, possibly a homozygous deletion\n",
    "* \"-1\" is a single-copy loss (heterozygous deletion)\n",
    "* \"0\" is diploid\n",
    "* \"1\" indicates a low-level gain\n",
    "* \"2\" is a high-level amplification."
   ]
  },
  {
   "cell_type": "code",
   "execution_count": null,
   "id": "c32e2fe0",
   "metadata": {},
   "outputs": [],
   "source": [
    "syn_file = get_dataset(SYNIDS[genie_dataset_version]['data_CNA'])\n",
    "df_cna = read_cna(syn_file.path)"
   ]
  },
  {
   "cell_type": "code",
   "execution_count": null,
   "id": "746d3f8c",
   "metadata": {},
   "outputs": [],
   "source": [
    "df_cna"
   ]
  },
  {
   "cell_type": "markdown",
   "id": "c71b0f34",
   "metadata": {},
   "source": [
    "### Sparsity"
   ]
  },
  {
   "cell_type": "code",
   "execution_count": null,
   "id": "bf0aa61d",
   "metadata": {},
   "outputs": [],
   "source": [
    "all_cna_values = df_cna.values.flatten()\n",
    "non_null_cna_values = all_cna_values[~np.isnan(all_cna_values)]\n",
    "non_zero_cna_values = non_null_cna_values[non_null_cna_values!=0]\n",
    "set(non_zero_cna_values)"
   ]
  },
  {
   "cell_type": "code",
   "execution_count": null,
   "id": "214443b7",
   "metadata": {},
   "outputs": [],
   "source": [
    "Counter(non_null_cna_values).most_common()"
   ]
  },
  {
   "cell_type": "code",
   "execution_count": null,
   "id": "271d152c",
   "metadata": {},
   "outputs": [],
   "source": [
    "print('num_samp x num_gene: ', df_cna.shape)\n",
    "print('total values: ', df_cna.size)\n",
    "print('non null values: ', len(non_null_cna_values), len(non_null_cna_values)/df_cna.size)\n",
    "print('non zero_values: ', len(non_zero_cna_values), len(non_zero_cna_values)/df_cna.size)"
   ]
  },
  {
   "cell_type": "markdown",
   "id": "b7787e85",
   "metadata": {},
   "source": [
    "### DIstribution of non-null / non-zero values"
   ]
  },
  {
   "cell_type": "code",
   "execution_count": null,
   "id": "6748fffd",
   "metadata": {},
   "outputs": [],
   "source": [
    "_ = plt.hist(non_zero_cna_values, bins=np.linspace(-2.25, 2.25, 10))"
   ]
  },
  {
   "cell_type": "markdown",
   "id": "5c32c081",
   "metadata": {},
   "source": [
    "### Gene and Sample L2 Norms"
   ]
  },
  {
   "cell_type": "code",
   "execution_count": null,
   "id": "3bf87772",
   "metadata": {},
   "outputs": [],
   "source": [
    "cna_gene_l2 = get_cna_norms(df_cna, axis=0).sort_values()\n",
    "cna_samp_l2 = get_cna_norms(df_cna, axis=1).sort_values()"
   ]
  },
  {
   "cell_type": "code",
   "execution_count": null,
   "id": "f454b8db",
   "metadata": {},
   "outputs": [],
   "source": [
    "cna_gene_l2.tail(30)"
   ]
  },
  {
   "cell_type": "code",
   "execution_count": null,
   "id": "3d4f36f3",
   "metadata": {},
   "outputs": [],
   "source": [
    "cna_gene_l2[\"NF1\"], cna_gene_l2[\"NF2\"], cna_gene_l2[\"SMARCB1\"], cna_gene_l2[\"LZTR1\"]"
   ]
  },
  {
   "cell_type": "code",
   "execution_count": null,
   "id": "2d81c42d",
   "metadata": {},
   "outputs": [],
   "source": [
    "np.log10(cna_gene_l2[\"NF1\"])"
   ]
  },
  {
   "cell_type": "markdown",
   "id": "3e559e79",
   "metadata": {},
   "source": [
    "### DIstribution of Gene Vector Norms\n",
    "\n",
    "Gene vector length is related to how many samples show copy number deviation from 0. "
   ]
  },
  {
   "cell_type": "code",
   "execution_count": null,
   "id": "761b0a8f",
   "metadata": {},
   "outputs": [],
   "source": [
    "ax = np.log10(cna_gene_l2 + 1).hist(bins=30, figsize=(8,8))\n",
    "ax.axvline(x=np.log10(cna_gene_l2[\"NF1\"] + 1), ymin=0, ymax=1, color='red')\n",
    "ax.axvline(x=np.log10(cna_gene_l2[\"NF2\"] + 1), ymin=0, ymax=1, color='orange', ls='--')"
   ]
  },
  {
   "cell_type": "markdown",
   "id": "722e59a9",
   "metadata": {},
   "source": [
    "### Distribution of Sample Vector Norms\n",
    "\n",
    "Sample vector length is related to how many genes show copy number deviaion from 0"
   ]
  },
  {
   "cell_type": "code",
   "execution_count": null,
   "id": "3c08bce3",
   "metadata": {},
   "outputs": [],
   "source": [
    "ax = np.log10(cna_samp_l2 + 1).hist(bins=30, figsize=(8,4))"
   ]
  },
  {
   "cell_type": "code",
   "execution_count": null,
   "id": "cf5bfddb",
   "metadata": {},
   "outputs": [],
   "source": [
    "ax = cna_samp_l2.hist(bins=50, figsize=(8,4))"
   ]
  },
  {
   "cell_type": "markdown",
   "id": "6440c2f8",
   "metadata": {},
   "source": [
    "### Melted CNA"
   ]
  },
  {
   "cell_type": "code",
   "execution_count": null,
   "id": "9f7427c6",
   "metadata": {},
   "outputs": [],
   "source": [
    "df_cna_melted = get_melted_cna(df_cna)"
   ]
  },
  {
   "cell_type": "code",
   "execution_count": null,
   "id": "cd7bf67f",
   "metadata": {},
   "outputs": [],
   "source": [
    "df_cna_melted"
   ]
  },
  {
   "cell_type": "code",
   "execution_count": null,
   "id": "3d05c2b0",
   "metadata": {},
   "outputs": [],
   "source": [
    "df_cna_tokens = df_cna_melted.groupby('SAMPLE_ID').apply(lambda x: list(zip(x['hugo'], x['dcna'])))"
   ]
  },
  {
   "cell_type": "code",
   "execution_count": null,
   "id": "6fed3651",
   "metadata": {},
   "outputs": [],
   "source": [
    "df_cna_tokens"
   ]
  },
  {
   "cell_type": "code",
   "execution_count": null,
   "id": "9e37ff14",
   "metadata": {},
   "outputs": [],
   "source": []
  },
  {
   "cell_type": "code",
   "execution_count": null,
   "id": "ed33db27",
   "metadata": {},
   "outputs": [],
   "source": []
  },
  {
   "cell_type": "markdown",
   "id": "a97fe29d",
   "metadata": {},
   "source": [
    "# Data CNA seg (Segmented Copy Number Data) \n",
    "\n",
    "https://docs.cbioportal.org/file-formats/#segmented-data\n",
    "\n",
    "https://cnvkit.readthedocs.io/en/stable/fileformats.html#seg\n",
    "\n",
    "https://software.broadinstitute.org/software/igv/SEG"
   ]
  },
  {
   "cell_type": "code",
   "execution_count": null,
   "id": "dcdde394",
   "metadata": {},
   "outputs": [],
   "source": [
    "syn_file = get_dataset(SYNIDS[genie_dataset_version]['data_cna_hg19_seg'])\n",
    "df_seg = read_cna_seg(syn_file.path)"
   ]
  },
  {
   "cell_type": "code",
   "execution_count": null,
   "id": "1495a404",
   "metadata": {},
   "outputs": [],
   "source": [
    "df_seg"
   ]
  },
  {
   "cell_type": "code",
   "execution_count": null,
   "id": "58a18040",
   "metadata": {},
   "outputs": [],
   "source": [
    "df_seg['ID'].isin(df_dcs['SAMPLE_ID']).all()"
   ]
  },
  {
   "cell_type": "code",
   "execution_count": null,
   "id": "501ff0be",
   "metadata": {},
   "outputs": [],
   "source": []
  },
  {
   "cell_type": "markdown",
   "id": "aa70874e",
   "metadata": {},
   "source": [
    "# Drug Screens pNF"
   ]
  },
  {
   "cell_type": "code",
   "execution_count": null,
   "id": "d774b4b8",
   "metadata": {},
   "outputs": [],
   "source": [
    "synfile = get_dataset(\"syn5522642\")"
   ]
  },
  {
   "cell_type": "code",
   "execution_count": null,
   "id": "756d15e9",
   "metadata": {},
   "outputs": [],
   "source": [
    "synfile.path"
   ]
  },
  {
   "cell_type": "code",
   "execution_count": null,
   "id": "e6d90618",
   "metadata": {},
   "outputs": [],
   "source": [
    "df_hts = pd.read_csv(synfile.path)"
   ]
  },
  {
   "cell_type": "code",
   "execution_count": null,
   "id": "c1b517a8",
   "metadata": {},
   "outputs": [],
   "source": [
    "df_hts"
   ]
  },
  {
   "cell_type": "code",
   "execution_count": null,
   "id": "9417bbdb",
   "metadata": {},
   "outputs": [],
   "source": [
    "plt_data = {\n",
    "    \"NCGC protocol\": [],\n",
    "    \"NCGC SID\": [],\n",
    "    \"Cell line\": [],\n",
    "    \"C\": [],\n",
    "    \"D\": [],\n",
    "    'name': [],\n",
    "    'target': [],\n",
    "}\n",
    "for ii,row in df_hts.iterrows():\n",
    "    for i in range(11):\n",
    "        plt_data['NCGC protocol'].append(row[\"NCGC protocol\"])\n",
    "        plt_data['NCGC SID'].append(row[\"NCGC SID\"])\n",
    "        plt_data[\"Cell line\"].append(row[\"Cell line\"])\n",
    "        plt_data['C'].append(row[f\"C{i}\"])\n",
    "        plt_data['D'].append(row[f\"DATA{i}\"])\n",
    "        plt_data['name'].append(row['name'])\n",
    "        plt_data['target'].append(row['target'])"
   ]
  },
  {
   "cell_type": "code",
   "execution_count": null,
   "id": "18301a68",
   "metadata": {},
   "outputs": [],
   "source": [
    "row"
   ]
  },
  {
   "cell_type": "code",
   "execution_count": null,
   "id": "363090a5",
   "metadata": {},
   "outputs": [],
   "source": [
    "df_plt = pd.DataFrame(plt_data).sort_values([\"NCGC SID\", \"C\"])\n",
    "df_plt.head(40)"
   ]
  },
  {
   "cell_type": "code",
   "execution_count": null,
   "id": "9b09937e",
   "metadata": {},
   "outputs": [],
   "source": [
    "fig = px.line(\n",
    "    df_plt.head(11*4), \n",
    "    x=\"C\", \n",
    "    y=\"D\", \n",
    "    color=\"NCGC SID\", \n",
    "    log_x=True,\n",
    "    hover_data=['name', 'target', \"NCGC protocol\", \"Cell line\"],\n",
    ")\n",
    "fig.update_layout(showlegend=False)\n",
    "fig.update_traces(line=dict(width=0.5))\n",
    "fig.show()"
   ]
  },
  {
   "cell_type": "code",
   "execution_count": null,
   "id": "82439442",
   "metadata": {},
   "outputs": [],
   "source": []
  }
 ],
 "metadata": {
  "kernelspec": {
   "display_name": "Python 3 (ipykernel)",
   "language": "python",
   "name": "python3"
  },
  "language_info": {
   "codemirror_mode": {
    "name": "ipython",
    "version": 3
   },
   "file_extension": ".py",
   "mimetype": "text/x-python",
   "name": "python",
   "nbconvert_exporter": "python",
   "pygments_lexer": "ipython3",
   "version": "3.10.6"
  }
 },
 "nbformat": 4,
 "nbformat_minor": 5
}
