{
 "cells": [
  {
   "cell_type": "markdown",
   "id": "7872be71",
   "metadata": {},
   "source": [
    "# Create gene vectors from CNA data\n",
    "\n",
    "Use cooccurrence statistics in the discrete CNA data to create gene vectors. \n",
    "\n",
    "\n",
    "https://www.kaggle.com/code/kenshoresearch/kdwd-pmi-word-vectors\n",
    "\n",
    "https://aclanthology.org/Q15-1016/ (LGD15)\n",
    "\n"
   ]
  },
  {
   "cell_type": "code",
   "execution_count": null,
   "id": "8363b882",
   "metadata": {},
   "outputs": [],
   "source": [
    "from collections import Counter\n",
    "import itertools\n",
    "import json\n",
    "import math\n",
    "from pathlib import Path\n",
    "import sys\n",
    "\n",
    "import matplotlib.pyplot as plt\n",
    "import numpy as np\n",
    "import pandas as pd\n",
    "import plotly.express as px\n",
    "from scipy import sparse\n",
    "from scipy.sparse import linalg\n",
    "from sklearn.preprocessing import normalize\n",
    "from sklearn.metrics.pairwise import cosine_similarity\n",
    "from tqdm import tqdm"
   ]
  },
  {
   "cell_type": "code",
   "execution_count": null,
   "id": "18d7aed0",
   "metadata": {},
   "outputs": [],
   "source": [
    "from hack4nf.synapse import get_dataset\n",
    "from hack4nf.genie_utils import (\n",
    "    read_clinical_patient, \n",
    "    read_clinical_sample, \n",
    "    read_mutations_extended,\n",
    "    read_cna,\n",
    "    read_cna_seg,\n",
    "    SYNIDS,\n",
    "    dme_to_cravat,\n",
    "    get_cna_norms,\n",
    "    get_melted_cna,\n",
    ")"
   ]
  },
  {
   "cell_type": "code",
   "execution_count": null,
   "id": "f35eb01d",
   "metadata": {},
   "outputs": [],
   "source": [
    "#from IPython.display import display, HTML\n",
    "#display(HTML(\"<style>.container { width:100% !important; }</style>\"))"
   ]
  },
  {
   "cell_type": "code",
   "execution_count": null,
   "id": "ab2526a8",
   "metadata": {},
   "outputs": [],
   "source": [
    "pd.set_option('display.max_columns', 100)"
   ]
  },
  {
   "cell_type": "code",
   "execution_count": null,
   "id": "214c7d41",
   "metadata": {},
   "outputs": [],
   "source": [
    "genie_dataset_version = \"genie_12.0\"\n",
    "#genie_dataset_version = \"genie_13.3\""
   ]
  },
  {
   "cell_type": "code",
   "execution_count": null,
   "id": "9166c5fc",
   "metadata": {},
   "outputs": [],
   "source": [
    "syn_file_paths = {\n",
    "    'data_clinical_patient': get_dataset(SYNIDS[genie_dataset_version]['data_clinical_patient']).path,\n",
    "    'data_clinical_sample': get_dataset(SYNIDS[genie_dataset_version]['data_clinical_sample']).path,\n",
    "    'data_mutations_extended': get_dataset(SYNIDS[genie_dataset_version]['data_mutations_extended']).path,\n",
    "    'data_CNA': get_dataset(SYNIDS[genie_dataset_version]['data_CNA']).path,\n",
    "    'data_cna_hg19_seg': get_dataset(SYNIDS[genie_dataset_version]['data_cna_hg19_seg']).path,\n",
    "}\n",
    "syn_file_paths"
   ]
  },
  {
   "cell_type": "markdown",
   "id": "2faa8805",
   "metadata": {},
   "source": [
    "# GENIE - Data CNA (Discrete Copy Number Alteration Data)\n",
    "\n",
    "https://docs.cbioportal.org/file-formats/#discrete-copy-number-data\n",
    "\n",
    "For each gene-sample combination, a copy number level is specified:\n",
    "\n",
    "* \"-2\" is a deep loss, possibly a homozygous deletion\n",
    "* \"-1\" is a single-copy loss (heterozygous deletion)\n",
    "* \"0\" is diploid\n",
    "* \"1\" indicates a low-level gain\n",
    "* \"2\" is a high-level amplification."
   ]
  },
  {
   "cell_type": "code",
   "execution_count": null,
   "id": "c32e2fe0",
   "metadata": {},
   "outputs": [],
   "source": [
    "df_cna = read_cna(syn_file_paths['data_CNA'])"
   ]
  },
  {
   "cell_type": "code",
   "execution_count": null,
   "id": "746d3f8c",
   "metadata": {},
   "outputs": [],
   "source": [
    "df_cna"
   ]
  },
  {
   "cell_type": "markdown",
   "id": "b5ab848b",
   "metadata": {},
   "source": [
    "# Create CNA \"Sentences\" \n",
    "\n",
    "We are going to create Gene vectors by treating them like words in sentences. \n",
    "\n",
    "# Pointwise Mutual Information Matrices\n",
    "\n",
    "\n",
    "## Notation\n",
    "\n",
    "\n",
    "We assume a collection of words $w \\in V_W$ and their\n",
    "contexts $c \\in V_C$, where $V_W$ and $V_C$\n",
    "are the word and context vocabularies, and denote\n",
    "the collection of observed word-context pairs as $D$.\n",
    "\n",
    "We use $\\#(w,c)$ to denote the number of times the pair\n",
    "$(w,c)$ appears in $D$. Similarly, \n",
    "\n",
    "$$\n",
    "\\begin{align}\n",
    "\\#(w) = \\sum_{c^{\\prime} \\in V_C} \\#(w, c^{\\prime})\n",
    "\\\\\n",
    "\\#(c) = \\sum_{w^{\\prime} \\in V_W} \\#(w^{\\prime}, c)\n",
    "\\end{align}\n",
    "$$\n",
    "\n",
    "are the number of times $w$ and $c$ occurred in $D$, respectively.\n",
    "\n",
    "## Contexts\n",
    "\n",
    "$D$ is commonly obtained by taking a\n",
    "corpus $w_1$, $w_2$, . . . , $w_n$ and defining the contexts\n",
    "of word $w_i$ as the words surrounding it in an \n",
    "$L$-sized window $w_{i−L}$, . . . , $w_{i−1}$, $w_{i+1}$, . . . , $w_{i+L}$.\n",
    "\n",
    "In our case, the corpus will be genes and their contexts will be \n",
    "other genes that they co-occurr with. \n",
    "\n",
    "\n",
    "## Definitions\n",
    "\n",
    "$$\n",
    "\\begin{align}\n",
    "PMI(w, c) = \n",
    "\\log \\frac\n",
    "{\\hat{P}(w,c)}\n",
    "{\\hat{P}(w)\\hat{P}(c)} =\n",
    "\\log \\frac\n",
    "{\\#(w,c) \\, \\cdot \\lvert D \\rvert}\n",
    "{\\#(w) \\cdot \\#(c)}\n",
    "\\\\\n",
    "\\\\\n",
    "PPMI(w, c) = {\\rm max} \\left[ PMI(w, c), 0 \\right]\n",
    "\\\\\n",
    "\\\\\n",
    "\\#(w) = \\sum_{c^{\\prime}} \\#(w, c^{\\prime}),\n",
    "\\quad\n",
    "\\#(c) = \\sum_{w^{\\prime}} \\#(w^{\\prime}, c)\n",
    "\\end{align}\n",
    "$$\n",
    "\n",
    "\n",
    "## Context Distribution Smoothing\n",
    "\n",
    "$$\n",
    "\\begin{align}\n",
    "PMI_{\\alpha}(w, c) = \n",
    "\\log \\frac\n",
    "{\\hat{P}(w,c)}\n",
    "{\\hat{P}(w)\\hat{P}_{\\alpha}(c)}\n",
    "\\\\\n",
    "\\\\\n",
    "\\hat{P}_{\\alpha}(c) = \n",
    "\\frac\n",
    "{\\#(c)^{\\alpha}}\n",
    "{\\sum_c \\#(c)^{\\alpha}}\n",
    "\\end{align}\n",
    "$$"
   ]
  },
  {
   "cell_type": "code",
   "execution_count": null,
   "id": "89271a36",
   "metadata": {},
   "outputs": [],
   "source": [
    "df_cna_melted = get_melted_cna(df_cna, drop_nan=True, drop_zero=True)"
   ]
  },
  {
   "cell_type": "code",
   "execution_count": null,
   "id": "22ae9ae4",
   "metadata": {},
   "outputs": [],
   "source": [
    "df_cna_melted"
   ]
  },
  {
   "cell_type": "code",
   "execution_count": null,
   "id": "3db672e7",
   "metadata": {},
   "outputs": [],
   "source": [
    "ser_cna_tokens = df_cna_melted.groupby('SAMPLE_ID').apply(lambda x: list(zip(x['hugo'], x['dcna'])))"
   ]
  },
  {
   "cell_type": "code",
   "execution_count": null,
   "id": "5258fb34",
   "metadata": {},
   "outputs": [],
   "source": [
    "ser_cna_tokens"
   ]
  },
  {
   "cell_type": "markdown",
   "id": "12b9fd63",
   "metadata": {},
   "source": [
    "# Create Gene Cooccurence and PMI Matrices"
   ]
  },
  {
   "cell_type": "code",
   "execution_count": null,
   "id": "e09ca68a",
   "metadata": {},
   "outputs": [],
   "source": [
    "indx_to_gene = {ii: gene for ii, gene in enumerate(df_cna.columns)}\n",
    "gene_to_indx = {gene: ii for ii, gene in indx_to_gene.items()}"
   ]
  },
  {
   "cell_type": "code",
   "execution_count": null,
   "id": "0de117ae",
   "metadata": {},
   "outputs": [],
   "source": [
    "unigram_counts = Counter()\n",
    "for row in tqdm(ser_cna_tokens):\n",
    "    for gene, weight in row:\n",
    "        unigram_counts[gene] += abs(weight)"
   ]
  },
  {
   "cell_type": "markdown",
   "id": "bfdb229a",
   "metadata": {},
   "source": [
    "### Zipfian Plot "
   ]
  },
  {
   "cell_type": "code",
   "execution_count": null,
   "id": "f7145d6d",
   "metadata": {},
   "outputs": [],
   "source": [
    "ranks = list(range(1, len(unigram_counts) + 1))\n",
    "weights = [unigram[1] for unigram in unigram_counts.most_common()]"
   ]
  },
  {
   "cell_type": "code",
   "execution_count": null,
   "id": "4dc3c47a",
   "metadata": {},
   "outputs": [],
   "source": [
    "_ = plt.plot(ranks, np.log10(weights)) "
   ]
  },
  {
   "cell_type": "code",
   "execution_count": null,
   "id": "cb23ab48",
   "metadata": {},
   "outputs": [],
   "source": [
    "# Here we create (word-gene, context-gene) pairs by forming \n",
    "# every possile permuation of size 2 for all the genes that \n",
    "# have non-zero count number variation in the same sample. \n",
    "# for weight we use the norm of the vector created by the \n",
    "# discrete CNA values for the two genes.  \n",
    "skipgram_weights = Counter()\n",
    "for row in tqdm(ser_cna_tokens):\n",
    "    for combo in itertools.permutations(row, 2):\n",
    "        (gene_left, weight_left), (gene_right, weight_right) = combo\n",
    "        weight = math.sqrt(weight_left**2 + weight_right**2)\n",
    "        skipgram = (gene_left, gene_right)\n",
    "        skipgram_weights[skipgram] += weight"
   ]
  },
  {
   "cell_type": "code",
   "execution_count": null,
   "id": "99d0ec09",
   "metadata": {},
   "outputs": [],
   "source": [
    "skipgram_weights.most_common(10)"
   ]
  },
  {
   "cell_type": "markdown",
   "id": "b939bd5c",
   "metadata": {},
   "source": [
    "### Create Sparse Co-Occurrence Matrix"
   ]
  },
  {
   "cell_type": "code",
   "execution_count": null,
   "id": "614978cf",
   "metadata": {},
   "outputs": [],
   "source": [
    "row_indxs = []\n",
    "col_indxs = []\n",
    "dat_values = []\n",
    "for (gene1, gene2), sg_weight in tqdm(skipgram_weights.items()):    \n",
    "    row_indxs.append(gene_to_indx[gene1])\n",
    "    col_indxs.append(gene_to_indx[gene2])\n",
    "    dat_values.append(sg_weight)\n",
    "gg_weight_mat = sparse.csr_matrix((dat_values, (row_indxs, col_indxs)))"
   ]
  },
  {
   "cell_type": "code",
   "execution_count": null,
   "id": "8965a270",
   "metadata": {},
   "outputs": [],
   "source": [
    "gg_weight_mat"
   ]
  },
  {
   "cell_type": "code",
   "execution_count": null,
   "id": "9f009cf8",
   "metadata": {},
   "outputs": [],
   "source": [
    "# normalize rows\n",
    "gg_weight_mat_l2 = normalize(gg_weight_mat, norm='l2', axis=1)"
   ]
  },
  {
   "cell_type": "code",
   "execution_count": null,
   "id": "af1d3adb",
   "metadata": {},
   "outputs": [],
   "source": [
    "# demonstrate normalization\n",
    "irow=10\n",
    "row = gg_weight_mat_l2.getrow(irow).toarray().flatten()\n",
    "print(np.sqrt((row*row).sum()))\n",
    "\n",
    "row = gg_weight_mat.getrow(irow).toarray().flatten()\n",
    "print(np.sqrt((row*row).sum()))"
   ]
  },
  {
   "cell_type": "code",
   "execution_count": null,
   "id": "9685b2af",
   "metadata": {},
   "outputs": [],
   "source": []
  },
  {
   "cell_type": "markdown",
   "id": "16efaa7c",
   "metadata": {},
   "source": [
    "### Pointwise Mutual Information Matrices"
   ]
  },
  {
   "cell_type": "code",
   "execution_count": null,
   "id": "2b11f46f",
   "metadata": {},
   "outputs": [],
   "source": [
    "word = \"NF1\"\n",
    "context = \"KRAS\"\n",
    "word_indx = gene_to_indx[word]\n",
    "context_indx = gene_to_indx[context]\n",
    "print('#(w,c) for ({},{}) from skipgrams: {}'.format(\n",
    "    word, context, skipgram_weights[(word, context)]))\n",
    "print('#(w,c) for ({},{}) from count_matrix: {}'.format(\n",
    "    word, context, gg_weight_mat[word_indx, context_indx]))"
   ]
  },
  {
   "cell_type": "code",
   "execution_count": null,
   "id": "98c61706",
   "metadata": {},
   "outputs": [],
   "source": [
    "sum_over_words = np.array(gg_weight_mat.sum(axis=0)).flatten()    # sum over rows\n",
    "sum_over_contexts = np.array(gg_weight_mat.sum(axis=1)).flatten() # sum over columns\n",
    "\n",
    "pound_w_check1 = gg_weight_mat.getrow(word_indx).sum()\n",
    "pound_w_check2 = sum_over_contexts[word_indx]\n",
    "print('#(w) for \"{}\" from getrow then sum: {}'.format(word, pound_w_check1))\n",
    "print('#(w) for \"{}\" from sum_over_contexts: {}'.format(word, pound_w_check2))\n",
    "\n",
    "pound_c_check1 = gg_weight_mat.getcol(context_indx).sum()\n",
    "pound_c_check2 = sum_over_words[context_indx]\n",
    "print('#(c) for \"{}\" from getcol then sum: {}'.format(context, pound_c_check1))\n",
    "print('#(c) for \"{}\" from sum_over_words: {}'.format(context, pound_c_check2))"
   ]
  },
  {
   "cell_type": "code",
   "execution_count": null,
   "id": "d540051a",
   "metadata": {},
   "outputs": [],
   "source": [
    "def get_ppmi_matrix(skipgram_weights, gg_weight_mat, gene_to_indx, alpha=0.75):\n",
    "\n",
    "    # for standard PPMI\n",
    "    DD = gg_weight_mat.sum()\n",
    "    sum_over_words = np.array(gg_weight_mat.sum(axis=0)).flatten()\n",
    "    sum_over_contexts = np.array(gg_weight_mat.sum(axis=1)).flatten()\n",
    "    \n",
    "        \n",
    "    # for context distribution smoothing (cds)\n",
    "    sum_over_words_alpha = sum_over_words**alpha\n",
    "    Pc_alpha_denom = np.sum(sum_over_words_alpha)\n",
    "        \n",
    "    row_indxs = []\n",
    "    col_indxs = []\n",
    "    ppmi_dat_values = []   # positive pointwise mutual information\n",
    "    \n",
    "    for skipgram in tqdm(\n",
    "        skipgram_weights.items(), \n",
    "        total=len(skipgram_weights), \n",
    "        desc='building ppmi matrix row,col,dat'\n",
    "    ):\n",
    "        \n",
    "        (word, context), pound_wc = skipgram\n",
    "        word_indx = gene_to_indx[word]\n",
    "        context_indx = gene_to_indx[context]\n",
    "        \n",
    "        pound_w = sum_over_contexts[word_indx]\n",
    "        pound_c = sum_over_words[context_indx]\n",
    "        pound_c_alpha = sum_over_words_alpha[context_indx]\n",
    "\n",
    "        Pwc = pound_wc / DD\n",
    "        Pw = pound_w / DD\n",
    "        Pc = pound_c / DD\n",
    "        Pc_alpha = pound_c_alpha / Pc_alpha_denom\n",
    "\n",
    "        pmi = np.log2(Pwc / (Pw * Pc_alpha))\n",
    "        ppmi = max(pmi, 0)\n",
    "        \n",
    "        row_indxs.append(word_indx)\n",
    "        col_indxs.append(context_indx)\n",
    "        ppmi_dat_values.append(ppmi)\n",
    "\n",
    "    mat = sparse.csr_matrix((ppmi_dat_values, (row_indxs, col_indxs)))\n",
    "    return mat"
   ]
  },
  {
   "cell_type": "code",
   "execution_count": null,
   "id": "443a3080",
   "metadata": {},
   "outputs": [],
   "source": [
    "ppmi_mat = get_ppmi_matrix(skipgram_weights, gg_weight_mat, gene_to_indx)"
   ]
  },
  {
   "cell_type": "code",
   "execution_count": null,
   "id": "ac74c08f",
   "metadata": {},
   "outputs": [],
   "source": [
    "ppmi_mat"
   ]
  },
  {
   "cell_type": "code",
   "execution_count": null,
   "id": "f3dcabea",
   "metadata": {},
   "outputs": [],
   "source": [
    "def gg_sim(gene, mat, topn=10):\n",
    "    \"\"\"Calculate topn most similar genes to input gene\"\"\"\n",
    "    indx = gene_to_indx[gene]\n",
    "    if isinstance(mat, sparse.csr_matrix):\n",
    "        v1 = mat.getrow(indx)\n",
    "    else:\n",
    "        v1 = mat[indx:indx+1, :]\n",
    "    sims = cosine_similarity(mat, v1).flatten()\n",
    "    sindxs = np.argsort(-sims)\n",
    "    sim_scores = [(indx_to_gene[sindx], sims[sindx]) for sindx in sindxs[0:topn]]\n",
    "    return sim_scores"
   ]
  },
  {
   "cell_type": "code",
   "execution_count": null,
   "id": "3d23a02b",
   "metadata": {},
   "outputs": [],
   "source": [
    "gg_sim(\"NF1\", ppmi_mat)"
   ]
  },
  {
   "cell_type": "code",
   "execution_count": null,
   "id": "c53646e7",
   "metadata": {},
   "outputs": [],
   "source": [
    "gg_sim(\"NF2\", ppmi_mat)"
   ]
  },
  {
   "cell_type": "code",
   "execution_count": null,
   "id": "b6f9d7de",
   "metadata": {},
   "outputs": [],
   "source": [
    "gg_sim(\"KRAS\", ppmi_mat, topn=20)"
   ]
  },
  {
   "cell_type": "code",
   "execution_count": null,
   "id": "87859d8d",
   "metadata": {},
   "outputs": [],
   "source": [
    "gg_sim(\"BRAF\", ppmi_mat, topn=20)"
   ]
  },
  {
   "cell_type": "code",
   "execution_count": null,
   "id": "fc91103d",
   "metadata": {},
   "outputs": [],
   "source": []
  },
  {
   "cell_type": "code",
   "execution_count": null,
   "id": "e2a7996b",
   "metadata": {},
   "outputs": [],
   "source": [
    "embedding_size = 200\n",
    "uu, ss, vv = linalg.svds(ppmi_mat, embedding_size)"
   ]
  },
  {
   "cell_type": "code",
   "execution_count": null,
   "id": "8c47cc43",
   "metadata": {},
   "outputs": [],
   "source": [
    "print('vocab size: {}'.format(len(unigram_counts)))\n",
    "print('ppmi size: {}'.format(ppmi_mat.shape))\n",
    "print('embedding size: {}'.format(embedding_size))\n",
    "print('uu.shape: {}'.format(uu.shape))\n",
    "print('ss.shape: {}'.format(ss.shape))\n",
    "print('vv.shape: {}'.format(vv.shape))"
   ]
  },
  {
   "cell_type": "code",
   "execution_count": null,
   "id": "4090ef66",
   "metadata": {},
   "outputs": [],
   "source": []
  },
  {
   "cell_type": "code",
   "execution_count": null,
   "id": "062d2257",
   "metadata": {},
   "outputs": [],
   "source": [
    "p = 1.0\n",
    "svd_gene_vecs = uu.dot(np.diag(ss**p))\n",
    "print(svd_gene_vecs.shape)"
   ]
  },
  {
   "cell_type": "code",
   "execution_count": null,
   "id": "abaa1664",
   "metadata": {},
   "outputs": [],
   "source": [
    "nbins = 20\n",
    "fig, axes = plt.subplots(2, 2, figsize=(16,14), sharey=False)\n",
    "\n",
    "ax = axes[0,0]\n",
    "xx = gg_weight_mat.data\n",
    "ax.hist(xx, bins=nbins, density=True, log=True)\n",
    "ax.set_xlabel('gene-gene weights')\n",
    "ax.set_ylabel('fraction')\n",
    "\n",
    "ax = axes[0,1]\n",
    "xx = gg_weight_mat_l2.data\n",
    "ax.hist(xx, bins=nbins, density=True, log=True)\n",
    "ax.set_xlim(-0.05, 1.05)\n",
    "ax.set_xlabel('gene-gene weights L2')\n",
    "\n",
    "ax = axes[1,0]\n",
    "xx = ppmi_mat.data\n",
    "ax.hist(xx, bins=nbins, density=True, log=True)\n",
    "ax.set_xlabel('PPMI')\n",
    "ax.set_ylabel('fraction')\n",
    "\n",
    "ax = axes[1,1]\n",
    "xx = svd_gene_vecs.flatten()\n",
    "ax.hist(xx, bins=nbins, density=True, log=True)\n",
    "ax.set_xlabel(f'SVD(p={p})-PPMI')\n",
    "\n",
    "fig.suptitle('Distribution of Embedding Matrix Values');"
   ]
  },
  {
   "cell_type": "code",
   "execution_count": null,
   "id": "c8e85b54",
   "metadata": {},
   "outputs": [],
   "source": []
  },
  {
   "cell_type": "code",
   "execution_count": null,
   "id": "43943f5e",
   "metadata": {},
   "outputs": [],
   "source": [
    "from sklearn.manifold import TSNE"
   ]
  },
  {
   "cell_type": "code",
   "execution_count": null,
   "id": "f1232ec1",
   "metadata": {},
   "outputs": [],
   "source": [
    "svd_2d = TSNE(\n",
    "    n_components=2, \n",
    "    init='pca',\n",
    "    learning_rate='auto',\n",
    "    random_state=3847,\n",
    ").fit_transform(svd_gene_vecs)"
   ]
  },
  {
   "cell_type": "code",
   "execution_count": null,
   "id": "bc97df1f",
   "metadata": {},
   "outputs": [],
   "source": [
    "word='NF1'\n",
    "size = 3\n",
    "indx = gene_to_indx[word]\n",
    "cen_vec = svd_2d[indx,:]\n",
    "dxdy = np.abs(svd_2d - cen_vec) \n",
    "bmask = (dxdy[:,0] < size) & (dxdy[:,1] < size)\n",
    "sub = svd_2d[bmask]\n",
    "\n",
    "\n",
    "fig, ax = plt.subplots(figsize=(15,15))\n",
    "ax.scatter(sub[:,0], sub[:,1])\n",
    "ax.set_xlim(cen_vec[0] - size, cen_vec[0] + size)\n",
    "ax.set_ylim(cen_vec[1] - size, cen_vec[1] + size)\n",
    "for ii in range(len(indx_to_gene)):\n",
    "    if not bmask[ii]:\n",
    "        continue\n",
    "    plt.annotate(\n",
    "        indx_to_gene[ii],\n",
    "        xy=(svd_2d[ii,0], svd_2d[ii,1]),\n",
    "        xytext=(5, 2),\n",
    "        textcoords='offset points',\n",
    "        ha='right',\n",
    "        va='bottom')"
   ]
  },
  {
   "cell_type": "markdown",
   "id": "5dbad758",
   "metadata": {},
   "source": [
    "# Vectors for Projector"
   ]
  },
  {
   "cell_type": "code",
   "execution_count": null,
   "id": "8aa1bd1a",
   "metadata": {},
   "outputs": [],
   "source": [
    "svd_gene_vecs"
   ]
  },
  {
   "cell_type": "code",
   "execution_count": null,
   "id": "8fa0e795",
   "metadata": {},
   "outputs": [],
   "source": [
    "df_vecs = pd.DataFrame(svd_gene_vecs)\n",
    "df_vecs.to_csv('pmi_svd_gene_cna_vecs.tsv', sep='\\t', index=False, header=False)"
   ]
  },
  {
   "cell_type": "markdown",
   "id": "448a19c9",
   "metadata": {},
   "source": [
    "# Metadata for Projector"
   ]
  },
  {
   "cell_type": "code",
   "execution_count": null,
   "id": "c73c32c1",
   "metadata": {},
   "outputs": [],
   "source": [
    "cna_gene_l2 = get_cna_norms(df_cna, axis=0).sort_values()\n",
    "cna_samp_l2 = get_cna_norms(df_cna, axis=1).sort_values()"
   ]
  },
  {
   "cell_type": "code",
   "execution_count": null,
   "id": "61e4115b",
   "metadata": {},
   "outputs": [],
   "source": [
    "cna_gene_l2"
   ]
  },
  {
   "cell_type": "code",
   "execution_count": null,
   "id": "dcd32a8e",
   "metadata": {},
   "outputs": [],
   "source": [
    "df_ras = pd.read_excel('../data/nci-ras-initiative/ras-pathway-gene-names.xlsx')"
   ]
  },
  {
   "cell_type": "code",
   "execution_count": null,
   "id": "4c74ca88",
   "metadata": {},
   "outputs": [],
   "source": [
    "df_ras"
   ]
  },
  {
   "cell_type": "code",
   "execution_count": null,
   "id": "9bb2995f",
   "metadata": {},
   "outputs": [],
   "source": [
    "df_meta = pd.DataFrame(df_cna.columns).set_index(\"Hugo_Symbol\")"
   ]
  },
  {
   "cell_type": "code",
   "execution_count": null,
   "id": "d12485d2",
   "metadata": {},
   "outputs": [],
   "source": [
    "df_meta['cna_norm'] = cna_gene_l2\n",
    "df_meta = df_meta.reset_index()"
   ]
  },
  {
   "cell_type": "code",
   "execution_count": null,
   "id": "5c7804c5",
   "metadata": {},
   "outputs": [],
   "source": [
    "df_meta"
   ]
  },
  {
   "cell_type": "code",
   "execution_count": null,
   "id": "29c0bc8f",
   "metadata": {},
   "outputs": [],
   "source": [
    "df_meta = pd.merge(\n",
    "    df_meta, \n",
    "    df_ras[['Gene name']], \n",
    "    left_on='Hugo_Symbol', \n",
    "    right_on='Gene name', \n",
    "    how='left',\n",
    ").rename(columns={\"Gene name\": \"is_RAS_path\"})"
   ]
  },
  {
   "cell_type": "code",
   "execution_count": null,
   "id": "44200047",
   "metadata": {},
   "outputs": [],
   "source": [
    "df_meta"
   ]
  },
  {
   "cell_type": "code",
   "execution_count": null,
   "id": "af5fe9c6",
   "metadata": {},
   "outputs": [],
   "source": [
    "bmask = df_meta['is_RAS_path'].isnull()\n",
    "df_meta.loc[~bmask, 'is_RAS_path'] = 1\n",
    "df_meta.loc[bmask, 'is_RAS_path'] = 0"
   ]
  },
  {
   "cell_type": "code",
   "execution_count": null,
   "id": "4873ac28",
   "metadata": {},
   "outputs": [],
   "source": [
    "df_meta[df_meta['is_RAS_path']==1]"
   ]
  },
  {
   "cell_type": "code",
   "execution_count": null,
   "id": "eb499a7a",
   "metadata": {},
   "outputs": [],
   "source": [
    "df_ras"
   ]
  },
  {
   "cell_type": "code",
   "execution_count": null,
   "id": "3198c429",
   "metadata": {},
   "outputs": [],
   "source": [
    "df_meta.to_csv('pmi_svd_gene_cna_meta.tsv', sep='\\t', index=False)"
   ]
  },
  {
   "cell_type": "code",
   "execution_count": null,
   "id": "37ce8464",
   "metadata": {},
   "outputs": [],
   "source": []
  },
  {
   "cell_type": "code",
   "execution_count": null,
   "id": "5b458f72",
   "metadata": {},
   "outputs": [],
   "source": []
  },
  {
   "cell_type": "code",
   "execution_count": null,
   "id": "bed9cf02",
   "metadata": {},
   "outputs": [],
   "source": [
    "set(df_ras['Gene name']) - set(df_meta['Hugo_Symbol'])"
   ]
  },
  {
   "cell_type": "code",
   "execution_count": null,
   "id": "5951b252",
   "metadata": {},
   "outputs": [],
   "source": []
  },
  {
   "cell_type": "code",
   "execution_count": null,
   "id": "778d17a4",
   "metadata": {},
   "outputs": [],
   "source": [
    "df_meta['Hugo_Symbol'].isin(['DHFR']).sum()"
   ]
  },
  {
   "cell_type": "code",
   "execution_count": null,
   "id": "6b399078",
   "metadata": {},
   "outputs": [],
   "source": []
  },
  {
   "cell_type": "code",
   "execution_count": null,
   "id": "f4499f11",
   "metadata": {},
   "outputs": [],
   "source": []
  },
  {
   "cell_type": "code",
   "execution_count": null,
   "id": "a2ce9e86",
   "metadata": {},
   "outputs": [],
   "source": []
  }
 ],
 "metadata": {
  "kernelspec": {
   "display_name": "Python 3 (ipykernel)",
   "language": "python",
   "name": "python3"
  },
  "language_info": {
   "codemirror_mode": {
    "name": "ipython",
    "version": 3
   },
   "file_extension": ".py",
   "mimetype": "text/x-python",
   "name": "python",
   "nbconvert_exporter": "python",
   "pygments_lexer": "ipython3",
   "version": "3.10.6"
  }
 },
 "nbformat": 4,
 "nbformat_minor": 5
}
