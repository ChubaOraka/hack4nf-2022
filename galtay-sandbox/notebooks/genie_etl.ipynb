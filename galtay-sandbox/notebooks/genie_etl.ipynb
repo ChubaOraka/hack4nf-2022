{
 "cells": [
  {
   "cell_type": "markdown",
   "id": "7872be71",
   "metadata": {},
   "source": [
    "# Explore some GENIE data\n",
    "\n",
    "## Data Explanation\n",
    "\n",
    "* https://docs.gdc.cancer.gov/Data/File_Formats/MAF_Format/\n",
    "* https://docs.cbioportal.org/file-formats/#mutation-data\n",
    "* https://docs.cbioportal.org/file-formats/#discrete-copy-number-data\n",
    "\n",
    "## GENIE Datasets\n",
    "\n",
    "* GENIE 13.3 consortium https://www.synapse.org/#!Synapse:syn36709873\n",
    "  * data_clinical_patient https://www.synapse.org/#!Synapse:syn36710136\n",
    "  * data_clinical_sample https://www.synapse.org/#!Synapse:syn36710137\n",
    "  * data_mutations_extended https://www.synapse.org/#!Synapse:syn36710142\n",
    "  * data_CNA https://www.synapse.org/#!Synapse:syn36710134\n",
    "* GENIE 12.0 public https://www.synapse.org/#!Synapse:syn32309524\n",
    "  * data_clinical_patient https://www.synapse.org/#!Synapse:syn32689054\n",
    "  * data_clinical_sample https://www.synapse.org/#!Synapse:syn32689057\n",
    "  * data_mutations_extended https://www.synapse.org/#!Synapse:syn32689317\n",
    "  * data_CNA https://www.synapse.org/#!Synapse:syn32689019"
   ]
  },
  {
   "cell_type": "code",
   "execution_count": null,
   "id": "48ab25fe",
   "metadata": {},
   "outputs": [],
   "source": [
    "SYNIDS = {\n",
    "    \"genie_13.3\": {\n",
    "        \"data_clinical_patient\": \"syn36710136\",\n",
    "        \"data_clinical_sample\": \"syn36710137\",\n",
    "        \"data_mutations_extended\": \"syn36710142\",\n",
    "        \"data_CNA\": \"syn36710134\",\n",
    "    },\n",
    "    \"genie_12.0\": {\n",
    "        \"data_clinical_patient\": \"syn32689054\",\n",
    "        \"data_clinical_sample\": \"syn32689057\",\n",
    "        \"data_mutations_extended\": \"syn32689317\",\n",
    "        \"data_CNA\": \"syn32689019\",    \n",
    "    }\n",
    "}"
   ]
  },
  {
   "cell_type": "code",
   "execution_count": null,
   "id": "ef119598",
   "metadata": {},
   "outputs": [],
   "source": [
    "import json\n",
    "from pathlib import Path\n",
    "import sys\n",
    "from timeit import default_timer\n",
    "\n",
    "import numpy as np\n",
    "import pandas as pd\n",
    "from pandas_profiling import ProfileReport\n",
    "import plotly.express as px"
   ]
  },
  {
   "cell_type": "code",
   "execution_count": null,
   "id": "18d7aed0",
   "metadata": {},
   "outputs": [],
   "source": [
    "from hack4nf.synapse import get_dataset\n",
    "from hack4nf.genie_reader import (\n",
    "    read_clinical_patient, \n",
    "    read_clinical_sample, \n",
    "    read_mutations_extended,\n",
    "    read_cna,\n",
    ")"
   ]
  },
  {
   "cell_type": "code",
   "execution_count": null,
   "id": "f35eb01d",
   "metadata": {},
   "outputs": [],
   "source": [
    "from IPython.display import display, HTML\n",
    "display(HTML(\"<style>.container { width:100% !important; }</style>\"))"
   ]
  },
  {
   "cell_type": "code",
   "execution_count": null,
   "id": "ab2526a8",
   "metadata": {},
   "outputs": [],
   "source": [
    "pd.set_option('display.max_columns', 50)"
   ]
  },
  {
   "cell_type": "code",
   "execution_count": null,
   "id": "214c7d41",
   "metadata": {},
   "outputs": [],
   "source": [
    "genie_dataset_version = \"genie_12.0\""
   ]
  },
  {
   "cell_type": "markdown",
   "id": "3b1307d8",
   "metadata": {},
   "source": [
    "# Data Clinical Patient"
   ]
  },
  {
   "cell_type": "code",
   "execution_count": null,
   "id": "c228cf6c",
   "metadata": {},
   "outputs": [],
   "source": [
    "syn_file = get_dataset(SYNIDS[genie_dataset_version]['data_clinical_patient'])\n",
    "df_dcp = read_clinical_patient(syn_file.path)\n",
    "profile_dcp = ProfileReport(df_dcp, title=\"Data Clinical Patient\", minimal=True)\n",
    "profile_dcp.to_notebook_iframe()"
   ]
  },
  {
   "cell_type": "markdown",
   "id": "00093aa6",
   "metadata": {},
   "source": [
    "# Data Clinical Sample"
   ]
  },
  {
   "cell_type": "code",
   "execution_count": null,
   "id": "8735bd6f",
   "metadata": {},
   "outputs": [],
   "source": [
    "syn_file = get_dataset(SYNIDS[genie_dataset_version]['data_clinical_sample'])\n",
    "df_dcs = read_clinical_sample(syn_file.path)\n",
    "profile_dcs = ProfileReport(df_dcs, title=\"Data Clinical Sample\", minimal=True)\n",
    "profile_dcs.to_notebook_iframe()"
   ]
  },
  {
   "cell_type": "markdown",
   "id": "bfcfb84a",
   "metadata": {},
   "source": [
    "# Data Mutations Extended"
   ]
  },
  {
   "cell_type": "code",
   "execution_count": null,
   "id": "b4c51dfe",
   "metadata": {
    "scrolled": false
   },
   "outputs": [],
   "source": [
    "syn_file = get_dataset(SYNIDS[genie_dataset_version]['data_mutations_extended'])\n",
    "df_dme = read_mutations_extended(syn_file.path)\n",
    "profile_dme = ProfileReport(df_dme, title=\"Data Mutations Extended\", minimal=True)\n",
    "profile_dme.to_notebook_iframe()"
   ]
  },
  {
   "cell_type": "code",
   "execution_count": null,
   "id": "746d3f8c",
   "metadata": {},
   "outputs": [],
   "source": []
  },
  {
   "cell_type": "code",
   "execution_count": null,
   "id": "a31b749b",
   "metadata": {},
   "outputs": [],
   "source": []
  },
  {
   "cell_type": "code",
   "execution_count": null,
   "id": "44d93093",
   "metadata": {},
   "outputs": [],
   "source": [
    "df_dcp"
   ]
  },
  {
   "cell_type": "code",
   "execution_count": null,
   "id": "ea41e18c",
   "metadata": {},
   "outputs": [],
   "source": [
    "df_dcs"
   ]
  },
  {
   "cell_type": "code",
   "execution_count": null,
   "id": "2775b00d",
   "metadata": {},
   "outputs": [],
   "source": [
    "oncotree_codes = [\"NST\", \"GNBL\", \"GN\", \"NBL\", \"SCHW\", \"NFIB\", \"MPNST\"]\n",
    "df_dcs[df_dcs['ONCOTREE_CODE'].isin(oncotree_codes)]"
   ]
  },
  {
   "cell_type": "code",
   "execution_count": null,
   "id": "437a8151",
   "metadata": {},
   "outputs": [],
   "source": []
  },
  {
   "cell_type": "code",
   "execution_count": null,
   "id": "4e6f9ec7",
   "metadata": {},
   "outputs": [],
   "source": [
    "df_dme"
   ]
  },
  {
   "cell_type": "code",
   "execution_count": null,
   "id": "593dee52",
   "metadata": {},
   "outputs": [],
   "source": [
    "dme_cols = [\n",
    "    'Tumor_Sample_Barcode', 'Hugo_Symbol', 'Chromosome', \n",
    "    'Variant_Classification', 'Variant_Type',\n",
    "    't_ref_count', 't_alt_count',\n",
    "    'n_depth', 't_depth',\n",
    "    'dbSNP_RS', 'HGVSp_Short', \n",
    "    'Protein_position', 'Codons', 'Exon_Number',\n",
    "    'Polyphen_Prediction', 'Polyphen_Score',\n",
    "    'SIFT_Prediction', 'SIFT_Score',\n",
    "       ]\n",
    "df_dme[dme_cols]"
   ]
  },
  {
   "cell_type": "code",
   "execution_count": null,
   "id": "ae127663",
   "metadata": {},
   "outputs": [],
   "source": [
    "df_dme_nf = df_dme[df_dme['Hugo_Symbol'].isin([\"NF1\", \"NF2\", \"SMARCB1\", \"LZTR1\"])]\n",
    "df_dme_nf[dme_cols]"
   ]
  },
  {
   "cell_type": "code",
   "execution_count": null,
   "id": "b6fb1132",
   "metadata": {},
   "outputs": [],
   "source": [
    "assert df_dme['Tumor_Sample_Barcode'].isin(df_dcs['SAMPLE_ID']).all()"
   ]
  },
  {
   "cell_type": "code",
   "execution_count": null,
   "id": "f608e921",
   "metadata": {},
   "outputs": [],
   "source": [
    "df_dme_nf['HGVSp_Short'].value_counts().head(20)"
   ]
  },
  {
   "cell_type": "code",
   "execution_count": null,
   "id": "1425eb67",
   "metadata": {},
   "outputs": [],
   "source": []
  },
  {
   "cell_type": "code",
   "execution_count": null,
   "id": "ce4eb1c0",
   "metadata": {},
   "outputs": [],
   "source": []
  },
  {
   "cell_type": "code",
   "execution_count": null,
   "id": "10d9f92a",
   "metadata": {},
   "outputs": [],
   "source": [
    "df_mrg = pd.merge(df_dme[dme_cols], df_dcs, left_on='Tumor_Sample_Barcode', right_on='SAMPLE_ID')"
   ]
  },
  {
   "cell_type": "code",
   "execution_count": null,
   "id": "11499344",
   "metadata": {},
   "outputs": [],
   "source": [
    "df_mrg"
   ]
  },
  {
   "cell_type": "markdown",
   "id": "2953dea7",
   "metadata": {},
   "source": [
    "# What are the oncotree codes for NF related GENES? "
   ]
  },
  {
   "cell_type": "code",
   "execution_count": null,
   "id": "b5e64a54",
   "metadata": {},
   "outputs": [],
   "source": [
    "df_mrg[df_mrg['Hugo_Symbol'].isin([\"NF1\"])]['ONCOTREE_CODE'].value_counts()"
   ]
  },
  {
   "cell_type": "code",
   "execution_count": null,
   "id": "7f853845",
   "metadata": {},
   "outputs": [],
   "source": [
    "df_mrg[df_mrg['Hugo_Symbol'].isin([\"NF2\"])]['ONCOTREE_CODE'].value_counts()"
   ]
  },
  {
   "cell_type": "code",
   "execution_count": null,
   "id": "70dbef6b",
   "metadata": {},
   "outputs": [],
   "source": [
    "df_mrg[df_mrg['Hugo_Symbol'].isin([\"SMARCB1\"])]['ONCOTREE_CODE'].value_counts()"
   ]
  },
  {
   "cell_type": "code",
   "execution_count": null,
   "id": "b2ffa2e7",
   "metadata": {},
   "outputs": [],
   "source": [
    "df_mrg[df_mrg['Hugo_Symbol'].isin([\"LZTR1\"])]['ONCOTREE_CODE'].value_counts()"
   ]
  },
  {
   "cell_type": "markdown",
   "id": "d7e6eb2d",
   "metadata": {},
   "source": [
    "# What are the GENES for NF oncotree codes? "
   ]
  },
  {
   "cell_type": "code",
   "execution_count": null,
   "id": "4a5901a9",
   "metadata": {},
   "outputs": [],
   "source": [
    "df_mrg[df_mrg['ONCOTREE_CODE'].isin(oncotree_codes)]['Hugo_Symbol'].value_counts()"
   ]
  },
  {
   "cell_type": "markdown",
   "id": "bcbbed56",
   "metadata": {},
   "source": [
    "# Random"
   ]
  },
  {
   "cell_type": "code",
   "execution_count": null,
   "id": "630937ac",
   "metadata": {},
   "outputs": [],
   "source": [
    "df_dme.groupby('Tumor_Sample_Barcode').size().sort_values()"
   ]
  },
  {
   "cell_type": "code",
   "execution_count": null,
   "id": "4e790298",
   "metadata": {},
   "outputs": [],
   "source": [
    "df_dme[df_dme['Tumor_Sample_Barcode']=='GENIE-UHN-692643-ARC2'][dme_cols].head(20)"
   ]
  },
  {
   "cell_type": "code",
   "execution_count": null,
   "id": "c32e2fe0",
   "metadata": {},
   "outputs": [],
   "source": [
    "syn_file = get_dataset(SYNIDS[genie_dataset_version]['data_CNA'])\n",
    "df_dcna = read_cna(syn_file.path)"
   ]
  },
  {
   "cell_type": "code",
   "execution_count": null,
   "id": "db1e4238",
   "metadata": {},
   "outputs": [],
   "source": [
    "df_dcna"
   ]
  },
  {
   "cell_type": "code",
   "execution_count": null,
   "id": "e3d30d74",
   "metadata": {},
   "outputs": [],
   "source": [
    "(~df_dcna['GENIE-DFCI-009184-6622'].isna()).sum()"
   ]
  },
  {
   "cell_type": "code",
   "execution_count": null,
   "id": "8790b966",
   "metadata": {},
   "outputs": [],
   "source": [
    "df_dcna.loc[[\"NF1\", \"NF2\", \"SMARCB1\", \"LZTR1\"]]"
   ]
  },
  {
   "cell_type": "code",
   "execution_count": null,
   "id": "9f2924e2",
   "metadata": {},
   "outputs": [],
   "source": [
    "vals = df_dcna.values[~np.isnan(df_dcna.values)]"
   ]
  },
  {
   "cell_type": "code",
   "execution_count": null,
   "id": "969ed35f",
   "metadata": {},
   "outputs": [],
   "source": []
  }
 ],
 "metadata": {
  "kernelspec": {
   "display_name": "Python 3 (ipykernel)",
   "language": "python",
   "name": "python3"
  },
  "language_info": {
   "codemirror_mode": {
    "name": "ipython",
    "version": 3
   },
   "file_extension": ".py",
   "mimetype": "text/x-python",
   "name": "python",
   "nbconvert_exporter": "python",
   "pygments_lexer": "ipython3",
   "version": "3.10.6"
  }
 },
 "nbformat": 4,
 "nbformat_minor": 5
}
