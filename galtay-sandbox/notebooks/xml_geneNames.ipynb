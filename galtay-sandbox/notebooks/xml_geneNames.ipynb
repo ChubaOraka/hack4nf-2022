{
 "cells": [
  {
   "cell_type": "code",
   "execution_count": 10,
   "id": "b185c13c",
   "metadata": {},
   "outputs": [],
   "source": [
    "import pandas as pd"
   ]
  },
  {
   "cell_type": "code",
   "execution_count": 64,
   "id": "8af2f884",
   "metadata": {},
   "outputs": [
    {
     "data": {
      "text/plain": [
       "{'ID=\"ProteinReference1': ['UniProt:P21359 NF1', 'NF1'],\n",
       " 'ID=\"ProteinReference2': ['UniProt:Q7Z699 SPRED1', 'SPRED1'],\n",
       " 'ID=\"ProteinReference3': ['UniProt:Q7Z698 SPRED2', 'SPRED2'],\n",
       " 'ID=\"ProteinReference4': ['UniProt:Q2MJR0 SPRED3', 'SPRED3', 'EVE-3'],\n",
       " 'ID=\"ProteinReference5': ['UniProt:P01116-1 KRAS', 'KRAS', 'KRAS2', 'RASK2'],\n",
       " 'ID=\"ProteinReference6': ['UniProt:P01111 NRAS', 'NRAS', 'HRAS1'],\n",
       " 'ID=\"ProteinReference7': ['UniProt:P01112 HRAS', 'HRAS', 'HRAS1'],\n",
       " 'ID=\"ProteinReference8': ['UniProt:P01116-2 KRAS', 'KRAS', 'KRAS2', 'RASK2']}"
      ]
     },
     "execution_count": 64,
     "metadata": {},
     "output_type": "execute_result"
    }
   ],
   "source": [
    "__xml = '6802953.xml' #filename\n",
    "_xml = open(__xml).read()\n",
    "xml = _xml.split('\\n')\n",
    "homogNames = {}\n",
    "\n",
    "for line in xml:\n",
    "     if '<bp:ProteinReference' in line:\n",
    "         ID = line[line.index('ID'):line.index('\">')]\n",
    "         homogNames[ID] = []\n",
    "         i = xml.index(line)   + 1 \n",
    "        \n",
    "         while '</bp:ProteinReference>' not in xml[i]: #in the \"protein reference\" section only:\n",
    "                \n",
    "            if '<bp:name' in xml[i]: #for anything labeled as a \"name\" in the protein reference section\n",
    "                a = xml[i].index('>')\n",
    "                b = xml[i].index('</')\n",
    "                homogNames[ID].append(xml[i][a+1:b])\n",
    "            i = i + 1 #do this for every line within the protein reference section\n",
    "homogNames\n"
   ]
  },
  {
   "cell_type": "code",
   "execution_count": null,
   "id": "7917a76f",
   "metadata": {},
   "outputs": [],
   "source": []
  },
  {
   "cell_type": "code",
   "execution_count": null,
   "id": "ff692b17",
   "metadata": {},
   "outputs": [],
   "source": []
  },
  {
   "cell_type": "code",
   "execution_count": null,
   "id": "806da330",
   "metadata": {},
   "outputs": [],
   "source": []
  }
 ],
 "metadata": {
  "kernelspec": {
   "display_name": "Python 3 (ipykernel)",
   "language": "python",
   "name": "python3"
  },
  "language_info": {
   "codemirror_mode": {
    "name": "ipython",
    "version": 3
   },
   "file_extension": ".py",
   "mimetype": "text/x-python",
   "name": "python",
   "nbconvert_exporter": "python",
   "pygments_lexer": "ipython3",
   "version": "3.9.13"
  }
 },
 "nbformat": 4,
 "nbformat_minor": 5
}
