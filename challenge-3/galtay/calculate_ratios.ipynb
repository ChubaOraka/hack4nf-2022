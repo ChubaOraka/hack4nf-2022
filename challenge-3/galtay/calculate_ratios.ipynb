{
 "cells": [
  {
   "cell_type": "code",
   "execution_count": null,
   "id": "85879691",
   "metadata": {},
   "outputs": [],
   "source": [
    "from collections import Counter\n",
    "from glob import glob\n",
    "import os\n",
    "from pathlib import Path\n",
    "\n",
    "from loguru import logger\n",
    "import numpy as np\n",
    "import pandas as pd\n",
    "import plotly.express as px\n",
    "import toml\n",
    "\n",
    "import single_agent_screens as sas"
   ]
  },
  {
   "cell_type": "code",
   "execution_count": null,
   "id": "0c995aa4",
   "metadata": {},
   "outputs": [],
   "source": [
    "from IPython.display import display, HTML\n",
    "display(HTML(\"<style>.container { width:100% !important; }</style>\"))"
   ]
  },
  {
   "cell_type": "markdown",
   "id": "2bc7b039",
   "metadata": {},
   "source": [
    "# Read Config"
   ]
  },
  {
   "cell_type": "code",
   "execution_count": null,
   "id": "254d715b",
   "metadata": {},
   "outputs": [],
   "source": [
    "config_file_path = \"sas_config.toml\"\n",
    "with open(config_file_path, \"r\") as fp:\n",
    "    config = toml.load(fp)"
   ]
  },
  {
   "cell_type": "markdown",
   "id": "fb8b08d0",
   "metadata": {},
   "source": [
    "# Read and Analyze Single Agent Screens"
   ]
  },
  {
   "cell_type": "code",
   "execution_count": null,
   "id": "fb1d5c40",
   "metadata": {},
   "outputs": [],
   "source": [
    "df_drugs, df_missing, df_all, df_report = sas.main(config)"
   ]
  },
  {
   "cell_type": "markdown",
   "id": "7ff888a5",
   "metadata": {},
   "source": [
    "# Show All Drugs\n",
    "\n",
    "One row per compound (i.e. drug) tested. \n",
    "\n",
    "* NCGC SID: unique compound id\n",
    "* name: name of compound\n",
    "* target: target of compound"
   ]
  },
  {
   "cell_type": "code",
   "execution_count": null,
   "id": "71646e84",
   "metadata": {},
   "outputs": [],
   "source": [
    "df_drugs"
   ]
  },
  {
   "cell_type": "markdown",
   "id": "0d41b38d",
   "metadata": {},
   "source": [
    "# Examine Missingness in response curves\n",
    "\n",
    "Some compounds / curves do not have fit parameters (R2, AC50, LAC50) or targets. "
   ]
  },
  {
   "cell_type": "code",
   "execution_count": null,
   "id": "50a4b853",
   "metadata": {},
   "outputs": [],
   "source": [
    "px.bar(df_missing, x='cell_line', y='frac_missing', color='variable', barmode='group')"
   ]
  },
  {
   "cell_type": "markdown",
   "id": "ab0314cc",
   "metadata": {},
   "source": [
    "# Examine ALL \n",
    "\n",
    "One row per (cell line, compound) tuple. There are 1,912 compounds. "
   ]
  },
  {
   "cell_type": "code",
   "execution_count": null,
   "id": "b204de21",
   "metadata": {},
   "outputs": [],
   "source": [
    "df_all"
   ]
  },
  {
   "cell_type": "code",
   "execution_count": null,
   "id": "27c34647",
   "metadata": {},
   "outputs": [],
   "source": [
    "df_all['Cell line'].value_counts()"
   ]
  },
  {
   "cell_type": "code",
   "execution_count": null,
   "id": "155501a0",
   "metadata": {},
   "outputs": [],
   "source": [
    "1912 * 9"
   ]
  },
  {
   "cell_type": "code",
   "execution_count": null,
   "id": "a1caf7d0",
   "metadata": {
    "scrolled": false
   },
   "outputs": [],
   "source": [
    "# Examine one compound for all cell lines\n",
    "df_all[df_all['name']=='GDC-0068'].sort_values('Cell line')"
   ]
  },
  {
   "cell_type": "code",
   "execution_count": null,
   "id": "b751ec52",
   "metadata": {},
   "outputs": [],
   "source": [
    "# Examine one cell line for all compounds\n",
    "df_all[df_all['Cell line']=='ipNF02.8'].sort_values('name')"
   ]
  },
  {
   "cell_type": "markdown",
   "id": "aa275aa4",
   "metadata": {},
   "source": [
    "# Examine Distributions and Response Curves"
   ]
  },
  {
   "cell_type": "markdown",
   "id": "f8c54a24",
   "metadata": {},
   "source": [
    "### Example Response Curves"
   ]
  },
  {
   "cell_type": "code",
   "execution_count": null,
   "id": "7ec9417d",
   "metadata": {},
   "outputs": [],
   "source": [
    "xcols = [f\"C{i}\" for i in range(11)]\n",
    "ycols = [f\"DATA{i}\" for i in range(11)]"
   ]
  },
  {
   "cell_type": "code",
   "execution_count": null,
   "id": "3fbc590a",
   "metadata": {},
   "outputs": [],
   "source": [
    "df_all[\"irow\"] = range(df_all.shape[0])"
   ]
  },
  {
   "cell_type": "code",
   "execution_count": null,
   "id": "b2a21ba2",
   "metadata": {},
   "outputs": [],
   "source": [
    "df_all[df_all[\"R2\"]<0.4]"
   ]
  },
  {
   "cell_type": "code",
   "execution_count": null,
   "id": "a4b34791",
   "metadata": {},
   "outputs": [],
   "source": [
    "ii = 47\n",
    "print(df_all.iloc[ii][\"R2\"])\n",
    "px.line(x=df_all.iloc[ii][xcols], y=df_all.iloc[ii][ycols], log_x=True)"
   ]
  },
  {
   "cell_type": "code",
   "execution_count": null,
   "id": "498ffa77",
   "metadata": {},
   "outputs": [],
   "source": [
    "ii = 0\n",
    "print(df_all.iloc[ii][\"R2\"])\n",
    "px.line(x=df_all.iloc[ii][xcols], y=df_all.iloc[ii][ycols], log_x=True)"
   ]
  },
  {
   "cell_type": "code",
   "execution_count": null,
   "id": "d7a91af7",
   "metadata": {},
   "outputs": [],
   "source": [
    "ii = 1001\n",
    "print(df_all.iloc[ii][\"R2\"])\n",
    "px.line(x=df_all.iloc[ii][xcols], y=df_all.iloc[ii][ycols], log_x=True)"
   ]
  },
  {
   "cell_type": "code",
   "execution_count": null,
   "id": "b776e9dd",
   "metadata": {},
   "outputs": [],
   "source": [
    "ii = 1005\n",
    "print(df_all.iloc[ii][\"R2\"])\n",
    "px.line(x=df_all.iloc[ii][xcols], y=df_all.iloc[ii][ycols], log_x=True)"
   ]
  },
  {
   "cell_type": "code",
   "execution_count": null,
   "id": "ad1fde8e",
   "metadata": {},
   "outputs": [],
   "source": [
    "ii = 10\n",
    "print(df_all.iloc[ii][\"R2\"])\n",
    "px.line(x=df_all.iloc[ii][xcols], y=df_all.iloc[ii][ycols], log_x=True)"
   ]
  },
  {
   "cell_type": "markdown",
   "id": "c67ec0b4",
   "metadata": {},
   "source": [
    "### R2 Distribution"
   ]
  },
  {
   "cell_type": "code",
   "execution_count": null,
   "id": "a8e4e9cd",
   "metadata": {},
   "outputs": [],
   "source": [
    "px.histogram(df_all['R2'])"
   ]
  },
  {
   "cell_type": "markdown",
   "id": "7e7a0468",
   "metadata": {},
   "source": [
    "### LAC50 Distribution"
   ]
  },
  {
   "cell_type": "code",
   "execution_count": null,
   "id": "0bafed28",
   "metadata": {
    "scrolled": false
   },
   "outputs": [],
   "source": [
    "px.histogram(df_all['LAC50'])"
   ]
  },
  {
   "cell_type": "markdown",
   "id": "c574eeeb",
   "metadata": {},
   "source": [
    "# Resistance vs Sensitivity\n",
    "\n",
    "Note that,\n",
    "\n",
    "resistance = AC50_probe_line / AC50_norm_line\n",
    "\n",
    "sensitivity = AC50_norm_line / AC50_probe_line\n",
    "\n",
    "log(resistance) = -log(sensitivity)\n",
    "\n",
    "In our further analysis we'll just look at log(resistance)\n"
   ]
  },
  {
   "cell_type": "code",
   "execution_count": null,
   "id": "ca05fd08",
   "metadata": {},
   "outputs": [],
   "source": [
    "TOL = 1e-9\n",
    "for ncgc_sid, row in df_all.iterrows():\n",
    "    for norm_line in [\"ipnNF95.11C\", \"HFF-1\"]:\n",
    "        if pd.isna(row[f'resis_log_{norm_line}']):\n",
    "            continue\n",
    "        if row[f'resis_log_{norm_line}'] + row[f'sensi_log_{norm_line}'] > TOL:\n",
    "            print(\"ouch\")\n",
    "            break"
   ]
  },
  {
   "cell_type": "code",
   "execution_count": null,
   "id": "20ff24e8",
   "metadata": {},
   "outputs": [],
   "source": [
    "px.histogram(df_all['resis_log_HFF-1'])"
   ]
  },
  {
   "cell_type": "code",
   "execution_count": null,
   "id": "754e494a",
   "metadata": {},
   "outputs": [],
   "source": [
    "px.histogram(df_all['resis_log_ipnNF95.11C'])"
   ]
  },
  {
   "cell_type": "markdown",
   "id": "71d47811",
   "metadata": {},
   "source": [
    "# Examine Report\n",
    "\n",
    "One row per (compound, quantity, norm_cell_line) where quantity is in (\"resis\", \"sensi\")"
   ]
  },
  {
   "cell_type": "code",
   "execution_count": null,
   "id": "69e14533",
   "metadata": {},
   "outputs": [],
   "source": [
    "df_report"
   ]
  },
  {
   "cell_type": "code",
   "execution_count": null,
   "id": "753a62ba",
   "metadata": {},
   "outputs": [],
   "source": [
    "# Note that in log space resis = -sensi\n",
    "df_report[df_report['name']=='GDC-0068'].sort_values(\"norm_cell_line\")"
   ]
  },
  {
   "cell_type": "code",
   "execution_count": null,
   "id": "bc3abf7d",
   "metadata": {},
   "outputs": [],
   "source": [
    "df = df_report[\n",
    "    (df_report['quantity']=='resis') & \n",
    "    (df_report['norm_cell_line']=='ipnNF95.11C') & \n",
    "    (df_report['name']=='GDC-0068')\n",
    "]"
   ]
  },
  {
   "cell_type": "code",
   "execution_count": null,
   "id": "e65b0a9a",
   "metadata": {},
   "outputs": [],
   "source": [
    "df"
   ]
  },
  {
   "cell_type": "markdown",
   "id": "9a600a35",
   "metadata": {},
   "source": [
    "# Report Plots"
   ]
  },
  {
   "cell_type": "code",
   "execution_count": null,
   "id": "61eecca2",
   "metadata": {},
   "outputs": [],
   "source": [
    "id_cols = [\"NCGC SID\", \"name\", \"target\", \"norm_cell_line\"]\n",
    "val_cols = [col for col in df_report.columns if col.startswith(\"log\")]\n",
    "cols = id_cols + val_cols"
   ]
  },
  {
   "cell_type": "code",
   "execution_count": null,
   "id": "75edbdf6",
   "metadata": {},
   "outputs": [],
   "source": [
    "cols"
   ]
  },
  {
   "cell_type": "code",
   "execution_count": null,
   "id": "6d6d80ea",
   "metadata": {},
   "outputs": [],
   "source": [
    "df_plt = df_report[\n",
    "    (df_report['quantity']=='resis')\n",
    "][cols]"
   ]
  },
  {
   "cell_type": "code",
   "execution_count": null,
   "id": "a90a8cca",
   "metadata": {},
   "outputs": [],
   "source": [
    "df_plt"
   ]
  },
  {
   "cell_type": "code",
   "execution_count": null,
   "id": "3f8d920b",
   "metadata": {},
   "outputs": [],
   "source": [
    "df_plt = df_plt.melt(id_vars=id_cols, value_vars=val_cols)"
   ]
  },
  {
   "cell_type": "code",
   "execution_count": null,
   "id": "97e79138",
   "metadata": {},
   "outputs": [],
   "source": [
    "df_plt"
   ]
  },
  {
   "cell_type": "code",
   "execution_count": null,
   "id": "914a6d09",
   "metadata": {},
   "outputs": [],
   "source": [
    "df_plt = df_plt.rename(columns={\n",
    "    \"value\": \"Log10 (AC50_probe/AC50_norm)\", \n",
    "    \"variable\": \"probe cell line\", \n",
    "    \"norm_cell_line\": \"norm cell line\",\n",
    "})"
   ]
  },
  {
   "cell_type": "code",
   "execution_count": null,
   "id": "ec83a235",
   "metadata": {},
   "outputs": [],
   "source": [
    "df_plt"
   ]
  },
  {
   "cell_type": "code",
   "execution_count": null,
   "id": "3a4fc289",
   "metadata": {},
   "outputs": [],
   "source": [
    "df_plt[df_plt['name']=='SAG']"
   ]
  },
  {
   "cell_type": "code",
   "execution_count": null,
   "id": "eb1a3c38",
   "metadata": {},
   "outputs": [],
   "source": [
    "df_plt['drug'] = df_plt[\"name\"] + \" | \" + df_plt[\"target\"].astype(str)"
   ]
  },
  {
   "cell_type": "code",
   "execution_count": null,
   "id": "f9eab89e",
   "metadata": {},
   "outputs": [],
   "source": [
    "df_plt[\"drug mean\"] = df_plt.groupby([\"NCGC SID\", \"norm cell line\"])[\"Log10 (AC50_probe/AC50_norm)\"].transform(\"mean\")"
   ]
  },
  {
   "cell_type": "code",
   "execution_count": null,
   "id": "e4f84c43",
   "metadata": {},
   "outputs": [],
   "source": [
    "df_plt[\"target mean\"] = df_plt.groupby([\"target\", \"norm cell line\"])[\"Log10 (AC50_probe/AC50_norm)\"].transform(\"mean\")"
   ]
  },
  {
   "cell_type": "code",
   "execution_count": null,
   "id": "e8640033",
   "metadata": {},
   "outputs": [],
   "source": [
    "df_plt = df_plt.sort_values([\"norm cell line\", \"target mean\"])"
   ]
  },
  {
   "cell_type": "code",
   "execution_count": null,
   "id": "87b227af",
   "metadata": {},
   "outputs": [],
   "source": [
    "df_plt[df_plt['name']=='SAG']"
   ]
  },
  {
   "cell_type": "code",
   "execution_count": null,
   "id": "a4c633f5",
   "metadata": {},
   "outputs": [],
   "source": [
    "df_plt"
   ]
  },
  {
   "cell_type": "code",
   "execution_count": null,
   "id": "85a5be18",
   "metadata": {},
   "outputs": [],
   "source": [
    "fig = px.box(\n",
    "    df_plt,\n",
    "    x=\"Log10 (AC50_probe/AC50_norm)\",\n",
    "    #y=\"drug\",\n",
    "    hover_data=[\"probe cell line\", \"drug\"], \n",
    "    color=\"norm cell line\",\n",
    "    points=\"all\",\n",
    ")\n",
    "\n",
    "ac50_ratio_min = 1.5\n",
    "x = np.log10(ac50_ratio_min)\n",
    "fig = fig.add_vline(x=x, line_dash=\"dash\", line_color='black', line_width=1)\n",
    "fig = fig.add_vline(x=-x, line_dash=\"dash\", line_color='black', line_width=1)"
   ]
  },
  {
   "cell_type": "code",
   "execution_count": null,
   "id": "c92589a6",
   "metadata": {},
   "outputs": [],
   "source": [
    "fig.show()\n",
    "fig.write_html(\"hts_box_no_groups.html\")\n",
    "fig.write_image(\"hts_box_no_groups.png\")"
   ]
  },
  {
   "cell_type": "code",
   "execution_count": null,
   "id": "3beabf4f",
   "metadata": {},
   "outputs": [],
   "source": [
    "fig = px.box(\n",
    "    df_plt,\n",
    "    x=\"Log10 (AC50_probe/AC50_norm)\",\n",
    "    y=\"target\",\n",
    "    hover_data=[\"probe cell line\", \"drug\"], \n",
    "    color=\"norm cell line\",\n",
    "    points=\"all\",\n",
    "    height=10000,\n",
    "    width=1000,\n",
    ")\n",
    "\n",
    "fig.update_layout(yaxis_range=[-1,df_plt[\"target\"].nunique()])\n",
    "\n",
    "for y in range(df_plt[\"target\"].nunique()-1):\n",
    "    fig = fig.add_hline(y=y+0.5, line_width=1)\n",
    "\n",
    "ac50_ratio_min = 1.5\n",
    "x = np.log10(ac50_ratio_min)\n",
    "fig = fig.add_vline(x=x, line_dash=\"dash\", line_color='black', line_width=1)\n",
    "fig = fig.add_vline(x=-x, line_dash=\"dash\", line_color='black', line_width=1)\n",
    "\n",
    "fig = fig.update_yaxes(categoryorder='category descending')\n",
    "#fig.update_xaxes(categoryorder='array', categoryarray= ['d','a','c','b'])"
   ]
  },
  {
   "cell_type": "code",
   "execution_count": null,
   "id": "a1e9eb76",
   "metadata": {
    "scrolled": false
   },
   "outputs": [],
   "source": [
    "fig.show()\n",
    "fig.write_html(\"hts_box_target_groups.html\")\n",
    "fig.write_image(\"hts_box_target_groups.png\")"
   ]
  },
  {
   "cell_type": "code",
   "execution_count": null,
   "id": "a9ffc29b",
   "metadata": {},
   "outputs": [],
   "source": [
    "df_plt['target'].unique()"
   ]
  },
  {
   "cell_type": "code",
   "execution_count": null,
   "id": "3a84b3d2",
   "metadata": {
    "scrolled": false
   },
   "outputs": [],
   "source": [
    "for ii, target in enumerate(df_plt[\"target\"].unique()):\n",
    "    dfp = df_plt[df_plt[\"target\"]==target]\n",
    "    fig = px.box(\n",
    "        dfp, \n",
    "        x=\"Log10 (AC50_probe/AC50_norm)\", \n",
    "        y=\"drug\", \n",
    "        hover_data=[\"probe cell line\", \"drug mean\", \"target mean\"], \n",
    "        color=\"norm cell line\", \n",
    "        points=\"all\",\n",
    "        height=max(250, dfp['drug'].nunique()*80),\n",
    "        width=1000,\n",
    "    )\n",
    "    for y in range(dfp['drug'].nunique()-1):\n",
    "        fig = fig.add_hline(y=y+0.5, line_width=1)\n",
    "        \n",
    "    fig.update_layout(xaxis_range=[-4,4])\n",
    "           \n",
    "\n",
    "    x = np.log10(ac50_ratio_min)\n",
    "    fig = fig.add_vline(x=x, line_dash=\"dash\", line_color='black')\n",
    "    fig = fig.add_vline(x=-x, line_dash=\"dash\", line_color='black')\n",
    "    fig.show()\n",
    "    \n",
    "    if ii > 80:\n",
    "        break"
   ]
  },
  {
   "cell_type": "code",
   "execution_count": null,
   "id": "6ec623b6",
   "metadata": {},
   "outputs": [],
   "source": [
    "fig = px.strip(\n",
    "    df_plt, \n",
    "    x=\"value\", \n",
    "    y=\"drug\", \n",
    "    hover_data=[\"variable\", \"mean\"], \n",
    "    color=\"norm_cell_line\", \n",
    "    #points=\"all\",\n",
    "    height=35000,\n",
    "    width=1000,\n",
    ")\n",
    "\n",
    "ys = [y for y in range(df_plt['drug'].nunique()-1)]\n",
    "for ii, y in enumerate(ys):\n",
    "    fig = fig.add_hline(y=y+0.5)"
   ]
  },
  {
   "cell_type": "code",
   "execution_count": null,
   "id": "2492314b",
   "metadata": {
    "scrolled": false
   },
   "outputs": [],
   "source": [
    "print(ys)"
   ]
  },
  {
   "cell_type": "code",
   "execution_count": null,
   "id": "0a7e8bea",
   "metadata": {
    "scrolled": false
   },
   "outputs": [],
   "source": [
    "fig.show()"
   ]
  },
  {
   "cell_type": "code",
   "execution_count": null,
   "id": "ccf770dd",
   "metadata": {},
   "outputs": [],
   "source": [
    "fig.write_html(\"hts_strip_all.html\")"
   ]
  },
  {
   "cell_type": "code",
   "execution_count": null,
   "id": "cd7b2843",
   "metadata": {},
   "outputs": [],
   "source": [
    "!ls"
   ]
  },
  {
   "cell_type": "code",
   "execution_count": null,
   "id": "f8bbe164",
   "metadata": {},
   "outputs": [],
   "source": []
  }
 ],
 "metadata": {
  "kernelspec": {
   "display_name": "Python 3 (ipykernel)",
   "language": "python",
   "name": "python3"
  },
  "language_info": {
   "codemirror_mode": {
    "name": "ipython",
    "version": 3
   },
   "file_extension": ".py",
   "mimetype": "text/x-python",
   "name": "python",
   "nbconvert_exporter": "python",
   "pygments_lexer": "ipython3",
   "version": "3.10.8"
  }
 },
 "nbformat": 4,
 "nbformat_minor": 5
}
